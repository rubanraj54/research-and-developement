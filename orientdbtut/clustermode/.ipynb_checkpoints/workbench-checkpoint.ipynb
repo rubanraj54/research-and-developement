{
 "cells": [
  {
   "cell_type": "code",
   "execution_count": 1,
   "metadata": {
    "collapsed": true
   },
   "outputs": [],
   "source": [
    "import pyorient"
   ]
  },
  {
   "cell_type": "code",
   "execution_count": 2,
   "metadata": {},
   "outputs": [
    {
     "ename": "NameError",
     "evalue": "name 'client' is not defined",
     "output_type": "error",
     "traceback": [
      "\u001b[0;31m---------------------------------------------------------------------------\u001b[0m",
      "\u001b[0;31mNameError\u001b[0m                                 Traceback (most recent call last)",
      "\u001b[0;32m<ipython-input-2-99759f7f2d79>\u001b[0m in \u001b[0;36m<module>\u001b[0;34m()\u001b[0m\n\u001b[0;32m----> 1\u001b[0;31m \u001b[0;32mprint\u001b[0m \u001b[0mclient\u001b[0m\u001b[0;34m.\u001b[0m\u001b[0mdb_size\u001b[0m\u001b[0;34m(\u001b[0m\u001b[0;34m)\u001b[0m\u001b[0;34m\u001b[0m\u001b[0m\n\u001b[0m",
      "\u001b[0;31mNameError\u001b[0m: name 'client' is not defined"
     ]
    }
   ],
   "source": [
    "print client.db_size()"
   ]
  },
  {
   "cell_type": "code",
   "execution_count": 6,
   "metadata": {},
   "outputs": [
    {
     "name": "stdout",
     "output_type": "stream",
     "text": [
      "12450\n"
     ]
    }
   ],
   "source": [
    "print client.db_size()"
   ]
  },
  {
   "cell_type": "code",
   "execution_count": 6,
   "metadata": {},
   "outputs": [
    {
     "data": {
      "text/plain": [
       "1.0"
      ]
     },
     "execution_count": 6,
     "metadata": {},
     "output_type": "execute_result"
    }
   ],
   "source": [
    "1/1.0"
   ]
  },
  {
   "cell_type": "code",
   "execution_count": 2,
   "metadata": {},
   "outputs": [
    {
     "ename": "NameError",
     "evalue": "name 'client' is not defined",
     "output_type": "error",
     "traceback": [
      "\u001b[0;31m---------------------------------------------------------------------------\u001b[0m",
      "\u001b[0;31mNameError\u001b[0m                                 Traceback (most recent call last)",
      "\u001b[0;32m<ipython-input-2-7ef1c32a05cf>\u001b[0m in \u001b[0;36m<module>\u001b[0;34m()\u001b[0m\n\u001b[1;32m      1\u001b[0m \u001b[0;31m#note: cannot drop databsae if it is open\u001b[0m\u001b[0;34m\u001b[0m\u001b[0;34m\u001b[0m\u001b[0m\n\u001b[0;32m----> 2\u001b[0;31m \u001b[0mclient\u001b[0m\u001b[0;34m.\u001b[0m\u001b[0mdb_drop\u001b[0m\u001b[0;34m(\u001b[0m\u001b[0;34m\"Robots\"\u001b[0m\u001b[0;34m)\u001b[0m\u001b[0;34m\u001b[0m\u001b[0m\n\u001b[0m",
      "\u001b[0;31mNameError\u001b[0m: name 'client' is not defined"
     ]
    }
   ],
   "source": [
    "#note: cannot drop databsae if it is open\n",
    "client.db_drop(\"Robots\")"
   ]
  },
  {
   "cell_type": "code",
   "execution_count": 6,
   "metadata": {},
   "outputs": [
    {
     "data": {
      "text/plain": [
       "17"
      ]
     },
     "execution_count": 6,
     "metadata": {},
     "output_type": "execute_result"
    }
   ],
   "source": [
    "#step 1: connect to database\n",
    "client = pyorient.OrientDB(\"localhost\", 2424)\n",
    "client.connect(\"root\", \"admin\")"
   ]
  },
  {
   "cell_type": "code",
   "execution_count": 7,
   "metadata": {
    "collapsed": true
   },
   "outputs": [],
   "source": [
    "#step 2: create database if it not exists (create database before running tests)\n",
    "#client.db_create(\"Robots\", pyorient.DB_TYPE_GRAPH, pyorient.STORAGE_TYPE_MEMORY)"
   ]
  },
  {
   "cell_type": "code",
   "execution_count": 8,
   "metadata": {
    "scrolled": true
   },
   "outputs": [
    {
     "data": {
      "text/plain": [
       "[<pyorient.otypes.OrientCluster at 0x7fb36c066050>,\n",
       " <pyorient.otypes.OrientCluster at 0x7fb36c0660d0>,\n",
       " <pyorient.otypes.OrientCluster at 0x7fb36c066110>,\n",
       " <pyorient.otypes.OrientCluster at 0x7fb36c0662d0>,\n",
       " <pyorient.otypes.OrientCluster at 0x7fb36c066290>,\n",
       " <pyorient.otypes.OrientCluster at 0x7fb36c066210>,\n",
       " <pyorient.otypes.OrientCluster at 0x7fb36c066350>,\n",
       " <pyorient.otypes.OrientCluster at 0x7fb36c066310>,\n",
       " <pyorient.otypes.OrientCluster at 0x7fb36c066390>,\n",
       " <pyorient.otypes.OrientCluster at 0x7fb36c0663d0>,\n",
       " <pyorient.otypes.OrientCluster at 0x7fb36c066410>,\n",
       " <pyorient.otypes.OrientCluster at 0x7fb36c066450>,\n",
       " <pyorient.otypes.OrientCluster at 0x7fb36c066490>,\n",
       " <pyorient.otypes.OrientCluster at 0x7fb36c0664d0>,\n",
       " <pyorient.otypes.OrientCluster at 0x7fb36c066510>,\n",
       " <pyorient.otypes.OrientCluster at 0x7fb36c066550>,\n",
       " <pyorient.otypes.OrientCluster at 0x7fb36c066590>,\n",
       " <pyorient.otypes.OrientCluster at 0x7fb36c0665d0>,\n",
       " <pyorient.otypes.OrientCluster at 0x7fb36c066610>,\n",
       " <pyorient.otypes.OrientCluster at 0x7fb36c066650>,\n",
       " <pyorient.otypes.OrientCluster at 0x7fb36c066690>,\n",
       " <pyorient.otypes.OrientCluster at 0x7fb36c0666d0>,\n",
       " <pyorient.otypes.OrientCluster at 0x7fb36c066710>,\n",
       " <pyorient.otypes.OrientCluster at 0x7fb36c066750>,\n",
       " <pyorient.otypes.OrientCluster at 0x7fb36c066790>,\n",
       " <pyorient.otypes.OrientCluster at 0x7fb36c0667d0>,\n",
       " <pyorient.otypes.OrientCluster at 0x7fb36c066850>,\n",
       " <pyorient.otypes.OrientCluster at 0x7fb36c0668d0>,\n",
       " <pyorient.otypes.OrientCluster at 0x7fb36c066950>,\n",
       " <pyorient.otypes.OrientCluster at 0x7fb36c0669d0>,\n",
       " <pyorient.otypes.OrientCluster at 0x7fb36c066a50>,\n",
       " <pyorient.otypes.OrientCluster at 0x7fb36c066ad0>,\n",
       " <pyorient.otypes.OrientCluster at 0x7fb36c066b50>,\n",
       " <pyorient.otypes.OrientCluster at 0x7fb36c066bd0>,\n",
       " <pyorient.otypes.OrientCluster at 0x7fb36c066c10>,\n",
       " <pyorient.otypes.OrientCluster at 0x7fb36c066c50>,\n",
       " <pyorient.otypes.OrientCluster at 0x7fb36c066c90>,\n",
       " <pyorient.otypes.OrientCluster at 0x7fb36c066cd0>,\n",
       " <pyorient.otypes.OrientCluster at 0x7fb36c066d10>,\n",
       " <pyorient.otypes.OrientCluster at 0x7fb36c066d50>,\n",
       " <pyorient.otypes.OrientCluster at 0x7fb36c066d90>,\n",
       " <pyorient.otypes.OrientCluster at 0x7fb36c066dd0>,\n",
       " <pyorient.otypes.OrientCluster at 0x7fb36c066e10>,\n",
       " <pyorient.otypes.OrientCluster at 0x7fb36c066e50>,\n",
       " <pyorient.otypes.OrientCluster at 0x7fb36c066e90>,\n",
       " <pyorient.otypes.OrientCluster at 0x7fb36c066ed0>,\n",
       " <pyorient.otypes.OrientCluster at 0x7fb36c066f10>,\n",
       " <pyorient.otypes.OrientCluster at 0x7fb36c066f50>,\n",
       " <pyorient.otypes.OrientCluster at 0x7fb36c066f90>,\n",
       " <pyorient.otypes.OrientCluster at 0x7fb36c066fd0>,\n",
       " <pyorient.otypes.OrientCluster at 0x7fb36c079050>,\n",
       " <pyorient.otypes.OrientCluster at 0x7fb36c079090>,\n",
       " <pyorient.otypes.OrientCluster at 0x7fb36c0790d0>,\n",
       " <pyorient.otypes.OrientCluster at 0x7fb36c079110>]"
      ]
     },
     "execution_count": 8,
     "metadata": {},
     "output_type": "execute_result"
    }
   ],
   "source": [
    "#step 3: Open the database \n",
    "client.db_open(\"Robots\", \"root\", \"admin\")"
   ]
  },
  {
   "cell_type": "code",
   "execution_count": 163,
   "metadata": {
    "collapsed": true
   },
   "outputs": [],
   "source": [
    "#step 3: Init required vertexes:\n",
    "verteces = ['Root','LocationEvent']\n",
    "for vertex in verteces:  \n",
    "    try:\n",
    "        client.command(\"create class \"+vertex+\" extends V\") \n",
    "    except:\n",
    "        pass"
   ]
  },
  {
   "cell_type": "code",
   "execution_count": 132,
   "metadata": {},
   "outputs": [
    {
     "name": "stdout",
     "output_type": "stream",
     "text": [
      "{'@Root':{'robot_id': 1},'version':1,'rid':'#20:0'}\n"
     ]
    }
   ],
   "source": [
    "#create Root vertex\n",
    "create_vertex(\"Root\",\"robot_id=1\")"
   ]
  },
  {
   "cell_type": "code",
   "execution_count": 203,
   "metadata": {},
   "outputs": [
    {
     "data": {
      "text/plain": [
       "'#24:0'"
      ]
     },
     "execution_count": 203,
     "metadata": {},
     "output_type": "execute_result"
    }
   ],
   "source": [
    "client.command(\"insert into \" + vertex + \" set data='dummy'\")[0]._rid"
   ]
  },
  {
   "cell_type": "code",
   "execution_count": 205,
   "metadata": {},
   "outputs": [
    {
     "name": "stdout",
     "output_type": "stream",
     "text": [
      "LocationEvent\n",
      "HandleBarVoltageEvent\n",
      "MototBarVoltageEvent\n",
      "PoseEvent\n",
      "RGBEvent\n"
     ]
    }
   ],
   "source": [
    "verteces = ['LocationEvent','HandleBarVoltageEvent',\n",
    "'MototBarVoltageEvent','PoseEvent','RGBEvent']\n",
    "for i in range(len(verteces)):\n",
    "    print verteces[i]\n",
    "    "
   ]
  },
  {
   "cell_type": "code",
   "execution_count": 129,
   "metadata": {
    "collapsed": true
   },
   "outputs": [],
   "source": [
    "#step 4: Init required Edges:\n",
    "edges = ['Event_at']\n",
    "for edge in edges:  \n",
    "    try:\n",
    "        client.command(\"create class \"+edge+\" extends E\") \n",
    "    except:\n",
    "        pass"
   ]
  },
  {
   "cell_type": "code",
   "execution_count": 150,
   "metadata": {},
   "outputs": [
    {
     "name": "stdout",
     "output_type": "stream",
     "text": [
      "#22:37\n",
      "#22:38\n",
      "#22:39\n",
      "#22:40\n",
      "#22:41\n"
     ]
    }
   ],
   "source": [
    "import datetime\n",
    "#step 5: generate sample location events and attach it to root vertex\n",
    "def create_event(vertex,data):\n",
    "    event_rid = client.record_create( 22, { vertex :  data  } )._rid\n",
    "    print event_rid\n",
    "    \n",
    "    client.command(\n",
    "    \"create edge Event_at from (\"\n",
    "    \"select * from #18:0\"\n",
    "    \") to (\"\n",
    "    \"select * from \" + event_rid +\n",
    "    \")\"\n",
    "    )\n",
    "    \n",
    "for i in range(5):\n",
    "    create_event('@LocationEvent',{'datetidme': datetime.datetime.now()})"
   ]
  },
  {
   "cell_type": "code",
   "execution_count": 12,
   "metadata": {},
   "outputs": [
    {
     "data": {
      "text/plain": [
       "[]"
      ]
     },
     "execution_count": 12,
     "metadata": {},
     "output_type": "execute_result"
    }
   ],
   "source": [
    "client.command(\"select  latitude,timestamp,@class from (select expand( out( Event_in )) from Root where robot_id=1) where @class = 'LocationEvent' and timestamp between '2017-11-15 14:07:40' and '2017-11-15 14:07:40'\")"
   ]
  },
  {
   "cell_type": "code",
   "execution_count": 199,
   "metadata": {},
   "outputs": [
    {
     "name": "stdout",
     "output_type": "stream",
     "text": [
      "None\n"
     ]
    }
   ],
   "source": [
    "def get_cluster_id(vertex): \n",
    "    result = client.command(\"select * from \" + vertex)\n",
    "    for res in result:\n",
    "        print res\n",
    "        return (res._rid.split(':')[0]).split('#')[1]\n",
    "rs = get_cluster_id(\"LocationEvent\")\n",
    "if rs is None:\n",
    "    "
   ]
  },
  {
   "cell_type": "code",
   "execution_count": 187,
   "metadata": {},
   "outputs": [
    {
     "name": "stdout",
     "output_type": "stream",
     "text": [
      "{'@Root':{'robot_id': 1},'version':1,'rid':'#18:1'}\n"
     ]
    }
   ],
   "source": [
    "print client.command(\"insert into Root set robot_id=1\")[0]"
   ]
  },
  {
   "cell_type": "code",
   "execution_count": 155,
   "metadata": {},
   "outputs": [
    {
     "name": "stdout",
     "output_type": "stream",
     "text": [
      "0\n"
     ]
    }
   ],
   "source": [
    "result = client.command(\"select * from Root where robot_id=12\")\n",
    "print len(result)\n",
    "for res in result:\n",
    "    print res"
   ]
  },
  {
   "cell_type": "code",
   "execution_count": 159,
   "metadata": {},
   "outputs": [
    {
     "ename": "PyOrientConnectionException",
     "evalue": "Server seems to have went down",
     "output_type": "error",
     "traceback": [
      "\u001b[0;31m---------------------------------------------------------------------------\u001b[0m",
      "\u001b[0;31mPyOrientConnectionException\u001b[0m               Traceback (most recent call last)",
      "\u001b[0;32m<ipython-input-159-bd9edd4e116e>\u001b[0m in \u001b[0;36m<module>\u001b[0;34m()\u001b[0m\n\u001b[1;32m      1\u001b[0m eat_edges = client.query(\n\u001b[0;32m----> 2\u001b[0;31m     \u001b[0;34m\"create edge Event_at from (\"\u001b[0m\u001b[0;34m\u001b[0m\u001b[0m\n\u001b[0m\u001b[1;32m      3\u001b[0m     \u001b[0;34m\"select * from #18:0\"\u001b[0m\u001b[0;34m\u001b[0m\u001b[0m\n\u001b[1;32m      4\u001b[0m     \u001b[0;34m\") to (\"\u001b[0m\u001b[0;34m\u001b[0m\u001b[0m\n\u001b[1;32m      5\u001b[0m     \u001b[0;34m\"select * from #25:0\"\u001b[0m\u001b[0;34m\u001b[0m\u001b[0m\n",
      "\u001b[0;32m/home/ruby/anaconda2/lib/python2.7/site-packages/pyorient/orient.pyc\u001b[0m in \u001b[0;36mquery\u001b[0;34m(self, *args)\u001b[0m\n\u001b[1;32m    468\u001b[0m     \u001b[0;32mdef\u001b[0m \u001b[0mquery\u001b[0m\u001b[0;34m(\u001b[0m\u001b[0mself\u001b[0m\u001b[0;34m,\u001b[0m \u001b[0;34m*\u001b[0m\u001b[0margs\u001b[0m\u001b[0;34m)\u001b[0m\u001b[0;34m:\u001b[0m\u001b[0;34m\u001b[0m\u001b[0m\n\u001b[1;32m    469\u001b[0m         \u001b[0;32mreturn\u001b[0m \u001b[0mself\u001b[0m\u001b[0;34m.\u001b[0m\u001b[0mget_message\u001b[0m\u001b[0;34m(\u001b[0m\u001b[0;34m\"CommandMessage\"\u001b[0m\u001b[0;34m)\u001b[0m\u001b[0;31m \u001b[0m\u001b[0;31m\\\u001b[0m\u001b[0;34m\u001b[0m\u001b[0m\n\u001b[0;32m--> 470\u001b[0;31m             \u001b[0;34m.\u001b[0m\u001b[0mprepare\u001b[0m\u001b[0;34m(\u001b[0m\u001b[0;34m(\u001b[0m \u001b[0mQUERY_SYNC\u001b[0m\u001b[0;34m,\u001b[0m \u001b[0;34m)\u001b[0m \u001b[0;34m+\u001b[0m \u001b[0margs\u001b[0m\u001b[0;34m)\u001b[0m\u001b[0;34m.\u001b[0m\u001b[0msend\u001b[0m\u001b[0;34m(\u001b[0m\u001b[0;34m)\u001b[0m\u001b[0;34m.\u001b[0m\u001b[0mfetch_response\u001b[0m\u001b[0;34m(\u001b[0m\u001b[0;34m)\u001b[0m\u001b[0;34m\u001b[0m\u001b[0m\n\u001b[0m\u001b[1;32m    471\u001b[0m \u001b[0;34m\u001b[0m\u001b[0m\n\u001b[1;32m    472\u001b[0m     \u001b[0;32mdef\u001b[0m \u001b[0mquery_async\u001b[0m\u001b[0;34m(\u001b[0m\u001b[0mself\u001b[0m\u001b[0;34m,\u001b[0m \u001b[0;34m*\u001b[0m\u001b[0margs\u001b[0m\u001b[0;34m)\u001b[0m\u001b[0;34m:\u001b[0m\u001b[0;34m\u001b[0m\u001b[0m\n",
      "\u001b[0;32m/home/ruby/anaconda2/lib/python2.7/site-packages/pyorient/messages/commands.pyc\u001b[0m in \u001b[0;36mfetch_response\u001b[0;34m(self)\u001b[0m\n\u001b[1;32m    142\u001b[0m \u001b[0;34m\u001b[0m\u001b[0m\n\u001b[1;32m    143\u001b[0m         \u001b[0;31m# decode header only\u001b[0m\u001b[0;34m\u001b[0m\u001b[0;34m\u001b[0m\u001b[0m\n\u001b[0;32m--> 144\u001b[0;31m         \u001b[0msuper\u001b[0m\u001b[0;34m(\u001b[0m \u001b[0mCommandMessage\u001b[0m\u001b[0;34m,\u001b[0m \u001b[0mself\u001b[0m \u001b[0;34m)\u001b[0m\u001b[0;34m.\u001b[0m\u001b[0mfetch_response\u001b[0m\u001b[0;34m(\u001b[0m\u001b[0;34m)\u001b[0m\u001b[0;34m\u001b[0m\u001b[0m\n\u001b[0m\u001b[1;32m    145\u001b[0m \u001b[0;34m\u001b[0m\u001b[0m\n\u001b[1;32m    146\u001b[0m         \u001b[0;32mif\u001b[0m \u001b[0mself\u001b[0m\u001b[0;34m.\u001b[0m\u001b[0m_command_type\u001b[0m \u001b[0;34m==\u001b[0m \u001b[0mQUERY_ASYNC\u001b[0m\u001b[0;34m:\u001b[0m\u001b[0;34m\u001b[0m\u001b[0m\n",
      "\u001b[0;32m/home/ruby/anaconda2/lib/python2.7/site-packages/pyorient/messages/base.pyc\u001b[0m in \u001b[0;36mfetch_response\u001b[0;34m(self, *_continue)\u001b[0m\n\u001b[1;32m    263\u001b[0m         \u001b[0;31m# already fetched, get last results as cache info\u001b[0m\u001b[0;34m\u001b[0m\u001b[0;34m\u001b[0m\u001b[0m\n\u001b[1;32m    264\u001b[0m         \u001b[0;32melif\u001b[0m \u001b[0mlen\u001b[0m\u001b[0;34m(\u001b[0m\u001b[0mself\u001b[0m\u001b[0;34m.\u001b[0m\u001b[0m_body\u001b[0m\u001b[0;34m)\u001b[0m \u001b[0;32mis\u001b[0m \u001b[0;36m0\u001b[0m\u001b[0;34m:\u001b[0m\u001b[0;34m\u001b[0m\u001b[0m\n\u001b[0;32m--> 265\u001b[0;31m             \u001b[0mself\u001b[0m\u001b[0;34m.\u001b[0m\u001b[0m_decode_all\u001b[0m\u001b[0;34m(\u001b[0m\u001b[0;34m)\u001b[0m\u001b[0;34m\u001b[0m\u001b[0m\n\u001b[0m\u001b[1;32m    266\u001b[0m             \u001b[0mself\u001b[0m\u001b[0;34m.\u001b[0m\u001b[0mdump_streams\u001b[0m\u001b[0;34m(\u001b[0m\u001b[0;34m)\u001b[0m\u001b[0;34m\u001b[0m\u001b[0m\n\u001b[1;32m    267\u001b[0m         \u001b[0;32mreturn\u001b[0m \u001b[0mself\u001b[0m\u001b[0;34m.\u001b[0m\u001b[0m_body\u001b[0m\u001b[0;34m\u001b[0m\u001b[0m\n",
      "\u001b[0;32m/home/ruby/anaconda2/lib/python2.7/site-packages/pyorient/messages/base.pyc\u001b[0m in \u001b[0;36m_decode_all\u001b[0;34m(self)\u001b[0m\n\u001b[1;32m    247\u001b[0m \u001b[0;34m\u001b[0m\u001b[0m\n\u001b[1;32m    248\u001b[0m     \u001b[0;32mdef\u001b[0m \u001b[0m_decode_all\u001b[0m\u001b[0;34m(\u001b[0m\u001b[0mself\u001b[0m\u001b[0;34m)\u001b[0m\u001b[0;34m:\u001b[0m\u001b[0;34m\u001b[0m\u001b[0m\n\u001b[0;32m--> 249\u001b[0;31m         \u001b[0mself\u001b[0m\u001b[0;34m.\u001b[0m\u001b[0m_decode_header\u001b[0m\u001b[0;34m(\u001b[0m\u001b[0;34m)\u001b[0m\u001b[0;34m\u001b[0m\u001b[0m\n\u001b[0m\u001b[1;32m    250\u001b[0m         \u001b[0mself\u001b[0m\u001b[0;34m.\u001b[0m\u001b[0m_decode_body\u001b[0m\u001b[0;34m(\u001b[0m\u001b[0;34m)\u001b[0m\u001b[0;34m\u001b[0m\u001b[0m\n\u001b[1;32m    251\u001b[0m \u001b[0;34m\u001b[0m\u001b[0m\n",
      "\u001b[0;32m/home/ruby/anaconda2/lib/python2.7/site-packages/pyorient/messages/base.pyc\u001b[0m in \u001b[0;36m_decode_header\u001b[0;34m(self)\u001b[0m\n\u001b[1;32m    153\u001b[0m \u001b[0;34m\u001b[0m\u001b[0m\n\u001b[1;32m    154\u001b[0m         \u001b[0;31m# read header's information\u001b[0m\u001b[0;34m\u001b[0m\u001b[0;34m\u001b[0m\u001b[0m\n\u001b[0;32m--> 155\u001b[0;31m         self._header = [ self._decode_field( FIELD_BYTE ),\n\u001b[0m\u001b[1;32m    156\u001b[0m                          self._decode_field( FIELD_INT ) ]\n\u001b[1;32m    157\u001b[0m \u001b[0;34m\u001b[0m\u001b[0m\n",
      "\u001b[0;32m/home/ruby/anaconda2/lib/python2.7/site-packages/pyorient/messages/base.pyc\u001b[0m in \u001b[0;36m_decode_field\u001b[0;34m(self, _type)\u001b[0m\n\u001b[1;32m    355\u001b[0m         \u001b[0;31m# read buffer length and decode value by field definition\u001b[0m\u001b[0;34m\u001b[0m\u001b[0;34m\u001b[0m\u001b[0m\n\u001b[1;32m    356\u001b[0m         \u001b[0;32mif\u001b[0m \u001b[0m_type\u001b[0m\u001b[0;34m[\u001b[0m\u001b[0;34m'bytes'\u001b[0m\u001b[0;34m]\u001b[0m \u001b[0;32mis\u001b[0m \u001b[0;32mnot\u001b[0m \u001b[0mNone\u001b[0m\u001b[0;34m:\u001b[0m\u001b[0;34m\u001b[0m\u001b[0m\n\u001b[0;32m--> 357\u001b[0;31m             \u001b[0m_value\u001b[0m \u001b[0;34m=\u001b[0m \u001b[0mself\u001b[0m\u001b[0;34m.\u001b[0m\u001b[0m_orientSocket\u001b[0m\u001b[0;34m.\u001b[0m\u001b[0mread\u001b[0m\u001b[0;34m(\u001b[0m \u001b[0m_type\u001b[0m\u001b[0;34m[\u001b[0m\u001b[0;34m'bytes'\u001b[0m\u001b[0;34m]\u001b[0m \u001b[0;34m)\u001b[0m\u001b[0;34m\u001b[0m\u001b[0m\n\u001b[0m\u001b[1;32m    358\u001b[0m         \u001b[0;31m# if it is a string decode first 4 Bytes as INT\u001b[0m\u001b[0;34m\u001b[0m\u001b[0;34m\u001b[0m\u001b[0m\n\u001b[1;32m    359\u001b[0m         \u001b[0;31m# and try to read the buffer\u001b[0m\u001b[0;34m\u001b[0m\u001b[0;34m\u001b[0m\u001b[0m\n",
      "\u001b[0;32m/home/ruby/anaconda2/lib/python2.7/site-packages/pyorient/orient.pyc\u001b[0m in \u001b[0;36mread\u001b[0;34m(self, _len_to_read)\u001b[0m\n\u001b[1;32m    171\u001b[0m \u001b[0;34m\u001b[0m\u001b[0m\n\u001b[1;32m    172\u001b[0m                         raise PyOrientConnectionException(\n\u001b[0;32m--> 173\u001b[0;31m                             \"Server seems to have went down\", [])\n\u001b[0m\u001b[1;32m    174\u001b[0m \u001b[0;34m\u001b[0m\u001b[0m\n\u001b[1;32m    175\u001b[0m                     \u001b[0mview\u001b[0m \u001b[0;34m=\u001b[0m \u001b[0mview\u001b[0m\u001b[0;34m[\u001b[0m\u001b[0mn_bytes\u001b[0m\u001b[0;34m:\u001b[0m\u001b[0;34m]\u001b[0m  \u001b[0;31m# slicing views is cheap\u001b[0m\u001b[0;34m\u001b[0m\u001b[0m\n",
      "\u001b[0;31mPyOrientConnectionException\u001b[0m: Server seems to have went down"
     ]
    }
   ],
   "source": [
    "eat_edges = client.query(\n",
    "    \"create edge Event_at from (\"\n",
    "    \"select * from #18:0\"\n",
    "    \") to (\"\n",
    "    \"select * from #25:0\"\n",
    "    \")\"\n",
    ")\n",
    "\n",
    "print eat_edges[0]"
   ]
  },
  {
   "cell_type": "code",
   "execution_count": null,
   "metadata": {
    "collapsed": true
   },
   "outputs": [],
   "source": [
    "#step 6: create function to check vertex availability\n",
    "def is_present(vertex,data):\n",
    "    return True if(len(client.command(\"select * from \"+vertex+\" where \"+data))>1) else False"
   ]
  },
  {
   "cell_type": "code",
   "execution_count": 27,
   "metadata": {},
   "outputs": [
    {
     "ename": "PyOrientDatabaseException",
     "evalue": "com.orientechnologies.orient.core.exception.ODatabaseException - Database named 'robot' already exists: robot\r\n\tDB name=\"robot\"",
     "output_type": "error",
     "traceback": [
      "\u001b[0;31m---------------------------------------------------------------------------\u001b[0m",
      "\u001b[0;31mPyOrientDatabaseException\u001b[0m                 Traceback (most recent call last)",
      "\u001b[0;32m<ipython-input-27-c1d04434450c>\u001b[0m in \u001b[0;36m<module>\u001b[0;34m()\u001b[0m\n\u001b[1;32m      3\u001b[0m \u001b[0;34m\u001b[0m\u001b[0m\n\u001b[1;32m      4\u001b[0m \u001b[0;31m### create a database\u001b[0m\u001b[0;34m\u001b[0m\u001b[0;34m\u001b[0m\u001b[0m\n\u001b[0;32m----> 5\u001b[0;31m \u001b[0mclient\u001b[0m\u001b[0;34m.\u001b[0m\u001b[0mdb_create\u001b[0m\u001b[0;34m(\u001b[0m\u001b[0;34m\"robot\"\u001b[0m\u001b[0;34m,\u001b[0m \u001b[0mpyorient\u001b[0m\u001b[0;34m.\u001b[0m\u001b[0mDB_TYPE_GRAPH\u001b[0m\u001b[0;34m,\u001b[0m \u001b[0mpyorient\u001b[0m\u001b[0;34m.\u001b[0m\u001b[0mSTORAGE_TYPE_MEMORY\u001b[0m\u001b[0;34m)\u001b[0m\u001b[0;34m\u001b[0m\u001b[0m\n\u001b[0m\u001b[1;32m      6\u001b[0m \u001b[0;34m\u001b[0m\u001b[0m\n\u001b[1;32m      7\u001b[0m \u001b[0;31m### select to use that database\u001b[0m\u001b[0;34m\u001b[0m\u001b[0;34m\u001b[0m\u001b[0m\n",
      "\u001b[0;32m/home/ruby/anaconda2/lib/python2.7/site-packages/pyorient/orient.pyc\u001b[0m in \u001b[0;36mdb_create\u001b[0;34m(self, name, type, storage)\u001b[0m\n\u001b[1;32m    362\u001b[0m         '''\n\u001b[1;32m    363\u001b[0m         \u001b[0mself\u001b[0m\u001b[0;34m.\u001b[0m\u001b[0mget_message\u001b[0m\u001b[0;34m(\u001b[0m\u001b[0;34m\"DbCreateMessage\"\u001b[0m\u001b[0;34m)\u001b[0m\u001b[0;31m \u001b[0m\u001b[0;31m\\\u001b[0m\u001b[0;34m\u001b[0m\u001b[0m\n\u001b[0;32m--> 364\u001b[0;31m             \u001b[0;34m.\u001b[0m\u001b[0mprepare\u001b[0m\u001b[0;34m(\u001b[0m\u001b[0;34m(\u001b[0m\u001b[0mname\u001b[0m\u001b[0;34m,\u001b[0m \u001b[0mtype\u001b[0m\u001b[0;34m,\u001b[0m \u001b[0mstorage\u001b[0m\u001b[0;34m)\u001b[0m\u001b[0;34m)\u001b[0m\u001b[0;34m.\u001b[0m\u001b[0msend\u001b[0m\u001b[0;34m(\u001b[0m\u001b[0;34m)\u001b[0m\u001b[0;34m.\u001b[0m\u001b[0mfetch_response\u001b[0m\u001b[0;34m(\u001b[0m\u001b[0;34m)\u001b[0m\u001b[0;34m\u001b[0m\u001b[0m\n\u001b[0m\u001b[1;32m    365\u001b[0m         \u001b[0;32mreturn\u001b[0m \u001b[0mNone\u001b[0m\u001b[0;34m\u001b[0m\u001b[0m\n\u001b[1;32m    366\u001b[0m \u001b[0;34m\u001b[0m\u001b[0m\n",
      "\u001b[0;32m/home/ruby/anaconda2/lib/python2.7/site-packages/pyorient/messages/database.pyc\u001b[0m in \u001b[0;36mfetch_response\u001b[0;34m(self)\u001b[0m\n\u001b[1;32m    335\u001b[0m \u001b[0;34m\u001b[0m\u001b[0m\n\u001b[1;32m    336\u001b[0m     \u001b[0;32mdef\u001b[0m \u001b[0mfetch_response\u001b[0m\u001b[0;34m(\u001b[0m\u001b[0mself\u001b[0m\u001b[0;34m)\u001b[0m\u001b[0;34m:\u001b[0m\u001b[0;34m\u001b[0m\u001b[0m\n\u001b[0;32m--> 337\u001b[0;31m         \u001b[0msuper\u001b[0m\u001b[0;34m(\u001b[0m\u001b[0mDbCreateMessage\u001b[0m\u001b[0;34m,\u001b[0m \u001b[0mself\u001b[0m\u001b[0;34m)\u001b[0m\u001b[0;34m.\u001b[0m\u001b[0mfetch_response\u001b[0m\u001b[0;34m(\u001b[0m\u001b[0;34m)\u001b[0m\u001b[0;34m\u001b[0m\u001b[0m\n\u001b[0m\u001b[1;32m    338\u001b[0m         \u001b[0;31m# set database opened\u001b[0m\u001b[0;34m\u001b[0m\u001b[0;34m\u001b[0m\u001b[0m\n\u001b[1;32m    339\u001b[0m         \u001b[0mself\u001b[0m\u001b[0;34m.\u001b[0m\u001b[0m_orientSocket\u001b[0m\u001b[0;34m.\u001b[0m\u001b[0mdb_opened\u001b[0m \u001b[0;34m=\u001b[0m \u001b[0mself\u001b[0m\u001b[0;34m.\u001b[0m\u001b[0m_db_name\u001b[0m\u001b[0;34m\u001b[0m\u001b[0m\n",
      "\u001b[0;32m/home/ruby/anaconda2/lib/python2.7/site-packages/pyorient/messages/base.pyc\u001b[0m in \u001b[0;36mfetch_response\u001b[0;34m(self, *_continue)\u001b[0m\n\u001b[1;32m    263\u001b[0m         \u001b[0;31m# already fetched, get last results as cache info\u001b[0m\u001b[0;34m\u001b[0m\u001b[0;34m\u001b[0m\u001b[0m\n\u001b[1;32m    264\u001b[0m         \u001b[0;32melif\u001b[0m \u001b[0mlen\u001b[0m\u001b[0;34m(\u001b[0m\u001b[0mself\u001b[0m\u001b[0;34m.\u001b[0m\u001b[0m_body\u001b[0m\u001b[0;34m)\u001b[0m \u001b[0;32mis\u001b[0m \u001b[0;36m0\u001b[0m\u001b[0;34m:\u001b[0m\u001b[0;34m\u001b[0m\u001b[0m\n\u001b[0;32m--> 265\u001b[0;31m             \u001b[0mself\u001b[0m\u001b[0;34m.\u001b[0m\u001b[0m_decode_all\u001b[0m\u001b[0;34m(\u001b[0m\u001b[0;34m)\u001b[0m\u001b[0;34m\u001b[0m\u001b[0m\n\u001b[0m\u001b[1;32m    266\u001b[0m             \u001b[0mself\u001b[0m\u001b[0;34m.\u001b[0m\u001b[0mdump_streams\u001b[0m\u001b[0;34m(\u001b[0m\u001b[0;34m)\u001b[0m\u001b[0;34m\u001b[0m\u001b[0m\n\u001b[1;32m    267\u001b[0m         \u001b[0;32mreturn\u001b[0m \u001b[0mself\u001b[0m\u001b[0;34m.\u001b[0m\u001b[0m_body\u001b[0m\u001b[0;34m\u001b[0m\u001b[0m\n",
      "\u001b[0;32m/home/ruby/anaconda2/lib/python2.7/site-packages/pyorient/messages/base.pyc\u001b[0m in \u001b[0;36m_decode_all\u001b[0;34m(self)\u001b[0m\n\u001b[1;32m    247\u001b[0m \u001b[0;34m\u001b[0m\u001b[0m\n\u001b[1;32m    248\u001b[0m     \u001b[0;32mdef\u001b[0m \u001b[0m_decode_all\u001b[0m\u001b[0;34m(\u001b[0m\u001b[0mself\u001b[0m\u001b[0;34m)\u001b[0m\u001b[0;34m:\u001b[0m\u001b[0;34m\u001b[0m\u001b[0m\n\u001b[0;32m--> 249\u001b[0;31m         \u001b[0mself\u001b[0m\u001b[0;34m.\u001b[0m\u001b[0m_decode_header\u001b[0m\u001b[0;34m(\u001b[0m\u001b[0;34m)\u001b[0m\u001b[0;34m\u001b[0m\u001b[0m\n\u001b[0m\u001b[1;32m    250\u001b[0m         \u001b[0mself\u001b[0m\u001b[0;34m.\u001b[0m\u001b[0m_decode_body\u001b[0m\u001b[0;34m(\u001b[0m\u001b[0;34m)\u001b[0m\u001b[0;34m\u001b[0m\u001b[0m\n\u001b[1;32m    251\u001b[0m \u001b[0;34m\u001b[0m\u001b[0m\n",
      "\u001b[0;32m/home/ruby/anaconda2/lib/python2.7/site-packages/pyorient/messages/base.pyc\u001b[0m in \u001b[0;36m_decode_header\u001b[0;34m(self)\u001b[0m\n\u001b[1;32m    180\u001b[0m             raise PyOrientCommandException(\n\u001b[1;32m    181\u001b[0m                 \u001b[0mexception_class\u001b[0m\u001b[0;34m.\u001b[0m\u001b[0mdecode\u001b[0m\u001b[0;34m(\u001b[0m \u001b[0;34m'utf8'\u001b[0m \u001b[0;34m)\u001b[0m\u001b[0;34m,\u001b[0m\u001b[0;34m\u001b[0m\u001b[0m\n\u001b[0;32m--> 182\u001b[0;31m                 \u001b[0;34m[\u001b[0m \u001b[0mexception_message\u001b[0m\u001b[0;34m.\u001b[0m\u001b[0mdecode\u001b[0m\u001b[0;34m(\u001b[0m \u001b[0;34m'utf8'\u001b[0m \u001b[0;34m)\u001b[0m \u001b[0;34m]\u001b[0m\u001b[0;34m\u001b[0m\u001b[0m\n\u001b[0m\u001b[1;32m    183\u001b[0m             )\n\u001b[1;32m    184\u001b[0m \u001b[0;34m\u001b[0m\u001b[0m\n",
      "\u001b[0;31mPyOrientDatabaseException\u001b[0m: com.orientechnologies.orient.core.exception.ODatabaseException - Database named 'robot' already exists: robot\r\n\tDB name=\"robot\""
     ]
    }
   ],
   "source": [
    "### open a connection (username and password)\n",
    "client.connect(\"root\", \"admin\")\n",
    "\n",
    "### create a database\n",
    "client.db_create(\"robot\", pyorient.DB_TYPE_GRAPH, pyorient.STORAGE_TYPE_MEMORY)\n",
    "\n",
    "### select to use that database\n",
    "client.db_open(\"robot\", \"root\", \"admin\")\n",
    "\n",
    "### Create the Vertex Animal\n",
    "client.command(\"create class Root extends V\")\n",
    "\n",
    "### Insert a new value\n",
    "client.command(\"insert into Root set robot_id = 1\")\n",
    "\n",
    "### query the values\n",
    "# client.query(\"select * from Animal\")\n",
    "\n",
    "\n",
    "client.command('create class Year extends V')\n",
    "client.command(\"insert into Year set name = 2017\")\n",
    "\n",
    "client.command('create class Child extends E')\n",
    "client.command('select * from Year')\n",
    "### Lets the rat likes to eat pea\n",
    "# eat_edges = client.command(\n",
    "#     \"create edge Child from (\"\n",
    "#     \"select from Root where robot_id = 1\"\n",
    "#     \") to (\"\n",
    "#     \"select from Year where name = 2017\"\n",
    "#     \")\"\n",
    "# )\n",
    "\n",
    "# ### Who eats the peas?\n",
    "# pea_eaters = client.command(\"select expand( in( Eat )) from Food where name = 'pea'\")\n",
    "# for animal in pea_eaters:\n",
    "#     print(animal.name, animal.specie)\n",
    "# 'rat rodent'\n",
    "# ...\n",
    "\n",
    "# ### What each animal eats?\n",
    "# animal_foods = client.command(\"select expand( out( Eat )) from Animal\")\n",
    "# for food in animal_foods:\n",
    "#     animal = client.query(\n",
    "#                 \"select name from ( select expand( in('Eat') ) from Food where name = 'pea' )\"\n",
    "#             )[0]\n",
    "#     print(food.name, food.color, animal.name)\n",
    "# 'pea green rat'"
   ]
  },
  {
   "cell_type": "code",
   "execution_count": 148,
   "metadata": {
    "collapsed": true
   },
   "outputs": [],
   "source": [
    "def is_present(vertex,data):\n",
    "    return True if(len(client.command(\"select * from \"+vertex+\" where \"+data))>1) else False"
   ]
  },
  {
   "cell_type": "code",
   "execution_count": 147,
   "metadata": {},
   "outputs": [
    {
     "name": "stdout",
     "output_type": "stream",
     "text": [
      "234\n"
     ]
    },
    {
     "data": {
      "text/plain": [
       "True"
      ]
     },
     "execution_count": 147,
     "metadata": {},
     "output_type": "execute_result"
    }
   ],
   "source": [
    "import time\n",
    "import datetime\n",
    "import random\n",
    "\n",
    "def create_time_tree(datetime,_robot_id):\n",
    "    verteces = ['Root','year','Month','Day','Hour','Minute','Second','Millisecond']\n",
    "    for vertex in verteces:  \n",
    "        try:\n",
    "            client.command(\"create class \"+vertex+\" extends V\") \n",
    "        except:\n",
    "            pass\n",
    "    \n",
    "    if (is_present(vertex,data)):\n",
    "        return True\n",
    "    resut = client.command(\"insert into \"+vertex+\" set \" + data)\n",
    "    for res in resut:\n",
    "        print res._rid\n",
    "create_time_tree(datetime.datetime.utcnow().strftime('%Y,%m,%d,%H,%M,%S,%f')[:-3].split(','),1)"
   ]
  },
  {
   "cell_type": "code",
   "execution_count": 121,
   "metadata": {},
   "outputs": [
    {
     "name": "stdout",
     "output_type": "stream",
     "text": [
      "23\n"
     ]
    }
   ],
   "source": [
    "def get_vertex(vertex,data):\n",
    "    result = client.command(\"select * from \"+vertex+\" where \"+data)\n",
    "    print len(result)\n",
    "get_vertex(\"Root\",\"robot_id = 1\")"
   ]
  },
  {
   "cell_type": "code",
   "execution_count": null,
   "metadata": {
    "collapsed": true
   },
   "outputs": [],
   "source": [
    "def check_possibility(datetime,_robot_id):\n",
    "    root = Root.nodes.get_or_none(name=\"root\",robot_id=_robot_id)\n",
    "    if root is None:\n",
    "        root = Root(name=\"root\",robot_id=_robot_id).save()\n",
    "\n",
    "    year = root.year.get_or_none(name=datetime[0])\n",
    "    if year is None:\n",
    "        year = Year(name=datetime[0]).save()\n",
    "        root.year.connect(year)\n",
    "\n",
    "    month = year.month.get_or_none(name=datetime[1])\n",
    "    if month is None:\n",
    "        month = Month(name=datetime[1]).save()\n",
    "        year.month.connect(month)\n",
    "\n",
    "    day = month.day.get_or_none(name=datetime[2])\n",
    "    if day is None:\n",
    "        day = Day(name=datetime[2]).save()\n",
    "        month.day.connect(day)\n",
    "\n",
    "    hour = day.hour.get_or_none(name=datetime[3])\n",
    "    if hour is None:\n",
    "        hour = Hour(name=datetime[3]).save()\n",
    "        day.hour.connect(hour)\n",
    "\n",
    "    minute = hour.minute.get_or_none(name=datetime[4])\n",
    "    if minute is None:\n",
    "        minute = Minute(name=datetime[4]).save()\n",
    "        hour.minute.connect(minute)\n",
    "\n",
    "    second = minute.second.get_or_none(name=datetime[5])\n",
    "    if second is None:\n",
    "        second = Second(name=datetime[5]).save()\n",
    "        minute.second.connect(second)\n",
    "\n",
    "    millisecond = second.millisecond.get_or_none(name=datetime[6])\n",
    "    if millisecond is None:\n",
    "        millisecond = MilliSecond(name=datetime[6]).save()\n",
    "        second.millisecond.connect(millisecond)\n",
    "\n",
    "    return millisecond"
   ]
  },
  {
   "cell_type": "markdown",
   "metadata": {},
   "source": [
    "Disadvantage:\n",
    "    Lack of api support for python language. Pyorient have very minimal support to access orientDB. E.g There is no API to retrive existing classes from the database.\n",
    "    Cannot able to create database from pyorient, and always depend on studio protocol to create database before test run\n",
    "    Cannot create vertex and edge together."
   ]
  }
 ],
 "metadata": {
  "kernelspec": {
   "display_name": "Python 2",
   "language": "python",
   "name": "python2"
  },
  "language_info": {
   "codemirror_mode": {
    "name": "ipython",
    "version": 2
   },
   "file_extension": ".py",
   "mimetype": "text/x-python",
   "name": "python",
   "nbconvert_exporter": "python",
   "pygments_lexer": "ipython2",
   "version": "2.7.14"
  }
 },
 "nbformat": 4,
 "nbformat_minor": 2
}
