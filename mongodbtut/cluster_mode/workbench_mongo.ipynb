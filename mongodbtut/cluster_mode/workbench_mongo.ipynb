{
 "cells": [
  {
   "cell_type": "code",
   "execution_count": 1,
   "metadata": {
    "collapsed": true
   },
   "outputs": [],
   "source": [
    "from pymongo import Connection"
   ]
  },
  {
   "cell_type": "code",
   "execution_count": 2,
   "metadata": {},
   "outputs": [],
   "source": [
    "client = Connection(host='localhost', port=30002, slave_okay=True)"
   ]
  },
  {
   "cell_type": "code",
   "execution_count": 3,
   "metadata": {
    "collapsed": true
   },
   "outputs": [],
   "source": [
    "db = client.robot"
   ]
  },
  {
   "cell_type": "code",
   "execution_count": 11,
   "metadata": {},
   "outputs": [
    {
     "name": "stdout",
     "output_type": "stream",
     "text": [
      "{u'measured_speed': 34.34343, u'name': u'speed_event', u'angular_speed': 123.324, u'timestamp': datetime.datetime(2017, 11, 27, 15, 57, 51, 344000), u'desired_speed': 13.2, u'speed_id': 1, u'robot_id': 1, u'_id': ObjectId('5a1c35ff0e764800fd3a4fa1')}\n",
      "1\n"
     ]
    }
   ],
   "source": [
    "speed = db.speed_event\n"
   ]
  },
  {
   "cell_type": "code",
   "execution_count": 12,
   "metadata": {},
   "outputs": [
    {
     "name": "stdout",
     "output_type": "stream",
     "text": [
      "{u'measured_speed': 34.34343, u'name': u'speed_event', u'angular_speed': 123.324, u'timestamp': datetime.datetime(2017, 11, 27, 16, 40, 32, 444000), u'desired_speed': 123.2, u'speed_id': 1, u'robot_id': 1, u'_id': ObjectId('5a1c40000e764801043c0a75')}\n",
      "1\n"
     ]
    }
   ],
   "source": [
    "for sp in speed.find({\"speed_id\": 1}):\n",
    "    print sp\n",
    "    break\n",
    "print speed.find({\"speed_id\": 1}).count()"
   ]
  },
  {
   "cell_type": "code",
   "execution_count": 8,
   "metadata": {},
   "outputs": [
    {
     "name": "stdout",
     "output_type": "stream",
     "text": [
      "None\n"
     ]
    }
   ],
   "source": [
    "import pprint\n",
    "pprint.pprint(poses.find_one())"
   ]
  },
  {
   "cell_type": "code",
   "execution_count": 1,
   "metadata": {},
   "outputs": [
    {
     "ename": "MongoEngineConnectionError",
     "evalue": "Cannot connect to database default :\ntimed out",
     "output_type": "error",
     "traceback": [
      "\u001b[0;31m---------------------------------------------------------------------------\u001b[0m",
      "\u001b[0;31mMongoEngineConnectionError\u001b[0m                Traceback (most recent call last)",
      "\u001b[0;32m<ipython-input-1-dd67f645d2c4>\u001b[0m in \u001b[0;36m<module>\u001b[0;34m()\u001b[0m\n\u001b[1;32m      1\u001b[0m \u001b[0;32mfrom\u001b[0m \u001b[0mmongoengine\u001b[0m \u001b[0;32mimport\u001b[0m \u001b[0;34m*\u001b[0m\u001b[0;34m\u001b[0m\u001b[0m\n\u001b[1;32m      2\u001b[0m \u001b[0;32mimport\u001b[0m \u001b[0mdatetime\u001b[0m\u001b[0;34m\u001b[0m\u001b[0m\n\u001b[0;32m----> 3\u001b[0;31m \u001b[0mdb_client\u001b[0m \u001b[0;34m=\u001b[0m \u001b[0mconnect\u001b[0m\u001b[0;34m(\u001b[0m\u001b[0mhost\u001b[0m\u001b[0;34m=\u001b[0m\u001b[0;34m'localhost'\u001b[0m\u001b[0;34m,\u001b[0m \u001b[0mport\u001b[0m\u001b[0;34m=\u001b[0m\u001b[0;36m30002\u001b[0m\u001b[0;34m,\u001b[0m\u001b[0mreplicaset\u001b[0m\u001b[0;34m=\u001b[0m\u001b[0;34m'sensor-replica'\u001b[0m\u001b[0;34m)\u001b[0m\u001b[0;34m\u001b[0m\u001b[0m\n\u001b[0m\u001b[1;32m      4\u001b[0m \u001b[0;31m# db_client = connect('robot', host='localhost', port=30002,replicaset='sensor-replica')\u001b[0m\u001b[0;34m\u001b[0m\u001b[0;34m\u001b[0m\u001b[0m\n\u001b[1;32m      5\u001b[0m \u001b[0;32mprint\u001b[0m \u001b[0mdb_client\u001b[0m\u001b[0;34m\u001b[0m\u001b[0m\n",
      "\u001b[0;32m/home/ruby/anaconda2/lib/python2.7/site-packages/mongoengine/connection.pyc\u001b[0m in \u001b[0;36mconnect\u001b[0;34m(db, alias, **kwargs)\u001b[0m\n\u001b[1;32m    256\u001b[0m         \u001b[0mregister_connection\u001b[0m\u001b[0;34m(\u001b[0m\u001b[0malias\u001b[0m\u001b[0;34m,\u001b[0m \u001b[0mdb\u001b[0m\u001b[0;34m,\u001b[0m \u001b[0;34m**\u001b[0m\u001b[0mkwargs\u001b[0m\u001b[0;34m)\u001b[0m\u001b[0;34m\u001b[0m\u001b[0m\n\u001b[1;32m    257\u001b[0m \u001b[0;34m\u001b[0m\u001b[0m\n\u001b[0;32m--> 258\u001b[0;31m     \u001b[0;32mreturn\u001b[0m \u001b[0mget_connection\u001b[0m\u001b[0;34m(\u001b[0m\u001b[0malias\u001b[0m\u001b[0;34m)\u001b[0m\u001b[0;34m\u001b[0m\u001b[0m\n\u001b[0m\u001b[1;32m    259\u001b[0m \u001b[0;34m\u001b[0m\u001b[0m\n\u001b[1;32m    260\u001b[0m \u001b[0;34m\u001b[0m\u001b[0m\n",
      "\u001b[0;32m/home/ruby/anaconda2/lib/python2.7/site-packages/mongoengine/connection.pyc\u001b[0m in \u001b[0;36mget_connection\u001b[0;34m(alias, reconnect)\u001b[0m\n\u001b[1;32m    214\u001b[0m         \u001b[0;32mexcept\u001b[0m \u001b[0mException\u001b[0m \u001b[0;32mas\u001b[0m \u001b[0me\u001b[0m\u001b[0;34m:\u001b[0m\u001b[0;34m\u001b[0m\u001b[0m\n\u001b[1;32m    215\u001b[0m             raise MongoEngineConnectionError(\n\u001b[0;32m--> 216\u001b[0;31m                 'Cannot connect to database %s :\\n%s' % (alias, e))\n\u001b[0m\u001b[1;32m    217\u001b[0m \u001b[0;34m\u001b[0m\u001b[0m\n\u001b[1;32m    218\u001b[0m     \u001b[0;32mreturn\u001b[0m \u001b[0m_connections\u001b[0m\u001b[0;34m[\u001b[0m\u001b[0malias\u001b[0m\u001b[0;34m]\u001b[0m\u001b[0;34m\u001b[0m\u001b[0m\n",
      "\u001b[0;31mMongoEngineConnectionError\u001b[0m: Cannot connect to database default :\ntimed out"
     ]
    }
   ],
   "source": [
    "from mongoengine import *\n",
    "import datetime\n",
    "db_client = connect(host='localhost', port=30002,replicaset='sensor-replica')\n",
    "# db_client = connect('robot', host='localhost', port=30002,replicaset='sensor-replica')\n",
    "print db_client"
   ]
  },
  {
   "cell_type": "code",
   "execution_count": 2,
   "metadata": {},
   "outputs": [
    {
     "data": {
      "text/plain": [
       "False"
      ]
     },
     "execution_count": 2,
     "metadata": {},
     "output_type": "execute_result"
    }
   ],
   "source": [
    "db_client.slave_okay"
   ]
  },
  {
   "cell_type": "code",
   "execution_count": 2,
   "metadata": {
    "collapsed": true
   },
   "outputs": [],
   "source": [
    "import datetime\n"
   ]
  },
  {
   "cell_type": "code",
   "execution_count": 3,
   "metadata": {},
   "outputs": [
    {
     "name": "stdout",
     "output_type": "stream",
     "text": [
      "None\n"
     ]
    }
   ],
   "source": [
    "print db_client.close()"
   ]
  },
  {
   "cell_type": "code",
   "execution_count": 3,
   "metadata": {
    "collapsed": true
   },
   "outputs": [],
   "source": [
    "class User(Document):\n",
    "    email = StringField()\n",
    "    first_name = StringField()\n",
    "    last_name = DateTimeField()"
   ]
  },
  {
   "cell_type": "code",
   "execution_count": 4,
   "metadata": {},
   "outputs": [],
   "source": [
    "ross = User(email='ross@example.com', first_name='Ross', last_name=datetime.datetime.now()).save()"
   ]
  },
  {
   "cell_type": "code",
   "execution_count": 5,
   "metadata": {},
   "outputs": [
    {
     "name": "stdout",
     "output_type": "stream",
     "text": [
      "2017-11-27 16:28:55.905000\n",
      "2017-11-27 16:28:59.948000\n",
      "2017-11-27 16:29:05.030000\n",
      "2017-11-27 16:32:25.909000\n",
      "2017-11-27 16:33:24.661000\n",
      "2017-11-27 16:33:50.265000\n",
      "2017-11-27 16:34:38.144000\n",
      "2017-11-27 16:35:08.925000\n",
      "2017-11-27 17:23:47.610000\n"
     ]
    }
   ],
   "source": [
    "\n",
    "for user in User.objects.filter():\n",
    "    print user.last_name"
   ]
  },
  {
   "cell_type": "code",
   "execution_count": 241,
   "metadata": {},
   "outputs": [
    {
     "name": "stdout",
     "output_type": "stream",
     "text": [
      "2017-11-27 16:35:08.925000\n",
      "2017-11-27 16:34:38.144000\n",
      "2017-11-27 16:33:50.265000\n",
      "2017-11-27 16:33:24.661000\n",
      "2017-11-27 16:32:25.909000\n",
      "2017-11-27 16:29:05.030000\n",
      "2017-11-27 16:28:59.948000\n",
      "2017-11-27 16:28:55.905000\n"
     ]
    }
   ],
   "source": [
    "\n",
    "end_time_range = datetime.datetime.now()\n",
    "start_time_range = (end_time_range - datetime.timedelta(seconds=60))\n",
    "# print start_time_range\n",
    "\n",
    "for user in User.objects.order_by('-last_name'):\n",
    "    print user.last_name"
   ]
  },
  {
   "cell_type": "code",
   "execution_count": 5,
   "metadata": {
    "collapsed": true
   },
   "outputs": [],
   "source": [
    "class LocationEvent(Document):\n",
    "    name = StringField(default=\"location_event\")\n",
    "    robot_id = IntField()\n",
    "    latitude = FloatField()\n",
    "    longitude = FloatField()\n",
    "    offset = FloatField()\n",
    "    accuracy = FloatField()\n",
    "    timestamp = DateTimeField()\n",
    "\n",
    "class HandleBarVoltageEvent(Document):\n",
    "    robot_id = IntField()\n",
    "    name = StringField(default=\"handle_bar_voltage_event\")\n",
    "    voltage = FloatField()\n",
    "    timestamp = DateTimeField()\n",
    "\n",
    "class MotorBarVoltageEvent(Document):\n",
    "    robot_id = IntField()\n",
    "    name = StringField(default=\"motor_voltage_event\")\n",
    "    motor_id = IntField()\n",
    "    voltage = FloatField()\n",
    "    current = FloatField()\n",
    "    timestamp = DateTimeField()\n",
    "\n",
    "class PoseEvent(Document):\n",
    "    robot_id = IntField()\n",
    "    name = StringField(default=\"pose_event\")\n",
    "    x = FloatField()\n",
    "    y = FloatField()\n",
    "    z = FloatField()\n",
    "    theta = FloatField()\n",
    "    timestamp = DateTimeField()\n",
    "\n",
    "class SpeedEvent(Document):\n",
    "    robot_id = IntField()\n",
    "    name = StringField(default=\"speed_event\")\n",
    "    speed_id = IntField()\n",
    "    desired_speed = FloatField()\n",
    "    measured_speed = FloatField()\n",
    "    angular_speed = FloatField()\n",
    "    timestamp = DateTimeField()\n",
    "\n",
    "class DistanceLogEvent(Document):\n",
    "    robot_id = IntField()\n",
    "    name = StringField(default=\"distance_log_event\")\n",
    "    timestamp = DateTimeField()\n",
    "    travelled_log = StringField()\n",
    "\n",
    "class RGBEvent(Document):\n",
    "    robot_id = IntField()\n",
    "    name = StringField(default=\"rgb_event\")\n",
    "    timestamp = DateTimeField()\n",
    "    image_base64 = StringField()\n",
    "    blob = BooleanField()\n"
   ]
  },
  {
   "cell_type": "code",
   "execution_count": 234,
   "metadata": {},
   "outputs": [
    {
     "name": "stdout",
     "output_type": "stream",
     "text": [
      "0\n"
     ]
    }
   ],
   "source": [
    "end_time_range = datetime.datetime.now()\n",
    "start_time_range = (end_time_range - datetime.timedelta(seconds=120))\n",
    "\n",
    "result = RGBEvent.objects().filter(timestamp__gt=start_time_range).filter(timestamp__lt=end_time_range).filter(blob=False)\n",
    "print len(result)"
   ]
  },
  {
   "cell_type": "code",
   "execution_count": 244,
   "metadata": {},
   "outputs": [
    {
     "name": "stdout",
     "output_type": "stream",
     "text": [
      "10\n"
     ]
    }
   ],
   "source": [
    "start_time_range = datetime.datetime.combine(datetime.date.today(), datetime.time())\n",
    "end_time_range = datetime.datetime.now()\n",
    "result = PoseEvent.objects().filter(timestamp__lt=end_time_range).filter(timestamp__gt=start_time_range)[:10]\n",
    "print len(result)"
   ]
  },
  {
   "cell_type": "code",
   "execution_count": 246,
   "metadata": {},
   "outputs": [
    {
     "data": {
      "text/plain": [
       "1857"
      ]
     },
     "execution_count": 246,
     "metadata": {},
     "output_type": "execute_result"
    }
   ],
   "source": [
    "len(LocationEvent.objects().filter(latitude__gt=30).filter(longitude__lt=50))"
   ]
  }
 ],
 "metadata": {
  "kernelspec": {
   "display_name": "Python 2",
   "language": "python",
   "name": "python2"
  },
  "language_info": {
   "codemirror_mode": {
    "name": "ipython",
    "version": 2
   },
   "file_extension": ".py",
   "mimetype": "text/x-python",
   "name": "python",
   "nbconvert_exporter": "python",
   "pygments_lexer": "ipython2",
   "version": "2.7.14"
  }
 },
 "nbformat": 4,
 "nbformat_minor": 2
}
