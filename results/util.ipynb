{
 "cells": [
  {
   "cell_type": "code",
   "execution_count": 13,
   "metadata": {
    "collapsed": true
   },
   "outputs": [],
   "source": [
    "import math\n",
    "import numpy as np\n",
    "import pandas as pd\n",
    "import matplotlib.pyplot as plt\n",
    "from datetime import datetime\n",
    "%matplotlib inline\n",
    "from Tkinter import Tk\n",
    "from tkFileDialog import askopenfilename\n",
    "import os\n",
    "from os import path\n",
    "from IPython.display import HTML,display"
   ]
  },
  {
   "cell_type": "code",
   "execution_count": 1,
   "metadata": {
    "collapsed": true
   },
   "outputs": [],
   "source": [
    "def get_avg_write(scenarios,event,databases):\n",
    "    databases = databases\n",
    "    herzs = [\"30hz\",\"30hz\",\"60hz\",\"60hz\",\"120hz\",\"120hz\"]\n",
    "    column_labels = [\"write(30hz)\",\"write_with_read(30hz)\",\n",
    "                     \"write(60hz)\",\"write_with_read(60hz)\",\n",
    "                     \"write(120hz)\",\"write_with_read(120hz)\"]\n",
    "    avgs = np.zeros((0,len(databases)))\n",
    "\n",
    "    _flag = True\n",
    "    \n",
    "    for herz in herzs:\n",
    "        avg = np.zeros((1,0))\n",
    "        for database in databases:\n",
    "            directory = get_directory_path(database,herz,scenarios[0] if _flag else scenarios[1])\n",
    "            file = directory+get_log_file_name(directory)\n",
    "            with open(file) as fp:\n",
    "                lines = fp.readlines()\n",
    "            times = []\n",
    "            for line in lines:\n",
    "                if database is \"neo4j\" and \"Robot_id\" in line and event[0] in line:\n",
    "                    times.append(float(line.split(\" \")[7]))\n",
    "                elif \"Robot_id\" in line and event[1] in line:\n",
    "                    times.append(float(line.split(\" \")[8]))\n",
    "            times = outlier_removal(times)\n",
    "            avg = np.hstack([avg,[[round(np.mean(times),4)]]])\n",
    "        _flag = False if (_flag is True) else True\n",
    "        avgs = np.vstack([avgs,avg])\n",
    "    mongodb_df_write_1 = pd.DataFrame(avgs, columns=databases,\n",
    "                   index=column_labels)\n",
    "    return mongodb_df_write_1\n",
    "\n",
    "def get_avg_read(scenarios,query,databases):\n",
    "    databases = databases\n",
    "    herzs = [\"30hz\",\"30hz\",\"60hz\",\"60hz\",\"120hz\",\"120hz\"]\n",
    "    column_labels = [\"read(30hz)\",\"read_with_write(30hz)\",\n",
    "                     \"read(60hz)\",\"read_with_write(60hz)\",\n",
    "                     \"read(120hz)\",\"read_with_write(120hz)\"]\n",
    "    \n",
    "    avgs = np.zeros((0,len(databases)))\n",
    "    \n",
    "    _flag = True\n",
    "    \n",
    "    for herz in herzs:\n",
    "        avg = np.zeros((1,0))\n",
    "        for database in databases:\n",
    "            directory = get_directory_path(database,herz,scenarios[0] if _flag else scenarios[1])\n",
    "            file = directory+get_log_file_name(directory)\n",
    "            with open(file) as fp:\n",
    "                lines = fp.readlines()\n",
    "            times = []\n",
    "            for line in lines:\n",
    "                if \"Robot_id\" in line and query in line:\n",
    "                    times.append(float(line.split(\" \")[8]))\n",
    "            times = outlier_removal(times)\n",
    "            avg = np.hstack([avg,[[round(np.mean(times),4)]]])\n",
    "        _flag = not _flag\n",
    "        avgs = np.vstack([avgs,avg])\n",
    "    df = pd.DataFrame(avgs, columns=databases,\n",
    "                   index=column_labels)\n",
    "    return df\n",
    "\n",
    "def get_directory_path(db_name,herz,scenario):\n",
    "    return \"./logs/\"+db_name+\"/\"+scenario+\"/\"+herz+\"/\"\n",
    "\n",
    "def get_log_file_name(directory):\n",
    "    return [f for f in os.listdir(directory)][0]\n",
    "\n",
    "def plot(df,title):\n",
    "    fig, axes = plt.subplots()\n",
    "    fig.set_figheight(8)\n",
    "    fig.set_figwidth(17)\n",
    "\n",
    "    plot = df.plot(ax=axes,kind='bar',table=True,grid=True,title=title)\n",
    "    \n",
    "    axes.set_xticklabels([])\n",
    "#     plot.set_xlabel(\"Frequency of generating events (Herz)\")\n",
    "    plot.set_ylabel(\"Average query execution time (Seconds)\")\n",
    "    \n",
    "     \n",
    "def outlier_removal(times):\n",
    "    result = []\n",
    "    \n",
    "    mean = np.mean(times)\n",
    "    std = np.std(times)\n",
    "    \n",
    "    for time in times:\n",
    "        if abs(time-mean) < 2*std:\n",
    "            result.append(time)\n",
    "    return result"
   ]
  },
  {
   "cell_type": "code",
   "execution_count": 86,
   "metadata": {},
   "outputs": [
    {
     "name": "stdout",
     "output_type": "stream",
     "text": [
      "113.828679482 47.136524453\n",
      "11.1280760765\n",
      "1\n"
     ]
    }
   ],
   "source": [
    "# def outlier_removal(file_path,event):\n",
    "# #     mu  = mean of the data\n",
    "# # std = standard deviation of the data\n",
    "# # IF abs(x-mu) > 3*std  THEN  x is outlier\n",
    "#     with open(file_path) as fp:\n",
    "#         lines = fp.readlines()\n",
    "    \n",
    "# #     times = np.zeros((1,0))\n",
    "#     times = []\n",
    "#     for line in lines:\n",
    "#         if \"Robot_id\" in line and event in line:\n",
    "# #             times = np.hstack([times,[[float(line.split(\" \")[8])]]])\n",
    "#             times.append(float(line.split(\" \")[8]))\n",
    "#     mean = np.mean(times)\n",
    "#     std = np.std(times)\n",
    "#     print mean,std\n",
    "    \n",
    "#     counter = 0\n",
    "#     for time in times:\n",
    "#         if abs(time-mean) > 2*std:\n",
    "#             print time\n",
    "#             counter +=1\n",
    "#     print counter\n",
    "\n",
    "# directory = get_directory_path(\"arangodb\",\"60hz\",\"rw_read\")\n",
    "# file_path = directory+get_log_file_name(directory)\n",
    "# outlier_removal(file_path,\"Query_id : 0\")"
   ]
  },
  {
   "cell_type": "code",
   "execution_count": null,
   "metadata": {
    "collapsed": true
   },
   "outputs": [],
   "source": []
  }
 ],
 "metadata": {
  "kernelspec": {
   "display_name": "Python 2",
   "language": "python",
   "name": "python2"
  },
  "language_info": {
   "codemirror_mode": {
    "name": "ipython",
    "version": 2
   },
   "file_extension": ".py",
   "mimetype": "text/x-python",
   "name": "python",
   "nbconvert_exporter": "python",
   "pygments_lexer": "ipython2",
   "version": "2.7.14"
  }
 },
 "nbformat": 4,
 "nbformat_minor": 2
}
