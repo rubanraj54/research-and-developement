{
 "cells": [
  {
   "cell_type": "code",
   "execution_count": 1,
   "metadata": {
    "collapsed": true
   },
   "outputs": [],
   "source": [
    "from pyArango.connection import *"
   ]
  },
  {
   "cell_type": "code",
   "execution_count": 20,
   "metadata": {},
   "outputs": [],
   "source": [
    "conn = Connection(arangoURL='http://127.0.0.1:11001')"
   ]
  },
  {
   "cell_type": "code",
   "execution_count": 22,
   "metadata": {},
   "outputs": [
    {
     "data": {
      "text/plain": [
       "ArangoDB database: robot"
      ]
     },
     "execution_count": 22,
     "metadata": {},
     "output_type": "execute_result"
    }
   ],
   "source": [
    "conn.createDatabase(name=\"robot\")"
   ]
  },
  {
   "cell_type": "code",
   "execution_count": 24,
   "metadata": {},
   "outputs": [
    {
     "ename": "CreationError",
     "evalue": "Database robot already has a collection named users. Errors: {}",
     "output_type": "error",
     "traceback": [
      "\u001b[0;31m---------------------------------------------------------------------------\u001b[0m",
      "\u001b[0;31mCreationError\u001b[0m                             Traceback (most recent call last)",
      "\u001b[0;32m<ipython-input-24-7650f0e8460a>\u001b[0m in \u001b[0;36m<module>\u001b[0;34m()\u001b[0m\n\u001b[1;32m      1\u001b[0m \u001b[0mdb\u001b[0m \u001b[0;34m=\u001b[0m \u001b[0mconn\u001b[0m\u001b[0;34m[\u001b[0m\u001b[0;34m\"robot\"\u001b[0m\u001b[0;34m]\u001b[0m \u001b[0;31m# all databases are loaded automatically into the connection and are accessible in this fashion\u001b[0m\u001b[0;34m\u001b[0m\u001b[0m\n\u001b[0;32m----> 2\u001b[0;31m \u001b[0mcollection\u001b[0m \u001b[0;34m=\u001b[0m \u001b[0mdb\u001b[0m\u001b[0;34m.\u001b[0m\u001b[0mcreateCollection\u001b[0m\u001b[0;34m(\u001b[0m\u001b[0mname\u001b[0m\u001b[0;34m=\u001b[0m\u001b[0;34m\"users\"\u001b[0m\u001b[0;34m)\u001b[0m \u001b[0;31m# all collections are also loaded automatically\u001b[0m\u001b[0;34m\u001b[0m\u001b[0m\n\u001b[0m",
      "\u001b[0;32m/home/ruby/anaconda2/lib/python2.7/site-packages/pyArango/database.pyc\u001b[0m in \u001b[0;36mcreateCollection\u001b[0;34m(self, className, waitForSync, **colArgs)\u001b[0m\n\u001b[1;32m     96\u001b[0m \u001b[0;34m\u001b[0m\u001b[0m\n\u001b[1;32m     97\u001b[0m         \u001b[0;32mif\u001b[0m \u001b[0mcolArgs\u001b[0m\u001b[0;34m[\u001b[0m\u001b[0;34m'name'\u001b[0m\u001b[0;34m]\u001b[0m \u001b[0;32min\u001b[0m \u001b[0mself\u001b[0m\u001b[0;34m.\u001b[0m\u001b[0mcollections\u001b[0m \u001b[0;34m:\u001b[0m\u001b[0;34m\u001b[0m\u001b[0m\n\u001b[0;32m---> 98\u001b[0;31m             \u001b[0;32mraise\u001b[0m \u001b[0mCreationError\u001b[0m\u001b[0;34m(\u001b[0m\u001b[0;34m\"Database %s already has a collection named %s\"\u001b[0m \u001b[0;34m%\u001b[0m \u001b[0;34m(\u001b[0m\u001b[0mself\u001b[0m\u001b[0;34m.\u001b[0m\u001b[0mname\u001b[0m\u001b[0;34m,\u001b[0m \u001b[0mcolArgs\u001b[0m\u001b[0;34m[\u001b[0m\u001b[0;34m'name'\u001b[0m\u001b[0;34m]\u001b[0m\u001b[0;34m)\u001b[0m \u001b[0;34m)\u001b[0m\u001b[0;34m\u001b[0m\u001b[0m\n\u001b[0m\u001b[1;32m     99\u001b[0m \u001b[0;34m\u001b[0m\u001b[0m\n\u001b[1;32m    100\u001b[0m         \u001b[0;32mif\u001b[0m \u001b[0missubclass\u001b[0m\u001b[0;34m(\u001b[0m\u001b[0mcolClass\u001b[0m\u001b[0;34m,\u001b[0m \u001b[0mCOL\u001b[0m\u001b[0;34m.\u001b[0m\u001b[0mEdges\u001b[0m\u001b[0;34m)\u001b[0m \u001b[0;32mor\u001b[0m \u001b[0mcolClass\u001b[0m\u001b[0;34m.\u001b[0m\u001b[0m__class__\u001b[0m \u001b[0;32mis\u001b[0m \u001b[0mCOL\u001b[0m\u001b[0;34m.\u001b[0m\u001b[0mEdges\u001b[0m\u001b[0;34m:\u001b[0m\u001b[0;34m\u001b[0m\u001b[0m\n",
      "\u001b[0;31mCreationError\u001b[0m: Database robot already has a collection named users. Errors: {}"
     ]
    }
   ],
   "source": [
    "db = conn[\"robot\"] # all databases are loaded automatically into the connection and are accessible in this fashion\n",
    "collection = db.createCollection(name=\"users\") # all collections are also loaded automatically\n"
   ]
  },
  {
   "cell_type": "code",
   "execution_count": 25,
   "metadata": {
    "collapsed": true
   },
   "outputs": [],
   "source": [
    "for i in xrange(100):\n",
    "    doc = collection.createDocument()\n",
    "    doc[\"name\"] = \"Tesla-%d\" % i\n",
    "    doc[\"number\"] = i\n",
    "    doc[\"species\"] = \"human\"\n",
    "    doc.save()"
   ]
  },
  {
   "cell_type": "code",
   "execution_count": 26,
   "metadata": {},
   "outputs": [
    {
     "name": "stdout",
     "output_type": "stream",
     "text": [
      "100\n"
     ]
    }
   ],
   "source": [
    "example = {'species': \"human\"}\n",
    "query = collection.fetchByExample(example, batchSize=20, count=True)\n",
    "print query.count # print the total number or documents"
   ]
  },
  {
   "cell_type": "code",
   "execution_count": 27,
   "metadata": {},
   "outputs": [
    {
     "name": "stdout",
     "output_type": "stream",
     "text": [
      "ArangoDoc '_id: users/4400111, _key: 4400111, _rev: _W_KPaMy--A': <store: {u'species': u'human', u'name': u'Tesla-57', u'number': 57}>\n"
     ]
    }
   ],
   "source": [
    "for q in query:\n",
    "    print q\n",
    "    break"
   ]
  },
  {
   "cell_type": "code",
   "execution_count": 2,
   "metadata": {
    "collapsed": true
   },
   "outputs": [],
   "source": [
    "conn2 = Connection(arangoURL='http://127.0.0.1:11002')"
   ]
  },
  {
   "cell_type": "code",
   "execution_count": 5,
   "metadata": {},
   "outputs": [],
   "source": [
    "db = conn2[\"robot\"]"
   ]
  },
  {
   "cell_type": "code",
   "execution_count": null,
   "metadata": {
    "collapsed": true
   },
   "outputs": [],
   "source": [
    "collection = db.createCollection(name=\"users\")"
   ]
  },
  {
   "cell_type": "code",
   "execution_count": 7,
   "metadata": {},
   "outputs": [],
   "source": [
    "collection = db.collections?"
   ]
  },
  {
   "cell_type": "code",
   "execution_count": 13,
   "metadata": {},
   "outputs": [],
   "source": [
    "collection = db.collections['users']"
   ]
  },
  {
   "cell_type": "code",
   "execution_count": 14,
   "metadata": {
    "collapsed": true
   },
   "outputs": [],
   "source": [
    "example = {'species': \"human\"}\n",
    "query = collection.fetchByExample(example, batchSize=20, count=True)"
   ]
  },
  {
   "cell_type": "code",
   "execution_count": 15,
   "metadata": {
    "scrolled": true
   },
   "outputs": [
    {
     "name": "stdout",
     "output_type": "stream",
     "text": [
      "ArangoDoc '_id: users/4400111, _key: 4400111, _rev: _W_KPaMy--A': <store: {u'species': u'human', u'name': u'Tesla-57', u'number': 57}>\n"
     ]
    }
   ],
   "source": [
    "for q in query:\n",
    "    print q\n",
    "    break"
   ]
  },
  {
   "cell_type": "code",
   "execution_count": 1,
   "metadata": {
    "collapsed": true
   },
   "outputs": [],
   "source": [
    "from arango import ArangoClient"
   ]
  },
  {
   "cell_type": "code",
   "execution_count": 2,
   "metadata": {
    "collapsed": true
   },
   "outputs": [],
   "source": [
    "# Initialize the client for ArangoDB\n",
    "client = ArangoClient(\n",
    "    protocol='http',\n",
    "    host='localhost',\n",
    "    port=11001,\n",
    "    enable_logging=True\n",
    ")\n"
   ]
  },
  {
   "cell_type": "code",
   "execution_count": 10,
   "metadata": {},
   "outputs": [],
   "source": [
    "try:\n",
    "    db = client.create_database('robot')\n",
    "except:\n",
    "    pass"
   ]
  },
  {
   "cell_type": "code",
   "execution_count": 11,
   "metadata": {
    "collapsed": true
   },
   "outputs": [],
   "source": [
    "db = client.database('robot')"
   ]
  },
  {
   "cell_type": "code",
   "execution_count": 12,
   "metadata": {},
   "outputs": [
    {
     "ename": "CollectionCreateError",
     "evalue": "[HTTP 409][ERR 1207] duplicate name",
     "output_type": "error",
     "traceback": [
      "\u001b[0;31m---------------------------------------------------------------------------\u001b[0m",
      "\u001b[0;31mCollectionCreateError\u001b[0m                     Traceback (most recent call last)",
      "\u001b[0;32m<ipython-input-12-59536fe5cc11>\u001b[0m in \u001b[0;36m<module>\u001b[0;34m()\u001b[0m\n\u001b[0;32m----> 1\u001b[0;31m \u001b[0musers\u001b[0m \u001b[0;34m=\u001b[0m \u001b[0mdb\u001b[0m\u001b[0;34m.\u001b[0m\u001b[0mcreate_collection\u001b[0m\u001b[0;34m(\u001b[0m\u001b[0;34m'users'\u001b[0m\u001b[0;34m)\u001b[0m\u001b[0;34m\u001b[0m\u001b[0m\n\u001b[0m",
      "\u001b[0;32m/home/ruby/anaconda2/lib/python2.7/site-packages/arango/database.pyc\u001b[0m in \u001b[0;36mcreate_collection\u001b[0;34m(self, name, sync, compact, system, journal_size, edge, volatile, user_keys, key_increment, key_offset, key_generator, shard_fields, shard_count, index_bucket_count, replication_factor)\u001b[0m\n\u001b[1;32m    658\u001b[0m         \u001b[0mres\u001b[0m \u001b[0;34m=\u001b[0m \u001b[0mself\u001b[0m\u001b[0;34m.\u001b[0m\u001b[0m_conn\u001b[0m\u001b[0;34m.\u001b[0m\u001b[0mpost\u001b[0m\u001b[0;34m(\u001b[0m\u001b[0;34m'/_api/collection'\u001b[0m\u001b[0;34m,\u001b[0m \u001b[0mdata\u001b[0m\u001b[0;34m=\u001b[0m\u001b[0mdata\u001b[0m\u001b[0;34m)\u001b[0m\u001b[0;34m\u001b[0m\u001b[0m\n\u001b[1;32m    659\u001b[0m         \u001b[0;32mif\u001b[0m \u001b[0mres\u001b[0m\u001b[0;34m.\u001b[0m\u001b[0mstatus_code\u001b[0m \u001b[0;32mnot\u001b[0m \u001b[0;32min\u001b[0m \u001b[0mHTTP_OK\u001b[0m\u001b[0;34m:\u001b[0m\u001b[0;34m\u001b[0m\u001b[0m\n\u001b[0;32m--> 660\u001b[0;31m             \u001b[0;32mraise\u001b[0m \u001b[0mCollectionCreateError\u001b[0m\u001b[0;34m(\u001b[0m\u001b[0mres\u001b[0m\u001b[0;34m)\u001b[0m\u001b[0;34m\u001b[0m\u001b[0m\n\u001b[0m\u001b[1;32m    661\u001b[0m         \u001b[0;32mreturn\u001b[0m \u001b[0mself\u001b[0m\u001b[0;34m.\u001b[0m\u001b[0mcollection\u001b[0m\u001b[0;34m(\u001b[0m\u001b[0mname\u001b[0m\u001b[0;34m)\u001b[0m\u001b[0;34m\u001b[0m\u001b[0m\n\u001b[1;32m    662\u001b[0m \u001b[0;34m\u001b[0m\u001b[0m\n",
      "\u001b[0;31mCollectionCreateError\u001b[0m: [HTTP 409][ERR 1207] duplicate name"
     ]
    }
   ],
   "source": [
    "users = db.create_collection('users')"
   ]
  },
  {
   "cell_type": "code",
   "execution_count": 13,
   "metadata": {
    "collapsed": true
   },
   "outputs": [],
   "source": [
    "users = db.collection('users')"
   ]
  },
  {
   "cell_type": "code",
   "execution_count": 42,
   "metadata": {},
   "outputs": [],
   "source": [
    "import datetime\n",
    "for i in xrange(100):\n",
    "    lola = {'GPA': int(datetime.datetime.now().strftime('%s')), 'first': 'Lola', 'last': 'Martin'}\n",
    "    users.insert(lola)"
   ]
  },
  {
   "cell_type": "code",
   "execution_count": 41,
   "metadata": {},
   "outputs": [
    {
     "data": {
      "text/plain": [
       "1512175692"
      ]
     },
     "execution_count": 41,
     "metadata": {},
     "output_type": "execute_result"
    }
   ],
   "source": [
    "int(datetime.datetime.now().strftime('%s'))"
   ]
  },
  {
   "cell_type": "code",
   "execution_count": 15,
   "metadata": {},
   "outputs": [
    {
     "name": "stdout",
     "output_type": "stream",
     "text": [
      "{u'last': u'Martin', u'_key': u'12400271', u'_rev': u'_W_QkqQC--A', u'GPA': 3.5, u'_id': u'users/12400271', u'first': u'Lola'}\n",
      "{u'last': u'Martin', u'_key': u'12400277', u'_rev': u'_W_QkqQq--A', u'GPA': 3.5, u'_id': u'users/12400277', u'first': u'Lola'}\n"
     ]
    }
   ],
   "source": [
    "for user in db.aql.execute('FOR s IN users LIMIT 2 RETURN s'):\n",
    "    print user"
   ]
  },
  {
   "cell_type": "code",
   "execution_count": 44,
   "metadata": {},
   "outputs": [],
   "source": [
    "pose_events = db.collection('pose_event')"
   ]
  },
  {
   "cell_type": "code",
   "execution_count": 52,
   "metadata": {},
   "outputs": [
    {
     "name": "stdout",
     "output_type": "stream",
     "text": [
      "{u'z': 45.43483681374638, u'_key': u'12400951', u'_rev': u'_W_QxGba--_', u'event_timestamp': 1512175772, u'y': 27.667986897012035, u'x': 28.30195753150487, u'robot_id': u'1', u'theta': 59.62154419628786, u'_id': u'pose_event/12400951'}\n"
     ]
    }
   ],
   "source": [
    "for pose in pose_events:\n",
    "    print pose\n",
    "    break"
   ]
  },
  {
   "cell_type": "code",
   "execution_count": null,
   "metadata": {
    "collapsed": true
   },
   "outputs": [],
   "source": []
  }
 ],
 "metadata": {
  "kernelspec": {
   "display_name": "Python 2",
   "language": "python",
   "name": "python2"
  },
  "language_info": {
   "codemirror_mode": {
    "name": "ipython",
    "version": 2
   },
   "file_extension": ".py",
   "mimetype": "text/x-python",
   "name": "python",
   "nbconvert_exporter": "python",
   "pygments_lexer": "ipython2",
   "version": "2.7.14"
  }
 },
 "nbformat": 4,
 "nbformat_minor": 2
}
