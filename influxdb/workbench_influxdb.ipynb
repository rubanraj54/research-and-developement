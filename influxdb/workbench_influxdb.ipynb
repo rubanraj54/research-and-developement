{
 "cells": [
  {
   "cell_type": "code",
   "execution_count": 54,
   "metadata": {
    "collapsed": true
   },
   "outputs": [],
   "source": [
    "import datetime\n",
    "from influxdb import InfluxDBClient"
   ]
  },
  {
   "cell_type": "code",
   "execution_count": 41,
   "metadata": {
    "collapsed": true
   },
   "outputs": [],
   "source": [
    "client = InfluxDBClient('localhost', 8086, 'root', 'root', 'robot')"
   ]
  },
  {
   "cell_type": "code",
   "execution_count": 42,
   "metadata": {},
   "outputs": [
    {
     "data": {
      "text/plain": [
       "ResultSet({'(u'databases', None)': [{u'name': u'_internal'}, {u'name': u'robot'}]})"
      ]
     },
     "execution_count": 42,
     "metadata": {},
     "output_type": "execute_result"
    }
   ],
   "source": [
    "client.query('show databases;',)"
   ]
  },
  {
   "cell_type": "code",
   "execution_count": 44,
   "metadata": {},
   "outputs": [
    {
     "data": {
      "text/plain": [
       "ResultSet({'(u'measurements', None)': [{u'name': u'handle_bar_voltage_events'}, {u'name': u'location_events'}, {u'name': u'motor_voltage_events'}, {u'name': u'pose_events'}, {u'name': u'rgb_events'}]})"
      ]
     },
     "execution_count": 44,
     "metadata": {},
     "output_type": "execute_result"
    }
   ],
   "source": [
    "client.query('show measurements;',)"
   ]
  },
  {
   "cell_type": "code",
   "execution_count": 66,
   "metadata": {},
   "outputs": [],
   "source": [
    "end_time_range = datetime.datetime.now()\n",
    "start_time_range = int((end_time_range - datetime.timedelta(seconds=3000)).strftime('%s'))\n",
    "end_time_range = int(end_time_range.strftime('%s'))\n",
    "query = \"select * from rgb_events where blob=True and timestamp>\"+str(start_time_range)+\" and timestamp<\"+str(end_time_range)+\";\"\n",
    "rs = client.query(query)"
   ]
  },
  {
   "cell_type": "code",
   "execution_count": 70,
   "metadata": {},
   "outputs": [
    {
     "name": "stdout",
     "output_type": "stream",
     "text": [
      "True\n"
     ]
    }
   ],
   "source": [
    "for result in rs.get_points():\n",
    "    print result['blob']\n",
    "    break;"
   ]
  },
  {
   "cell_type": "code",
   "execution_count": 84,
   "metadata": {},
   "outputs": [
    {
     "ename": "AttributeError",
     "evalue": "'generator' object has no attribute 'size'",
     "output_type": "error",
     "traceback": [
      "\u001b[0;31m---------------------------------------------------------------------------\u001b[0m",
      "\u001b[0;31mAttributeError\u001b[0m                            Traceback (most recent call last)",
      "\u001b[0;32m<ipython-input-84-eb5676830e10>\u001b[0m in \u001b[0;36m<module>\u001b[0;34m()\u001b[0m\n\u001b[1;32m      5\u001b[0m \u001b[0mpose_events\u001b[0m \u001b[0;34m=\u001b[0m \u001b[0mclient\u001b[0m\u001b[0;34m.\u001b[0m\u001b[0mquery\u001b[0m\u001b[0;34m(\u001b[0m\u001b[0;34m\"select * from pose_events where timestamp >  \"\u001b[0m\u001b[0;34m+\u001b[0m\u001b[0mstr\u001b[0m\u001b[0;34m(\u001b[0m\u001b[0mstart_time_range\u001b[0m\u001b[0;34m)\u001b[0m\u001b[0;34m+\u001b[0m \u001b[0;34m\" LIMIT 10;\"\u001b[0m\u001b[0;34m)\u001b[0m\u001b[0;34m\u001b[0m\u001b[0m\n\u001b[1;32m      6\u001b[0m \u001b[0;34m\u001b[0m\u001b[0m\n\u001b[0;32m----> 7\u001b[0;31m \u001b[0mpose_events\u001b[0m\u001b[0;34m.\u001b[0m\u001b[0mget_points\u001b[0m\u001b[0;34m(\u001b[0m\u001b[0mmeasurement\u001b[0m\u001b[0;34m=\u001b[0m\u001b[0;34m\"pose_events\"\u001b[0m\u001b[0;34m)\u001b[0m\u001b[0;34m.\u001b[0m\u001b[0msize\u001b[0m\u001b[0;34m(\u001b[0m\u001b[0;34m)\u001b[0m\u001b[0;34m\u001b[0m\u001b[0m\n\u001b[0m\u001b[1;32m      8\u001b[0m \u001b[0mcounter\u001b[0m \u001b[0;34m=\u001b[0m\u001b[0;36m0\u001b[0m\u001b[0;34m\u001b[0m\u001b[0m\n\u001b[1;32m      9\u001b[0m \u001b[0;32mfor\u001b[0m \u001b[0mresult\u001b[0m \u001b[0;32min\u001b[0m \u001b[0mpose_events\u001b[0m\u001b[0;34m.\u001b[0m\u001b[0mget_points\u001b[0m\u001b[0;34m(\u001b[0m\u001b[0mmeasurement\u001b[0m\u001b[0;34m=\u001b[0m\u001b[0;34m\"pose_events\"\u001b[0m\u001b[0;34m)\u001b[0m\u001b[0;34m:\u001b[0m\u001b[0;34m\u001b[0m\u001b[0m\n",
      "\u001b[0;31mAttributeError\u001b[0m: 'generator' object has no attribute 'size'"
     ]
    }
   ],
   "source": [
    "#get first 10 PoseEvents generated today\n",
    "start_time_range = datetime.datetime.combine(datetime.date.today(), datetime.time())\n",
    "start_time_range = int(start_time_range.strftime('%s'))\n",
    "\n",
    "pose_events = client.query(\"select * from pose_events where timestamp >  \"+str(start_time_range)+ \" LIMIT 10;\")\n",
    "\n",
    "counter =0\n",
    "for result in pose_events.get_points(measurement=\"pose_events\"):\n",
    "    counter += 1\n",
    "print counter"
   ]
  },
  {
   "cell_type": "code",
   "execution_count": 79,
   "metadata": {},
   "outputs": [
    {
     "data": {
      "text/plain": [
       "ResultSet({'(u'location_events', None)': [{u'timestamp': 1512558246, u'time': u'2017-12-06T11:04:06.995105217Z', u'longitude': 22.289736573408337, u'robot_id': u'1', u'offset': 83.1876469099924, u'latitude': 64.26472409745934, u'accuracy': 16.593703755053912}, {u'timestamp': 1512558247, u'time': u'2017-12-06T11:04:07.042337345Z', u'longitude': 49.78911325792288, u'robot_id': u'1', u'offset': 9.690974833896963, u'latitude': 85.70161702036765, u'accuracy': 74.69104717441944}, {u'timestamp': 1512558247, u'time': u'2017-12-06T11:04:07.064198312Z', u'longitude': 2.1286247503843185, u'robot_id': u'1', u'offset': 34.708317802492395, u'latitude': 64.4008975833055, u'accuracy': 16.189299977620166}, {u'timestamp': 1512558247, u'time': u'2017-12-06T11:04:07.104717818Z', u'longitude': 21.549616481758754, u'robot_id': u'1', u'offset': 71.71950622049435, u'latitude': 83.84554718843411, u'accuracy': 92.24066955343709}, {u'timestamp': 1512558247, u'time': u'2017-12-06T11:04:07.12913402Z', u'longitude': 16.559240989644298, u'robot_id': u'1', u'offset': 31.694991254002414, u'latitude': 36.66771343808566, u'accuracy': 97.4349536285237}, {u'timestamp': 1512558247, u'time': u'2017-12-06T11:04:07.196942739Z', u'longitude': 49.24966020970211, u'robot_id': u'1', u'offset': 32.81015960950879, u'latitude': 88.67073841699556, u'accuracy': 70.01620194418035}, {u'timestamp': 1512558247, u'time': u'2017-12-06T11:04:07.240410464Z', u'longitude': 35.00158373785217, u'robot_id': u'1', u'offset': 57.55803164129185, u'latitude': 63.24273762801462, u'accuracy': 43.78102079625851}, {u'timestamp': 1512558247, u'time': u'2017-12-06T11:04:07.294149177Z', u'longitude': 5.562656203680083, u'robot_id': u'1', u'offset': 16.09312797764364, u'latitude': 95.59041475837354, u'accuracy': 86.30261012866671}, {u'timestamp': 1512558247, u'time': u'2017-12-06T11:04:07.59387453Z', u'longitude': 25.234840784877328, u'robot_id': u'1', u'offset': 74.39126862684768, u'latitude': 45.09045981060792, u'accuracy': 90.09360627711823}, {u'timestamp': 1512558247, u'time': u'2017-12-06T11:04:07.658008465Z', u'longitude': 14.551462407352856, u'robot_id': u'1', u'offset': 92.29132564563484, u'latitude': 71.45999562820981, u'accuracy': 4.94873069833017}, {u'timestamp': 1512558247, u'time': u'2017-12-06T11:04:07.769943354Z', u'longitude': 25.653151712668134, u'robot_id': u'1', u'offset': 36.25329035098771, u'latitude': 94.47009377859975, u'accuracy': 71.6268679926885}, {u'timestamp': 1512558247, u'time': u'2017-12-06T11:04:07.801079148Z', u'longitude': 28.353441468603197, u'robot_id': u'1', u'offset': 50.44195344568952, u'latitude': 57.44656284359955, u'accuracy': 1.1926986485173776}, {u'timestamp': 1512558247, u'time': u'2017-12-06T11:04:07.83843173Z', u'longitude': 49.515050141130466, u'robot_id': u'1', u'offset': 8.905182487400916, u'latitude': 70.38754345964175, u'accuracy': 96.85115306849283}, {u'timestamp': 1512558247, u'time': u'2017-12-06T11:04:07.954358292Z', u'longitude': 24.538537374490147, u'robot_id': u'1', u'offset': 43.560519670613196, u'latitude': 85.71343001063902, u'accuracy': 19.19487115677273}, {u'timestamp': 1512558248, u'time': u'2017-12-06T11:04:08.079198671Z', u'longitude': 41.05037578281534, u'robot_id': u'1', u'offset': 68.15126677362716, u'latitude': 78.9497359403428, u'accuracy': 14.069803973218937}, {u'timestamp': 1512558248, u'time': u'2017-12-06T11:04:08.247342289Z', u'longitude': 6.572365285927989, u'robot_id': u'1', u'offset': 63.78251017129046, u'latitude': 40.31077651469193, u'accuracy': 54.95003011395677}, {u'timestamp': 1512558248, u'time': u'2017-12-06T11:04:08.492130021Z', u'longitude': 29.610054636513613, u'robot_id': u'1', u'offset': 17.020955332310464, u'latitude': 72.99816436398781, u'accuracy': 94.70399234414606}, {u'timestamp': 1512558248, u'time': u'2017-12-06T11:04:08.603717236Z', u'longitude': 13.752446202285153, u'robot_id': u'1', u'offset': 91.2336497980198, u'latitude': 56.34429360852667, u'accuracy': 75.00347490155355}, {u'timestamp': 1512558248, u'time': u'2017-12-06T11:04:08.670212044Z', u'longitude': 15.981900686463105, u'robot_id': u'1', u'offset': 56.286518043885685, u'latitude': 69.89027518204396, u'accuracy': 95.25408712722151}, {u'timestamp': 1512558248, u'time': u'2017-12-06T11:04:08.917522808Z', u'longitude': 10.039339424113274, u'robot_id': u'1', u'offset': 48.07166960657981, u'latitude': 30.395761773101864, u'accuracy': 53.61041035609627}, {u'timestamp': 1512558248, u'time': u'2017-12-06T11:04:08.949337138Z', u'longitude': 16.019700089646744, u'robot_id': u'1', u'offset': 37.412686196281356, u'latitude': 46.49695060539391, u'accuracy': 72.39384056818012}, {u'timestamp': 1512558249, u'time': u'2017-12-06T11:04:09.016831481Z', u'longitude': 25.901307804356115, u'robot_id': u'1', u'offset': 59.96032650800061, u'latitude': 43.4492460942744, u'accuracy': 44.358295645020384}, {u'timestamp': 1512558249, u'time': u'2017-12-06T11:04:09.089215847Z', u'longitude': 25.14856988059547, u'robot_id': u'1', u'offset': 92.58061388871587, u'latitude': 90.82180564931056, u'accuracy': 49.440562125747}, {u'timestamp': 1512558249, u'time': u'2017-12-06T11:04:09.167633353Z', u'longitude': 44.58491265383201, u'robot_id': u'1', u'offset': 45.61921694833172, u'latitude': 57.23389302594176, u'accuracy': 40.74437323592987}, {u'timestamp': 1512558249, u'time': u'2017-12-06T11:04:09.371372904Z', u'longitude': 5.322340309740036, u'robot_id': u'1', u'offset': 73.20440914731692, u'latitude': 91.54825128029124, u'accuracy': 18.24489739816865}, {u'timestamp': 1512558249, u'time': u'2017-12-06T11:04:09.542205142Z', u'longitude': 37.70134548422458, u'robot_id': u'1', u'offset': 24.476336685481332, u'latitude': 47.988659265718596, u'accuracy': 13.45729585166007}, {u'timestamp': 1512558249, u'time': u'2017-12-06T11:04:09.573453897Z', u'longitude': 29.58821926238516, u'robot_id': u'1', u'offset': 9.131765692003606, u'latitude': 50.7767693682335, u'accuracy': 99.44867824973664}, {u'timestamp': 1512558249, u'time': u'2017-12-06T11:04:09.641277468Z', u'longitude': 20.422153961860463, u'robot_id': u'1', u'offset': 95.42139210763067, u'latitude': 94.10224621734655, u'accuracy': 11.746550458021241}, {u'timestamp': 1512558249, u'time': u'2017-12-06T11:04:09.675697596Z', u'longitude': 28.449153667277834, u'robot_id': u'1', u'offset': 68.46772789610354, u'latitude': 55.0322057566297, u'accuracy': 56.464645660546594}, {u'timestamp': 1512558249, u'time': u'2017-12-06T11:04:09.743918942Z', u'longitude': 33.075997564522936, u'robot_id': u'1', u'offset': 66.32744870195219, u'latitude': 89.10246715820603, u'accuracy': 80.07180483027084}, {u'timestamp': 1512558250, u'time': u'2017-12-06T11:04:10.052509582Z', u'longitude': 47.94530413804718, u'robot_id': u'1', u'offset': 29.805669221876563, u'latitude': 90.19495476724333, u'accuracy': 96.39058431739286}, {u'timestamp': 1512558250, u'time': u'2017-12-06T11:04:10.304374874Z', u'longitude': 2.2860267564531918, u'robot_id': u'1', u'offset': 21.885991691596978, u'latitude': 73.5595099069, u'accuracy': 50.52488927609616}, {u'timestamp': 1512558250, u'time': u'2017-12-06T11:04:10.417479711Z', u'longitude': 22.380341537714298, u'robot_id': u'1', u'offset': 17.603144153047435, u'latitude': 97.7936911297395, u'accuracy': 44.50561877915203}, {u'timestamp': 1512558250, u'time': u'2017-12-06T11:04:10.539602075Z', u'longitude': 42.72572351742516, u'robot_id': u'1', u'offset': 22.78291503461311, u'latitude': 38.817636101549596, u'accuracy': 2.512364483167098}, {u'timestamp': 1512558250, u'time': u'2017-12-06T11:04:10.610375569Z', u'longitude': 25.808660474515204, u'robot_id': u'1', u'offset': 31.496115091341483, u'latitude': 83.5533034796371, u'accuracy': 52.60609273105101}, {u'timestamp': 1512558250, u'time': u'2017-12-06T11:04:10.653148159Z', u'longitude': 38.03018501084594, u'robot_id': u'1', u'offset': 75.10561095317787, u'latitude': 91.52374760269947, u'accuracy': 96.37917224230215}, {u'timestamp': 1512558250, u'time': u'2017-12-06T11:04:10.96542355Z', u'longitude': 19.462715321927583, u'robot_id': u'1', u'offset': 67.06597689535482, u'latitude': 56.99774152523203, u'accuracy': 99.94313456845967}, {u'timestamp': 1512558251, u'time': u'2017-12-06T11:04:11.200646265Z', u'longitude': 37.36110276257761, u'robot_id': u'1', u'offset': 57.627321675002115, u'latitude': 67.51021548206022, u'accuracy': 51.202378652860446}, {u'timestamp': 1512558251, u'time': u'2017-12-06T11:04:11.286974964Z', u'longitude': 35.11739808299641, u'robot_id': u'1', u'offset': 77.1042759825402, u'latitude': 95.68618499215093, u'accuracy': 70.4337204095269}, {u'timestamp': 1512558251, u'time': u'2017-12-06T11:04:11.563043105Z', u'longitude': 15.340137289917827, u'robot_id': u'1', u'offset': 86.980871266671, u'latitude': 36.1472488785013, u'accuracy': 61.637590194382824}, {u'timestamp': 1512558251, u'time': u'2017-12-06T11:04:11.601599215Z', u'longitude': 44.9658698631707, u'robot_id': u'1', u'offset': 30.405377865476982, u'latitude': 31.091404920432726, u'accuracy': 42.38242899284223}, {u'timestamp': 1512558251, u'time': u'2017-12-06T11:04:11.739409912Z', u'longitude': 19.42755006794697, u'robot_id': u'1', u'offset': 78.85145373936895, u'latitude': 48.82302127644261, u'accuracy': 99.28749377871283}, {u'timestamp': 1512558251, u'time': u'2017-12-06T11:04:11.78035308Z', u'longitude': 41.88803141034526, u'robot_id': u'1', u'offset': 19.220212177523813, u'latitude': 96.55750967580781, u'accuracy': 78.41063160226479}, {u'timestamp': 1512558251, u'time': u'2017-12-06T11:04:11.862132729Z', u'longitude': 33.27879264292959, u'robot_id': u'1', u'offset': 27.302370687270972, u'latitude': 90.62128100642246, u'accuracy': 97.31552152464145}, {u'timestamp': 1512558251, u'time': u'2017-12-06T11:04:11.987045527Z', u'longitude': 24.9052232502429, u'robot_id': u'1', u'offset': 84.94561717198478, u'latitude': 75.70028143775696, u'accuracy': 99.45655454194497}, {u'timestamp': 1512558252, u'time': u'2017-12-06T11:04:12.16528615Z', u'longitude': 5.031755671674808, u'robot_id': u'1', u'offset': 43.56192128837985, u'latitude': 37.76794566265846, u'accuracy': 22.96571104538406}, {u'timestamp': 1512558252, u'time': u'2017-12-06T11:04:12.197048382Z', u'longitude': 48.95728890452418, u'robot_id': u'1', u'offset': 70.7051215649734, u'latitude': 39.741350155352876, u'accuracy': 43.48364595997111}, {u'timestamp': 1512558252, u'time': u'2017-12-06T11:04:12.258134044Z', u'longitude': 41.08063627249522, u'robot_id': u'1', u'offset': 34.49697363740865, u'latitude': 39.401353941612726, u'accuracy': 7.5368399148262535}, {u'timestamp': 1512558252, u'time': u'2017-12-06T11:04:12.289429308Z', u'longitude': 20.185284799601735, u'robot_id': u'1', u'offset': 7.205085705603898, u'latitude': 59.824540130039814, u'accuracy': 86.54235505758687}, {u'timestamp': 1512558252, u'time': u'2017-12-06T11:04:12.575499973Z', u'longitude': 1.345058279128744, u'robot_id': u'1', u'offset': 21.497034873784003, u'latitude': 36.279221971559416, u'accuracy': 81.8919034138751}, {u'timestamp': 1512558252, u'time': u'2017-12-06T11:04:12.608223939Z', u'longitude': 5.526932132704234, u'robot_id': u'1', u'offset': 9.055453043983453, u'latitude': 56.26793151924944, u'accuracy': 65.04002923222427}, {u'timestamp': 1512558252, u'time': u'2017-12-06T11:04:12.712476365Z', u'longitude': 28.803543386881465, u'robot_id': u'1', u'offset': 17.303166997043657, u'latitude': 67.66997272208913, u'accuracy': 13.725346991505278}, {u'timestamp': 1512558252, u'time': u'2017-12-06T11:04:12.797372455Z', u'longitude': 29.956212641330644, u'robot_id': u'1', u'offset': 88.25953837236631, u'latitude': 93.71031910678138, u'accuracy': 90.22390660900999}, {u'timestamp': 1512558253, u'time': u'2017-12-06T11:04:13.324077018Z', u'longitude': 36.05498917438248, u'robot_id': u'1', u'offset': 64.97572374597883, u'latitude': 37.07496966892159, u'accuracy': 34.30802400792177}, {u'timestamp': 1512558253, u'time': u'2017-12-06T11:04:13.395666484Z', u'longitude': 19.403561070455854, u'robot_id': u'1', u'offset': 27.857874045015656, u'latitude': 64.975694503309, u'accuracy': 85.50621877951345}, {u'timestamp': 1512558253, u'time': u'2017-12-06T11:04:13.562978816Z', u'longitude': 27.546890747339553, u'robot_id': u'1', u'offset': 38.060585500752914, u'latitude': 62.741773446668894, u'accuracy': 46.13397479555658}, {u'timestamp': 1512558253, u'time': u'2017-12-06T11:04:13.667929566Z', u'longitude': 27.95405534646198, u'robot_id': u'1', u'offset': 93.99262357830712, u'latitude': 36.97820811531652, u'accuracy': 68.922569794355}, {u'timestamp': 1512558253, u'time': u'2017-12-06T11:04:13.852240394Z', u'longitude': 39.20222873454577, u'robot_id': u'1', u'offset': 19.85153920213935, u'latitude': 64.00373662954344, u'accuracy': 80.410108803309}, {u'timestamp': 1512558253, u'time': u'2017-12-06T11:04:13.981690694Z', u'longitude': 30.840520884957616, u'robot_id': u'1', u'offset': 21.234307585987455, u'latitude': 62.062280839196895, u'accuracy': 4.628036053750172}, {u'timestamp': 1512558254, u'time': u'2017-12-06T11:04:14.077448974Z', u'longitude': 30.19989108400066, u'robot_id': u'1', u'offset': 66.69312584700285, u'latitude': 95.9720605205843, u'accuracy': 79.57707384460676}, {u'timestamp': 1512558254, u'time': u'2017-12-06T11:04:14.175057214Z', u'longitude': 2.8107882194542633, u'robot_id': u'1', u'offset': 54.45013632246606, u'latitude': 65.79317668678988, u'accuracy': 47.33507427727955}, {u'timestamp': 1512558254, u'time': u'2017-12-06T11:04:14.234626749Z', u'longitude': 7.164411914081303, u'robot_id': u'1', u'offset': 49.10176360949564, u'latitude': 77.56574469996622, u'accuracy': 97.26971361181407}, {u'timestamp': 1512558254, u'time': u'2017-12-06T11:04:14.267324247Z', u'longitude': 27.869557100935076, u'robot_id': u'1', u'offset': 37.2463850476425, u'latitude': 42.49294995955502, u'accuracy': 92.45535103702873}, {u'timestamp': 1512558254, u'time': u'2017-12-06T11:04:14.313254468Z', u'longitude': 32.528156032382284, u'robot_id': u'1', u'offset': 38.47453919091783, u'latitude': 99.79861878156856, u'accuracy': 13.210757737732697}, {u'timestamp': 1512558254, u'time': u'2017-12-06T11:04:14.338869314Z', u'longitude': 24.485311483807788, u'robot_id': u'1', u'offset': 49.550969354942865, u'latitude': 57.25601381077941, u'accuracy': 58.56114348518008}, {u'timestamp': 1512558254, u'time': u'2017-12-06T11:04:14.368238231Z', u'longitude': 25.001162728182752, u'robot_id': u'1', u'offset': 35.99114063227384, u'latitude': 80.51519273475367, u'accuracy': 83.4638229646087}, {u'timestamp': 1512558254, u'time': u'2017-12-06T11:04:14.503014274Z', u'longitude': 37.61602120776485, u'robot_id': u'1', u'offset': 88.83731729173117, u'latitude': 46.11671042757359, u'accuracy': 93.91042817035094}, {u'timestamp': 1512558254, u'time': u'2017-12-06T11:04:14.680929869Z', u'longitude': 30.397844767414195, u'robot_id': u'1', u'offset': 75.96587941877841, u'latitude': 49.51877536762694, u'accuracy': 99.37602997367281}, {u'timestamp': 1512558254, u'time': u'2017-12-06T11:04:14.745590472Z', u'longitude': 33.81103070114314, u'robot_id': u'1', u'offset': 61.342349311694235, u'latitude': 82.2439962923375, u'accuracy': 26.582802513832977}, {u'timestamp': 1512558254, u'time': u'2017-12-06T11:04:14.811925444Z', u'longitude': 45.19061524198113, u'robot_id': u'1', u'offset': 74.93474715220798, u'latitude': 92.35350677669558, u'accuracy': 43.47544064971458}, {u'timestamp': 1512558254, u'time': u'2017-12-06T11:04:14.84522258Z', u'longitude': 12.473672046374269, u'robot_id': u'1', u'offset': 86.67146817429824, u'latitude': 46.39983267589507, u'accuracy': 92.36421676086363}, {u'timestamp': 1512558255, u'time': u'2017-12-06T11:04:15.027173318Z', u'longitude': 34.874954737804494, u'robot_id': u'1', u'offset': 65.11063667687809, u'latitude': 35.75026876073799, u'accuracy': 97.46383954029584}, {u'timestamp': 1512558255, u'time': u'2017-12-06T11:04:15.268554308Z', u'longitude': 18.18745658408862, u'robot_id': u'1', u'offset': 2.0273492627204224, u'latitude': 35.48829821258637, u'accuracy': 73.02638852902963}, {u'timestamp': 1512558255, u'time': u'2017-12-06T11:04:15.294330059Z', u'longitude': 9.036217279698485, u'robot_id': u'1', u'offset': 21.48325961265947, u'latitude': 65.08074778778756, u'accuracy': 74.02156761335375}, {u'timestamp': 1512558255, u'time': u'2017-12-06T11:04:15.318643488Z', u'longitude': 42.754814276983865, u'robot_id': u'1', u'offset': 60.389972801738196, u'latitude': 57.94654407027087, u'accuracy': 20.494246377989985}, {u'timestamp': 1512558255, u'time': u'2017-12-06T11:04:15.433141548Z', u'longitude': 31.25806683660736, u'robot_id': u'1', u'offset': 32.66650303192928, u'latitude': 74.71880959141787, u'accuracy': 31.676717281221563}, {u'timestamp': 1512558255, u'time': u'2017-12-06T11:04:15.526322444Z', u'longitude': 7.35511825814591, u'robot_id': u'1', u'offset': 79.46265905380453, u'latitude': 54.824900688247254, u'accuracy': 97.63701970490028}, {u'timestamp': 1512558255, u'time': u'2017-12-06T11:04:15.756371944Z', u'longitude': 17.448795557621626, u'robot_id': u'1', u'offset': 81.66018414572099, u'latitude': 35.816057425945104, u'accuracy': 20.835208560377243}, {u'timestamp': 1512558255, u'time': u'2017-12-06T11:04:15.823117772Z', u'longitude': 21.317714324759592, u'robot_id': u'1', u'offset': 90.96429845581926, u'latitude': 88.58434938638806, u'accuracy': 7.079022569539821}, {u'timestamp': 1512558256, u'time': u'2017-12-06T11:04:16.067758777Z', u'longitude': 4.018774552470853, u'robot_id': u'1', u'offset': 14.998005814377306, u'latitude': 38.685182821143705, u'accuracy': 9.427900971104863}, {u'timestamp': 1512558256, u'time': u'2017-12-06T11:04:16.321147431Z', u'longitude': 6.813838644854973, u'robot_id': u'1', u'offset': 31.90443468571552, u'latitude': 53.79929037468916, u'accuracy': 92.3325254256052}, {u'timestamp': 1512558256, u'time': u'2017-12-06T11:04:16.34176107Z', u'longitude': 38.70980428166759, u'robot_id': u'1', u'offset': 84.18165791698243, u'latitude': 69.92173592110892, u'accuracy': 95.71444746641895}, {u'timestamp': 1512558256, u'time': u'2017-12-06T11:04:16.390393732Z', u'longitude': 33.42972758341714, u'robot_id': u'1', u'offset': 5.566293887184107, u'latitude': 53.53983958735071, u'accuracy': 62.20435793072172}, {u'timestamp': 1512558256, u'time': u'2017-12-06T11:04:16.413334356Z', u'longitude': 11.12187938566663, u'robot_id': u'1', u'offset': 81.8064496730041, u'latitude': 50.22538045892919, u'accuracy': 88.12710665567619}, {u'timestamp': 1512558256, u'time': u'2017-12-06T11:04:16.443494053Z', u'longitude': 32.95575927537371, u'robot_id': u'1', u'offset': 41.70689263676999, u'latitude': 78.1288058390019, u'accuracy': 87.5012921490822}, {u'timestamp': 1512558256, u'time': u'2017-12-06T11:04:16.474745766Z', u'longitude': 47.94534825142488, u'robot_id': u'1', u'offset': 15.475561513579452, u'latitude': 83.71683313642862, u'accuracy': 48.4451809808906}, {u'timestamp': 1512558256, u'time': u'2017-12-06T11:04:16.555942752Z', u'longitude': 40.38524280466161, u'robot_id': u'1', u'offset': 67.99981409269301, u'latitude': 38.26367849871401, u'accuracy': 97.1548653306793}, {u'timestamp': 1512558256, u'time': u'2017-12-06T11:04:16.698122793Z', u'longitude': 27.37601347167917, u'robot_id': u'1', u'offset': 68.75515730040657, u'latitude': 80.69331167588298, u'accuracy': 79.76902590049265}, {u'timestamp': 1512558256, u'time': u'2017-12-06T11:04:16.772485741Z', u'longitude': 48.71566310385235, u'robot_id': u'1', u'offset': 26.820669712181513, u'latitude': 93.05730314409622, u'accuracy': 2.4664426821792804}, {u'timestamp': 1512558256, u'time': u'2017-12-06T11:04:16.849709402Z', u'longitude': 38.35925624649278, u'robot_id': u'1', u'offset': 27.773642164782668, u'latitude': 63.598946973702546, u'accuracy': 42.369165509680535}, {u'timestamp': 1512558256, u'time': u'2017-12-06T11:04:16.881064171Z', u'longitude': 27.89469892900522, u'robot_id': u'1', u'offset': 69.98889384431615, u'latitude': 44.618836857274474, u'accuracy': 86.33859059290192}, {u'timestamp': 1512558323, u'time': u'2017-12-06T11:05:23.093209852Z', u'longitude': 37.412005462478824, u'robot_id': u'1', u'offset': 73.70693621024405, u'latitude': 92.72137686199305, u'accuracy': 69.2687600928649}, {u'timestamp': 1512558323, u'time': u'2017-12-06T11:05:23.1313116Z', u'longitude': 44.44097449801166, u'robot_id': u'1', u'offset': 43.79388651542427, u'latitude': 56.112932922281814, u'accuracy': 30.407744178441877}, {u'timestamp': 1512558323, u'time': u'2017-12-06T11:05:23.168146852Z', u'longitude': 47.41902293465496, u'robot_id': u'1', u'offset': 58.39469574663615, u'latitude': 55.361284303159245, u'accuracy': 63.58834424169541}, {u'timestamp': 1512558323, u'time': u'2017-12-06T11:05:23.245146538Z', u'longitude': 17.03286531750979, u'robot_id': u'1', u'offset': 79.99271861090858, u'latitude': 64.94024441821261, u'accuracy': 72.6796027867881}, {u'timestamp': 1512558323, u'time': u'2017-12-06T11:05:23.304937924Z', u'longitude': 25.439880242311606, u'robot_id': u'1', u'offset': 97.19451471051158, u'latitude': 33.707988906024454, u'accuracy': 57.582090361650685}, {u'timestamp': 1512558323, u'time': u'2017-12-06T11:05:23.34259624Z', u'longitude': 19.133440987000995, u'robot_id': u'1', u'offset': 90.46195737367425, u'latitude': 99.14185583981495, u'accuracy': 29.733082288134966}, {u'timestamp': 1512558323, u'time': u'2017-12-06T11:05:23.373010607Z', u'longitude': 16.948976147087272, u'robot_id': u'1', u'offset': 47.723817052836495, u'latitude': 40.41480979392727, u'accuracy': 21.667433887682776}, {u'timestamp': 1512558323, u'time': u'2017-12-06T11:05:23.478914652Z', u'longitude': 34.71675543571488, u'robot_id': u'1', u'offset': 80.19547995322783, u'latitude': 35.55372386346055, u'accuracy': 67.5501630769466}, {u'timestamp': 1512558323, u'time': u'2017-12-06T11:05:23.786360758Z', u'longitude': 37.22957214447318, u'robot_id': u'1', u'offset': 67.43845583152672, u'latitude': 87.95934675711389, u'accuracy': 88.46854271961432}, {u'timestamp': 1512558323, u'time': u'2017-12-06T11:05:23.966843794Z', u'longitude': 7.888274348319934, u'robot_id': u'1', u'offset': 17.81935631323783, u'latitude': 43.74058888425593, u'accuracy': 74.92787419144025}, {u'timestamp': 1512558324, u'time': u'2017-12-06T11:05:24.202056669Z', u'longitude': 25.03345436515493, u'robot_id': u'1', u'offset': 40.99786163865123, u'latitude': 73.57949693271641, u'accuracy': 40.899603219157704}, {u'timestamp': 1512558324, u'time': u'2017-12-06T11:05:24.253705526Z', u'longitude': 27.756662738580218, u'robot_id': u'1', u'offset': 69.69624893088306, u'latitude': 35.39116856641341, u'accuracy': 84.74988498938133}, {u'timestamp': 1512558324, u'time': u'2017-12-06T11:05:24.298355338Z', u'longitude': 22.932360257494743, u'robot_id': u'1', u'offset': 96.41208210868818, u'latitude': 84.48850965332076, u'accuracy': 20.20928453302695}, {u'timestamp': 1512558324, u'time': u'2017-12-06T11:05:24.321943664Z', u'longitude': 9.429735935713271, u'robot_id': u'1', u'offset': 17.046628615239943, u'latitude': 74.69708967893037, u'accuracy': 82.43735174761395}, {u'timestamp': 1512558324, u'time': u'2017-12-06T11:05:24.355440532Z', u'longitude': 2.707028480966852, u'robot_id': u'1', u'offset': 42.259015588012396, u'latitude': 86.58722966895205, u'accuracy': 83.00238678585066}, {u'timestamp': 1512558324, u'time': u'2017-12-06T11:05:24.393500073Z', u'longitude': 19.281787814906963, u'robot_id': u'1', u'offset': 66.82911766675637, u'latitude': 52.31594629239064, u'accuracy': 29.474431619660095}, {u'timestamp': 1512558324, u'time': u'2017-12-06T11:05:24.457059415Z', u'longitude': 46.75879788653868, u'robot_id': u'1', u'offset': 12.864767616440794, u'latitude': 54.46878981649443, u'accuracy': 82.71304674686303}, {u'timestamp': 1512558324, u'time': u'2017-12-06T11:05:24.540167488Z', u'longitude': 8.514581383305408, u'robot_id': u'1', u'offset': 41.94083388868724, u'latitude': 67.12866111032305, u'accuracy': 59.90350406853735}, {u'timestamp': 1512558324, u'time': u'2017-12-06T11:05:24.564446398Z', u'longitude': 12.350554486816415, u'robot_id': u'1', u'offset': 98.88393206368684, u'latitude': 85.56326005019717, u'accuracy': 16.796016289822973}, {u'timestamp': 1512558324, u'time': u'2017-12-06T11:05:24.608153282Z', u'longitude': 31.095138968640835, u'robot_id': u'1', u'offset': 94.6024320428665, u'latitude': 64.86028622269288, u'accuracy': 28.009793986654905}, {u'timestamp': 1512558324, u'time': u'2017-12-06T11:05:24.842893078Z', u'longitude': 32.81781508163928, u'robot_id': u'1', u'offset': 28.08637152497184, u'latitude': 33.17782375345025, u'accuracy': 49.76846122737435}, {u'timestamp': 1512558324, u'time': u'2017-12-06T11:05:24.949275946Z', u'longitude': 15.683430596258804, u'robot_id': u'1', u'offset': 51.54924564829811, u'latitude': 48.23369108111053, u'accuracy': 79.79296620740548}, {u'timestamp': 1512558325, u'time': u'2017-12-06T11:05:25.044935969Z', u'longitude': 23.11386382079867, u'robot_id': u'1', u'offset': 55.42233420648553, u'latitude': 85.9473575938005, u'accuracy': 79.04772571643801}, {u'timestamp': 1512558325, u'time': u'2017-12-06T11:05:25.075776183Z', u'longitude': 48.71658659841731, u'robot_id': u'1', u'offset': 92.34142132274206, u'latitude': 44.710806777811726, u'accuracy': 3.3377474138105017}, {u'timestamp': 1512558325, u'time': u'2017-12-06T11:05:25.35194423Z', u'longitude': 38.63545865754805, u'robot_id': u'1', u'offset': 91.40225205772693, u'latitude': 35.43844150149083, u'accuracy': 76.34423776221043}, {u'timestamp': 1512558325, u'time': u'2017-12-06T11:05:25.469710461Z', u'longitude': 24.257407258469062, u'robot_id': u'1', u'offset': 34.18188714518995, u'latitude': 43.4086467453859, u'accuracy': 29.91868611193076}, {u'timestamp': 1512558325, u'time': u'2017-12-06T11:05:25.524699493Z', u'longitude': 8.920723401082101, u'robot_id': u'1', u'offset': 38.40812833278058, u'latitude': 70.41947945807985, u'accuracy': 4.2149623795482665}, {u'timestamp': 1512558325, u'time': u'2017-12-06T11:05:25.624809861Z', u'longitude': 30.713319269099365, u'robot_id': u'1', u'offset': 23.807727565399567, u'latitude': 60.69657848914587, u'accuracy': 78.1933185671997}, {u'timestamp': 1512558325, u'time': u'2017-12-06T11:05:25.729182414Z', u'longitude': 15.229542082332868, u'robot_id': u'1', u'offset': 62.70516474134771, u'latitude': 49.350965302997636, u'accuracy': 45.94181802252726}, {u'timestamp': 1512558325, u'time': u'2017-12-06T11:05:25.771352224Z', u'longitude': 7.278469389372695, u'robot_id': u'1', u'offset': 49.59669551138206, u'latitude': 55.17968144137292, u'accuracy': 39.459257601573626}, {u'timestamp': 1512558325, u'time': u'2017-12-06T11:05:25.903333025Z', u'longitude': 37.54152955462514, u'robot_id': u'1', u'offset': 57.714997889560436, u'latitude': 66.83009644121222, u'accuracy': 24.649164113362506}, {u'timestamp': 1512558325, u'time': u'2017-12-06T11:05:25.939593623Z', u'longitude': 31.95258408627633, u'robot_id': u'1', u'offset': 38.35953583800536, u'latitude': 30.894722885462002, u'accuracy': 45.97781129906872}, {u'timestamp': 1512558326, u'time': u'2017-12-06T11:05:26.076429647Z', u'longitude': 28.733777917879937, u'robot_id': u'1', u'offset': 15.767373252194432, u'latitude': 95.51320292067241, u'accuracy': 99.08299413798527}, {u'timestamp': 1512558326, u'time': u'2017-12-06T11:05:26.154397143Z', u'longitude': 46.94255538048863, u'robot_id': u'1', u'offset': 84.91582892772459, u'latitude': 37.27109258310411, u'accuracy': 71.86110414389641}, {u'timestamp': 1512558326, u'time': u'2017-12-06T11:05:26.359129055Z', u'longitude': 3.1805956685926313, u'robot_id': u'1', u'offset': 92.59982545524171, u'latitude': 67.14804000023138, u'accuracy': 54.664012043262055}, {u'timestamp': 1512558326, u'time': u'2017-12-06T11:05:26.417915442Z', u'longitude': 27.96255901597289, u'robot_id': u'1', u'offset': 2.592173505746776, u'latitude': 85.85846844507913, u'accuracy': 46.75874669128722}, {u'timestamp': 1512558326, u'time': u'2017-12-06T11:05:26.819001413Z', u'longitude': 1.9925314879524998, u'robot_id': u'1', u'offset': 22.091724971015072, u'latitude': 59.15349647903223, u'accuracy': 63.95923057917736}, {u'timestamp': 1512558326, u'time': u'2017-12-06T11:05:26.977313544Z', u'longitude': 6.104241754458414, u'robot_id': u'1', u'offset': 23.564948957501922, u'latitude': 44.6880041019364, u'accuracy': 16.284102647423623}, {u'timestamp': 1512558327, u'time': u'2017-12-06T11:05:27.243555523Z', u'longitude': 3.141109176151276, u'robot_id': u'1', u'offset': 43.46042459695924, u'latitude': 94.93708827911712, u'accuracy': 77.89676750323169}, {u'timestamp': 1512558327, u'time': u'2017-12-06T11:05:27.376281422Z', u'longitude': 35.437284441810085, u'robot_id': u'1', u'offset': 93.40686612426876, u'latitude': 62.403859704660434, u'accuracy': 12.056661788227938}, {u'timestamp': 1512558327, u'time': u'2017-12-06T11:05:27.425202854Z', u'longitude': 23.50079780328033, u'robot_id': u'1', u'offset': 26.488086371269915, u'latitude': 43.12360788780316, u'accuracy': 46.49939228083956}, {u'timestamp': 1512558327, u'time': u'2017-12-06T11:05:27.559144514Z', u'longitude': 9.220802023762863, u'robot_id': u'1', u'offset': 74.14394600502567, u'latitude': 32.770508555269494, u'accuracy': 67.8667876416994}, {u'timestamp': 1512558327, u'time': u'2017-12-06T11:05:27.705132364Z', u'longitude': 23.926933516395906, u'robot_id': u'1', u'offset': 44.45639506674093, u'latitude': 76.74043736642206, u'accuracy': 49.26428200294753}, {u'timestamp': 1512558327, u'time': u'2017-12-06T11:05:27.739349514Z', u'longitude': 31.047386695596735, u'robot_id': u'1', u'offset': 52.35061171008544, u'latitude': 40.14988715148334, u'accuracy': 93.76219951706607}, {u'timestamp': 1512558327, u'time': u'2017-12-06T11:05:27.900538435Z', u'longitude': 16.854248393644802, u'robot_id': u'1', u'offset': 66.00892733514748, u'latitude': 38.34628459752389, u'accuracy': 43.3917112406625}, {u'timestamp': 1512558327, u'time': u'2017-12-06T11:05:27.946572984Z', u'longitude': 20.36163805565264, u'robot_id': u'1', u'offset': 99.21814681844278, u'latitude': 77.59174394278942, u'accuracy': 7.9780018972609446}, {u'timestamp': 1512558328, u'time': u'2017-12-06T11:05:28.003713733Z', u'longitude': 11.324257651458757, u'robot_id': u'1', u'offset': 64.1144227053482, u'latitude': 33.76142416231315, u'accuracy': 38.24789456944192}, {u'timestamp': 1512558328, u'time': u'2017-12-06T11:05:28.269251984Z', u'longitude': 48.02318269267508, u'robot_id': u'1', u'offset': 52.198241286961085, u'latitude': 95.88530607706006, u'accuracy': 15.426001824383121}, {u'timestamp': 1512558328, u'time': u'2017-12-06T11:05:28.305531326Z', u'longitude': 48.27920996459316, u'robot_id': u'1', u'offset': 11.60054229516195, u'latitude': 46.695083073575184, u'accuracy': 11.185295393185188}, {u'timestamp': 1512558328, u'time': u'2017-12-06T11:05:28.381311117Z', u'longitude': 20.67313596726545, u'robot_id': u'1', u'offset': 9.142141784594747, u'latitude': 41.4795503026594, u'accuracy': 40.13483440230306}, {u'timestamp': 1512558328, u'time': u'2017-12-06T11:05:28.474745212Z', u'longitude': 42.25197747845818, u'robot_id': u'1', u'offset': 17.352654877787625, u'latitude': 42.30560751210113, u'accuracy': 76.75042391806824}, {u'timestamp': 1512558328, u'time': u'2017-12-06T11:05:28.660062661Z', u'longitude': 5.780001725680811, u'robot_id': u'1', u'offset': 45.05278322568579, u'latitude': 86.60267580302215, u'accuracy': 41.42539368387912}, {u'timestamp': 1512558328, u'time': u'2017-12-06T11:05:28.743725358Z', u'longitude': 35.931444993780964, u'robot_id': u'1', u'offset': 87.19886011515453, u'latitude': 87.26297542957883, u'accuracy': 15.319847095142869}, {u'timestamp': 1512558328, u'time': u'2017-12-06T11:05:28.766461767Z', u'longitude': 33.16645048785212, u'robot_id': u'1', u'offset': 59.36415677301097, u'latitude': 53.718294465316994, u'accuracy': 11.238022093776562}, {u'timestamp': 1512558328, u'time': u'2017-12-06T11:05:28.878880057Z', u'longitude': 37.708321073654425, u'robot_id': u'1', u'offset': 74.58487590043603, u'latitude': 45.884564625316436, u'accuracy': 82.50149263851252}, {u'timestamp': 1512558328, u'time': u'2017-12-06T11:05:28.905293642Z', u'longitude': 27.165428804914455, u'robot_id': u'1', u'offset': 63.415801559536696, u'latitude': 33.26210043863388, u'accuracy': 67.23551241612358}, {u'timestamp': 1512558328, u'time': u'2017-12-06T11:05:28.946926024Z', u'longitude': 3.729873248888267, u'robot_id': u'1', u'offset': 34.81625888666745, u'latitude': 42.72280042385046, u'accuracy': 3.838492453498348}, {u'timestamp': 1512558329, u'time': u'2017-12-06T11:05:29.116793693Z', u'longitude': 43.787102162540464, u'robot_id': u'1', u'offset': 88.59665626260794, u'latitude': 74.84586105504751, u'accuracy': 84.98523617884136}, {u'timestamp': 1512558329, u'time': u'2017-12-06T11:05:29.192987808Z', u'longitude': 30.229305957276598, u'robot_id': u'1', u'offset': 35.393830625314365, u'latitude': 62.82540178274447, u'accuracy': 63.1296722090609}, {u'timestamp': 1512558329, u'time': u'2017-12-06T11:05:29.510045302Z', u'longitude': 46.76730749377297, u'robot_id': u'1', u'offset': 5.503937984974375, u'latitude': 56.285075951157005, u'accuracy': 7.998821620213576}, {u'timestamp': 1512558329, u'time': u'2017-12-06T11:05:29.633679422Z', u'longitude': 21.17134033047919, u'robot_id': u'1', u'offset': 16.060711942167696, u'latitude': 44.74754376517372, u'accuracy': 43.186452383986385}, {u'timestamp': 1512558329, u'time': u'2017-12-06T11:05:29.686482217Z', u'longitude': 39.36084677897086, u'robot_id': u'1', u'offset': 25.37648905445459, u'latitude': 97.6284190694636, u'accuracy': 39.714413633383444}, {u'timestamp': 1512558329, u'time': u'2017-12-06T11:05:29.726981944Z', u'longitude': 49.813404167301, u'robot_id': u'1', u'offset': 50.71461111400155, u'latitude': 37.53695735803947, u'accuracy': 61.22201872816416}, {u'timestamp': 1512558329, u'time': u'2017-12-06T11:05:29.921623056Z', u'longitude': 13.324680892699059, u'robot_id': u'1', u'offset': 4.946453097963827, u'latitude': 85.14717265158149, u'accuracy': 86.36092946994108}, {u'timestamp': 1512558330, u'time': u'2017-12-06T11:05:30.066833826Z', u'longitude': 32.29135236167116, u'robot_id': u'1', u'offset': 9.827899486400987, u'latitude': 47.162247561850485, u'accuracy': 91.84706262286828}, {u'timestamp': 1512558330, u'time': u'2017-12-06T11:05:30.166544982Z', u'longitude': 5.640936451588865, u'robot_id': u'1', u'offset': 8.032269096274483, u'latitude': 36.09024112947985, u'accuracy': 7.732906010137346}, {u'timestamp': 1512558330, u'time': u'2017-12-06T11:05:30.261202104Z', u'longitude': 34.54425497992237, u'robot_id': u'1', u'offset': 68.81214189193783, u'latitude': 33.60046443804275, u'accuracy': 19.21602192719258}, {u'timestamp': 1512558330, u'time': u'2017-12-06T11:05:30.312130883Z', u'longitude': 34.21490654464444, u'robot_id': u'1', u'offset': 68.4268565363379, u'latitude': 87.97828004944147, u'accuracy': 35.02441904048302}, {u'timestamp': 1512558330, u'time': u'2017-12-06T11:05:30.370681818Z', u'longitude': 35.564018696389816, u'robot_id': u'1', u'offset': 58.51170965858518, u'latitude': 63.91164597448449, u'accuracy': 77.07473631490777}, {u'timestamp': 1512558330, u'time': u'2017-12-06T11:05:30.452041345Z', u'longitude': 45.74963566030623, u'robot_id': u'1', u'offset': 50.84568160541718, u'latitude': 62.749494685392996, u'accuracy': 10.542909787910581}, {u'timestamp': 1512558330, u'time': u'2017-12-06T11:05:30.57583132Z', u'longitude': 21.686554213819047, u'robot_id': u'1', u'offset': 76.55857278452827, u'latitude': 72.87076794079147, u'accuracy': 70.59285494737033}, {u'timestamp': 1512558330, u'time': u'2017-12-06T11:05:30.593789805Z', u'longitude': 4.195785899285667, u'robot_id': u'1', u'offset': 82.77837874260905, u'latitude': 85.00831512021597, u'accuracy': 64.92262998491293}, {u'timestamp': 1512558330, u'time': u'2017-12-06T11:05:30.886906508Z', u'longitude': 37.10449927967489, u'robot_id': u'1', u'offset': 81.1329295797204, u'latitude': 81.98633750270267, u'accuracy': 83.97392088224808}, {u'timestamp': 1512558330, u'time': u'2017-12-06T11:05:30.940532618Z', u'longitude': 29.54734711948881, u'robot_id': u'1', u'offset': 57.29261885289461, u'latitude': 88.05968469582406, u'accuracy': 90.78228940641687}, {u'timestamp': 1512558331, u'time': u'2017-12-06T11:05:31.063411454Z', u'longitude': 23.637537046778647, u'robot_id': u'1', u'offset': 47.98071384613698, u'latitude': 65.73583989796018, u'accuracy': 57.77541584891742}, {u'timestamp': 1512558331, u'time': u'2017-12-06T11:05:31.160690404Z', u'longitude': 17.882453398445463, u'robot_id': u'1', u'offset': 11.922744082736406, u'latitude': 60.57212544768013, u'accuracy': 55.81747923723702}, {u'timestamp': 1512558331, u'time': u'2017-12-06T11:05:31.230057098Z', u'longitude': 38.808914752326004, u'robot_id': u'1', u'offset': 72.49320532521128, u'latitude': 52.495072414495816, u'accuracy': 46.894687881546474}, {u'timestamp': 1512558331, u'time': u'2017-12-06T11:05:31.265230019Z', u'longitude': 7.911725495944213, u'robot_id': u'1', u'offset': 53.285196953928086, u'latitude': 85.47980202017594, u'accuracy': 75.10925178272727}, {u'timestamp': 1512558331, u'time': u'2017-12-06T11:05:31.374647245Z', u'longitude': 37.77318084642033, u'robot_id': u'1', u'offset': 57.48598038942507, u'latitude': 51.81629980585825, u'accuracy': 71.47967403967856}, {u'timestamp': 1512558331, u'time': u'2017-12-06T11:05:31.402066992Z', u'longitude': 1.21365564622302, u'robot_id': u'1', u'offset': 92.58616258194198, u'latitude': 54.174886012773314, u'accuracy': 28.72177650686873}, {u'timestamp': 1512558331, u'time': u'2017-12-06T11:05:31.659721399Z', u'longitude': 36.98057971268547, u'robot_id': u'1', u'offset': 7.259872687011755, u'latitude': 48.05441376008735, u'accuracy': 3.1363672339886612}, {u'timestamp': 1512558331, u'time': u'2017-12-06T11:05:31.70034519Z', u'longitude': 22.375972577526344, u'robot_id': u'1', u'offset': 41.03182630617239, u'latitude': 67.7806445361193, u'accuracy': 88.4168063181992}, {u'timestamp': 1512558331, u'time': u'2017-12-06T11:05:31.736612033Z', u'longitude': 39.211622238829094, u'robot_id': u'1', u'offset': 10.541693583060482, u'latitude': 91.2858132003227, u'accuracy': 61.612815356756684}, {u'timestamp': 1512558331, u'time': u'2017-12-06T11:05:31.785510103Z', u'longitude': 18.823406091939038, u'robot_id': u'1', u'offset': 95.36446197536934, u'latitude': 65.93587543876349, u'accuracy': 62.08434246041888}, {u'timestamp': 1512558331, u'time': u'2017-12-06T11:05:31.833035468Z', u'longitude': 49.743619826355555, u'robot_id': u'1', u'offset': 41.46677554073168, u'latitude': 61.28169894910007, u'accuracy': 99.06865886753614}, {u'timestamp': 1512558331, u'time': u'2017-12-06T11:05:31.869112405Z', u'longitude': 16.32332018735636, u'robot_id': u'1', u'offset': 17.953812703358828, u'latitude': 94.87127851107587, u'accuracy': 23.481312114254138}, {u'timestamp': 1512558331, u'time': u'2017-12-06T11:05:31.93916885Z', u'longitude': 49.58134702222252, u'robot_id': u'1', u'offset': 66.22799369221268, u'latitude': 93.85468647952996, u'accuracy': 30.47129889219317}, {u'timestamp': 1512558331, u'time': u'2017-12-06T11:05:31.980247105Z', u'longitude': 37.21804874811478, u'robot_id': u'1', u'offset': 94.71660203585814, u'latitude': 75.95824060139742, u'accuracy': 19.096943846611175}, {u'timestamp': 1512558332, u'time': u'2017-12-06T11:05:32.243251553Z', u'longitude': 22.476001925074662, u'robot_id': u'1', u'offset': 9.272913886594957, u'latitude': 63.310679120062076, u'accuracy': 47.378555386308676}, {u'timestamp': 1512558332, u'time': u'2017-12-06T11:05:32.376361788Z', u'longitude': 18.935006310771307, u'robot_id': u'1', u'offset': 41.510392161636986, u'latitude': 91.25739921002425, u'accuracy': 98.72133995974998}, {u'timestamp': 1512558332, u'time': u'2017-12-06T11:05:32.54664917Z', u'longitude': 49.841025044288415, u'robot_id': u'1', u'offset': 77.45174668195672, u'latitude': 30.402684283361815, u'accuracy': 15.86089893404553}, {u'timestamp': 1512558332, u'time': u'2017-12-06T11:05:32.577846416Z', u'longitude': 26.159803161073587, u'robot_id': u'1', u'offset': 29.488650510656324, u'latitude': 69.63002531505155, u'accuracy': 11.899846428299963}, {u'timestamp': 1512558332, u'time': u'2017-12-06T11:05:32.60662516Z', u'longitude': 35.272715324288846, u'robot_id': u'1', u'offset': 23.795923746472905, u'latitude': 63.09271090513386, u'accuracy': 8.533402874770612}, {u'timestamp': 1512558332, u'time': u'2017-12-06T11:05:32.711718606Z', u'longitude': 47.86296394033784, u'robot_id': u'1', u'offset': 11.955145190595067, u'latitude': 64.60624410345572, u'accuracy': 1.2542696276658216}, {u'timestamp': 1512558332, u'time': u'2017-12-06T11:05:32.743520374Z', u'longitude': 8.0321386622424, u'robot_id': u'1', u'offset': 82.61554414588468, u'latitude': 68.72363665685565, u'accuracy': 47.709740603932794}, {u'timestamp': 1512558332, u'time': u'2017-12-06T11:05:32.809873615Z', u'longitude': 43.539984426332374, u'robot_id': u'1', u'offset': 90.22218971206208, u'latitude': 46.069413543158184, u'accuracy': 78.50004030646706}, {u'timestamp': 1512558332, u'time': u'2017-12-06T11:05:32.880558127Z', u'longitude': 19.536740707859927, u'robot_id': u'1', u'offset': 90.2971625868276, u'latitude': 50.597805098316734, u'accuracy': 19.195930759750325}, {u'timestamp': 1512558333, u'time': u'2017-12-06T11:05:33.052102948Z', u'longitude': 8.567414902347013, u'robot_id': u'1', u'offset': 62.7062748684526, u'latitude': 80.2467478013643, u'accuracy': 59.318433416301595}, {u'timestamp': 1512559859, u'time': u'2017-12-06T11:30:59.801392447Z', u'longitude': 38.51347729341689, u'robot_id': u'1', u'offset': 23.89780110275316, u'latitude': 30.099981276888098, u'accuracy': 32.98455260242812}, {u'timestamp': 1512559859, u'time': u'2017-12-06T11:30:59.87608963Z', u'longitude': 24.489691531110626, u'robot_id': u'1', u'offset': 17.683468904705382, u'latitude': 66.16781518646386, u'accuracy': 36.86445828688947}, {u'timestamp': 1512559860, u'time': u'2017-12-06T11:31:00.042008496Z', u'longitude': 41.529425251148766, u'robot_id': u'1', u'offset': 13.541907311985133, u'latitude': 52.729899624192235, u'accuracy': 44.000559607596664}, {u'timestamp': 1512559860, u'time': u'2017-12-06T11:31:00.075893029Z', u'longitude': 11.373734985214277, u'robot_id': u'1', u'offset': 53.1097516508147, u'latitude': 93.80313084170258, u'accuracy': 69.06282149323528}, {u'timestamp': 1512559860, u'time': u'2017-12-06T11:31:00.207406708Z', u'longitude': 40.23925754322992, u'robot_id': u'1', u'offset': 50.060455842563314, u'latitude': 58.158713050020395, u'accuracy': 47.49914508271383}, {u'timestamp': 1512559860, u'time': u'2017-12-06T11:31:00.281465535Z', u'longitude': 17.549826875880875, u'robot_id': u'1', u'offset': 92.33086981485394, u'latitude': 84.70549747782158, u'accuracy': 7.256923025586036}, {u'timestamp': 1512559860, u'time': u'2017-12-06T11:31:00.312129063Z', u'longitude': 3.988475538021646, u'robot_id': u'1', u'offset': 83.59451516038588, u'latitude': 48.63081387199764, u'accuracy': 68.10173190484254}, {u'timestamp': 1512559860, u'time': u'2017-12-06T11:31:00.423016732Z', u'longitude': 40.356271206339834, u'robot_id': u'1', u'offset': 11.704215995147823, u'latitude': 91.2035174579795, u'accuracy': 92.5124756045744}, {u'timestamp': 1512559860, u'time': u'2017-12-06T11:31:00.493991428Z', u'longitude': 24.585276685393445, u'robot_id': u'1', u'offset': 72.61566130878744, u'latitude': 38.08148361857304, u'accuracy': 76.06891014594271}, {u'timestamp': 1512559860, u'time': u'2017-12-06T11:31:00.522931314Z', u'longitude': 3.152468365371546, u'robot_id': u'1', u'offset': 98.63064792304736, u'latitude': 76.58795837100797, u'accuracy': 89.02899274877761}, {u'timestamp': 1512559860, u'time': u'2017-12-06T11:31:00.626452574Z', u'longitude': 12.441107144253127, u'robot_id': u'1', u'offset': 86.33750329244032, u'latitude': 85.66652647429733, u'accuracy': 58.13385580858393}, {u'timestamp': 1512559860, u'time': u'2017-12-06T11:31:00.658293589Z', u'longitude': 39.3965171248588, u'robot_id': u'1', u'offset': 97.98193272861585, u'latitude': 73.9434777371091, u'accuracy': 49.827985345947994}, {u'timestamp': 1512559860, u'time': u'2017-12-06T11:31:00.924903538Z', u'longitude': 13.667136399671634, u'robot_id': u'1', u'offset': 10.97911669062279, u'latitude': 77.21826571059798, u'accuracy': 14.47590964186739}, {u'timestamp': 1512559861, u'time': u'2017-12-06T11:31:01.134721213Z', u'longitude': 39.47373994660198, u'robot_id': u'1', u'offset': 77.3840645416513, u'latitude': 59.806245446205516, u'accuracy': 91.03091074493393}, {u'timestamp': 1512559861, u'time': u'2017-12-06T11:31:01.188337728Z', u'longitude': 12.815958803112277, u'robot_id': u'1', u'offset': 76.96045400088735, u'latitude': 82.21292498897225, u'accuracy': 69.90919855555313}, {u'timestamp': 1512559861, u'time': u'2017-12-06T11:31:01.259150743Z', u'longitude': 43.823131941527215, u'robot_id': u'1', u'offset': 40.82586550126921, u'latitude': 65.97639425931308, u'accuracy': 27.14381778319312}, {u'timestamp': 1512559861, u'time': u'2017-12-06T11:31:01.318480229Z', u'longitude': 33.901709931817045, u'robot_id': u'1', u'offset': 19.810712446759155, u'latitude': 47.37547097086231, u'accuracy': 42.28218574589951}, {u'timestamp': 1512559861, u'time': u'2017-12-06T11:31:01.385040501Z', u'longitude': 29.45110784943665, u'robot_id': u'1', u'offset': 83.93194516861105, u'latitude': 86.60512768926607, u'accuracy': 34.65957144525211}, {u'timestamp': 1512559861, u'time': u'2017-12-06T11:31:01.505271258Z', u'longitude': 9.945344040783466, u'robot_id': u'1', u'offset': 20.829598397872957, u'latitude': 42.23106712972304, u'accuracy': 34.97632312023984}, {u'timestamp': 1512559861, u'time': u'2017-12-06T11:31:01.531691337Z', u'longitude': 29.608110362423687, u'robot_id': u'1', u'offset': 94.81891402790046, u'latitude': 64.10028041879083, u'accuracy': 92.61200329094284}, {u'timestamp': 1512559861, u'time': u'2017-12-06T11:31:01.597526062Z', u'longitude': 1.5423928338541684, u'robot_id': u'1', u'offset': 27.091721644574644, u'latitude': 61.487097205003714, u'accuracy': 99.70081694420922}, {u'timestamp': 1512559861, u'time': u'2017-12-06T11:31:01.702886487Z', u'longitude': 39.65297929183674, u'robot_id': u'1', u'offset': 27.815983120711575, u'latitude': 74.74631068752187, u'accuracy': 56.436527420600925}, {u'timestamp': 1512559861, u'time': u'2017-12-06T11:31:01.712683594Z', u'longitude': 22.11180343937239, u'robot_id': u'1', u'offset': 35.11414729007835, u'latitude': 87.27684119000116, u'accuracy': 59.196271792432114}, {u'timestamp': 1512559861, u'time': u'2017-12-06T11:31:01.768268053Z', u'longitude': 3.909426418219667, u'robot_id': u'1', u'offset': 9.108509470150198, u'latitude': 56.77309929863416, u'accuracy': 96.73649417602834}, {u'timestamp': 1512559861, u'time': u'2017-12-06T11:31:01.820903088Z', u'longitude': 17.66954704651929, u'robot_id': u'1', u'offset': 15.3451314017028, u'latitude': 93.57173488873592, u'accuracy': 23.390938011445588}, {u'timestamp': 1512559861, u'time': u'2017-12-06T11:31:01.843974996Z', u'longitude': 30.811820030840735, u'robot_id': u'1', u'offset': 14.047645801483084, u'latitude': 50.165579691167764, u'accuracy': 12.571385107890736}, {u'timestamp': 1512559862, u'time': u'2017-12-06T11:31:02.051675538Z', u'longitude': 30.004125964338947, u'robot_id': u'1', u'offset': 12.498373318372469, u'latitude': 54.93319607383861, u'accuracy': 37.01008771673615}, {u'timestamp': 1512559862, u'time': u'2017-12-06T11:31:02.106256639Z', u'longitude': 46.713326747451845, u'robot_id': u'1', u'offset': 23.07948069601766, u'latitude': 71.35360894410599, u'accuracy': 61.086550691411176}, {u'timestamp': 1512559862, u'time': u'2017-12-06T11:31:02.137398454Z', u'longitude': 10.228902362369508, u'robot_id': u'1', u'offset': 24.67723958316538, u'latitude': 58.422347836471225, u'accuracy': 99.1750580439048}, {u'timestamp': 1512559862, u'time': u'2017-12-06T11:31:02.161268863Z', u'longitude': 1.079507304990132, u'robot_id': u'1', u'offset': 18.08519985166152, u'latitude': 47.657682306329185, u'accuracy': 17.90704526260275}, {u'timestamp': 1512559862, u'time': u'2017-12-06T11:31:02.331535761Z', u'longitude': 16.484730169617144, u'robot_id': u'1', u'offset': 65.76561126518158, u'latitude': 35.07117773634543, u'accuracy': 71.20933027331697}, {u'timestamp': 1512559862, u'time': u'2017-12-06T11:31:02.403223531Z', u'longitude': 46.17542636902988, u'robot_id': u'1', u'offset': 38.86179002341042, u'latitude': 83.58021725469804, u'accuracy': 71.33734992607836}, {u'timestamp': 1512559862, u'time': u'2017-12-06T11:31:02.495815338Z', u'longitude': 2.3125417887590833, u'robot_id': u'1', u'offset': 63.69697391834727, u'latitude': 30.508285477641508, u'accuracy': 23.987528494074333}, {u'timestamp': 1512559862, u'time': u'2017-12-06T11:31:02.529371105Z', u'longitude': 22.702233095072216, u'robot_id': u'1', u'offset': 5.351034907004985, u'latitude': 93.59961234137596, u'accuracy': 43.250571021473654}, {u'timestamp': 1512559862, u'time': u'2017-12-06T11:31:02.602787772Z', u'longitude': 44.10126010637273, u'robot_id': u'1', u'offset': 3.2421410204030368, u'latitude': 39.52499702604776, u'accuracy': 21.469531232609935}, {u'timestamp': 1512559862, u'time': u'2017-12-06T11:31:02.635729596Z', u'longitude': 11.152093728435489, u'robot_id': u'1', u'offset': 39.369023867314105, u'latitude': 40.86449823295958, u'accuracy': 78.2297008446319}, {u'timestamp': 1512559862, u'time': u'2017-12-06T11:31:02.718926866Z', u'longitude': 31.678646743028732, u'robot_id': u'1', u'offset': 11.795978960166838, u'latitude': 39.74512730664881, u'accuracy': 2.3362118553012965}, {u'timestamp': 1512559862, u'time': u'2017-12-06T11:31:02.747915151Z', u'longitude': 20.408211780499215, u'robot_id': u'1', u'offset': 23.384248864142542, u'latitude': 36.83614073349722, u'accuracy': 22.197575762749167}, {u'timestamp': 1512559862, u'time': u'2017-12-06T11:31:02.950190164Z', u'longitude': 1.729419902010493, u'robot_id': u'1', u'offset': 99.26897973882524, u'latitude': 54.75958500517888, u'accuracy': 29.17966934967141}, {u'timestamp': 1512559862, u'time': u'2017-12-06T11:31:02.981455952Z', u'longitude': 17.16001638544078, u'robot_id': u'1', u'offset': 61.132964852178624, u'latitude': 34.253587043696264, u'accuracy': 98.75973134946084}, {u'timestamp': 1512559863, u'time': u'2017-12-06T11:31:03.023541781Z', u'longitude': 10.698295067657607, u'robot_id': u'1', u'offset': 94.1443006329168, u'latitude': 74.28703290913903, u'accuracy': 9.177850096500539}, {u'timestamp': 1512559863, u'time': u'2017-12-06T11:31:03.0644584Z', u'longitude': 1.0957518566986315, u'robot_id': u'1', u'offset': 3.473714821349923, u'latitude': 76.13654507425412, u'accuracy': 88.86598055715393}, {u'timestamp': 1512559863, u'time': u'2017-12-06T11:31:03.293832338Z', u'longitude': 43.689114451242546, u'robot_id': u'1', u'offset': 84.96952820512377, u'latitude': 41.10133414191779, u'accuracy': 72.22665260947288}, {u'timestamp': 1512559863, u'time': u'2017-12-06T11:31:03.327444668Z', u'longitude': 2.678640129156589, u'robot_id': u'1', u'offset': 62.70930166585532, u'latitude': 88.5321269120015, u'accuracy': 81.99056025111656}, {u'timestamp': 1512559863, u'time': u'2017-12-06T11:31:03.435548919Z', u'longitude': 42.30277372899103, u'robot_id': u'1', u'offset': 74.01043552278342, u'latitude': 80.21525861998508, u'accuracy': 42.29503988909795}, {u'timestamp': 1512559863, u'time': u'2017-12-06T11:31:03.498130593Z', u'longitude': 18.930903437268388, u'robot_id': u'1', u'offset': 58.97814393423167, u'latitude': 89.61600769419674, u'accuracy': 49.43102931606508}, {u'timestamp': 1512559863, u'time': u'2017-12-06T11:31:03.640915611Z', u'longitude': 22.005325337986076, u'robot_id': u'1', u'offset': 34.44830631865297, u'latitude': 89.87829372925117, u'accuracy': 24.800372797205004}, {u'timestamp': 1512559863, u'time': u'2017-12-06T11:31:03.67752154Z', u'longitude': 37.43655170056548, u'robot_id': u'1', u'offset': 95.61819490665124, u'latitude': 52.3060879976663, u'accuracy': 50.87956556066898}, {u'timestamp': 1512559863, u'time': u'2017-12-06T11:31:03.821258671Z', u'longitude': 13.643420134869825, u'robot_id': u'1', u'offset': 85.74294263576057, u'latitude': 89.0044534655779, u'accuracy': 45.63485899706402}, {u'timestamp': 1512559863, u'time': u'2017-12-06T11:31:03.914763904Z', u'longitude': 17.327791250679123, u'robot_id': u'1', u'offset': 73.4047155498236, u'latitude': 37.528879861343256, u'accuracy': 81.81848189969807}, {u'timestamp': 1512559863, u'time': u'2017-12-06T11:31:03.981864497Z', u'longitude': 30.235451472282193, u'robot_id': u'1', u'offset': 80.05911987974903, u'latitude': 64.66341133608293, u'accuracy': 21.306820408810218}, {u'timestamp': 1512559864, u'time': u'2017-12-06T11:31:04.020270004Z', u'longitude': 28.500234659221668, u'robot_id': u'1', u'offset': 56.47351186667643, u'latitude': 39.2277520833018, u'accuracy': 71.69821268343269}, {u'timestamp': 1512559864, u'time': u'2017-12-06T11:31:04.073173895Z', u'longitude': 7.421928269666759, u'robot_id': u'1', u'offset': 3.4153185001377073, u'latitude': 89.81723380637587, u'accuracy': 25.678340185649997}, {u'timestamp': 1512559864, u'time': u'2017-12-06T11:31:04.154028289Z', u'longitude': 13.810007328328291, u'robot_id': u'1', u'offset': 13.427641616528206, u'latitude': 95.93032203114078, u'accuracy': 72.05319281831846}, {u'timestamp': 1512559864, u'time': u'2017-12-06T11:31:04.201580666Z', u'longitude': 22.708160819409507, u'robot_id': u'1', u'offset': 4.744561277641678, u'latitude': 86.35010818973845, u'accuracy': 73.54699659907503}, {u'timestamp': 1512559864, u'time': u'2017-12-06T11:31:04.229589322Z', u'longitude': 20.184998737189645, u'robot_id': u'1', u'offset': 3.2363623793677343, u'latitude': 50.23933799355371, u'accuracy': 65.01141789696432}, {u'timestamp': 1512559864, u'time': u'2017-12-06T11:31:04.360882695Z', u'longitude': 41.88251158091528, u'robot_id': u'1', u'offset': 95.47257209200227, u'latitude': 86.92565303384121, u'accuracy': 22.715042184057722}, {u'timestamp': 1512559864, u'time': u'2017-12-06T11:31:04.566805104Z', u'longitude': 42.77174699512813, u'robot_id': u'1', u'offset': 48.148851208349235, u'latitude': 46.40265914830043, u'accuracy': 35.6291417134192}, {u'timestamp': 1512559864, u'time': u'2017-12-06T11:31:04.601969052Z', u'longitude': 10.716099666580575, u'robot_id': u'1', u'offset': 63.15621175731241, u'latitude': 68.15325486794278, u'accuracy': 42.53736494459333}, {u'timestamp': 1512559864, u'time': u'2017-12-06T11:31:04.749529832Z', u'longitude': 33.36612579533991, u'robot_id': u'1', u'offset': 36.6245162948069, u'latitude': 90.56467087771892, u'accuracy': 23.166144533300105}, {u'timestamp': 1512559864, u'time': u'2017-12-06T11:31:04.981894726Z', u'longitude': 21.339150218314348, u'robot_id': u'1', u'offset': 26.438454484808048, u'latitude': 53.003975429108344, u'accuracy': 7.9503657424964}, {u'timestamp': 1512559865, u'time': u'2017-12-06T11:31:05.11112861Z', u'longitude': 45.35980208513175, u'robot_id': u'1', u'offset': 97.22765764224316, u'latitude': 46.77332054746545, u'accuracy': 21.150381549856096}, {u'timestamp': 1512559865, u'time': u'2017-12-06T11:31:05.172959812Z', u'longitude': 49.799539205495044, u'robot_id': u'1', u'offset': 74.42979558959784, u'latitude': 97.59662121642786, u'accuracy': 28.100214994158826}, {u'timestamp': 1512559865, u'time': u'2017-12-06T11:31:05.380295031Z', u'longitude': 28.663557707129463, u'robot_id': u'1', u'offset': 16.49852451395346, u'latitude': 35.13296124261662, u'accuracy': 35.20188930416729}, {u'timestamp': 1512559865, u'time': u'2017-12-06T11:31:05.55735501Z', u'longitude': 49.539124576457866, u'robot_id': u'1', u'offset': 47.40086309457386, u'latitude': 54.031372812106575, u'accuracy': 9.935818441079121}, {u'timestamp': 1512559865, u'time': u'2017-12-06T11:31:05.578698958Z', u'longitude': 12.931517734554808, u'robot_id': u'1', u'offset': 2.365182042738576, u'latitude': 39.31130690903413, u'accuracy': 22.097417003778816}, {u'timestamp': 1512559865, u'time': u'2017-12-06T11:31:05.76514509Z', u'longitude': 44.982416585784286, u'robot_id': u'1', u'offset': 60.7611241972506, u'latitude': 42.6240860226772, u'accuracy': 42.05180386735304}, {u'timestamp': 1512559865, u'time': u'2017-12-06T11:31:05.833884282Z', u'longitude': 26.639397849433955, u'robot_id': u'1', u'offset': 37.36567758678211, u'latitude': 66.13955348835032, u'accuracy': 86.64840486343915}, {u'timestamp': 1512559865, u'time': u'2017-12-06T11:31:05.947028329Z', u'longitude': 40.02817240593259, u'robot_id': u'1', u'offset': 76.47457879163541, u'latitude': 83.6071530004978, u'accuracy': 31.465688175133614}, {u'timestamp': 1512559865, u'time': u'2017-12-06T11:31:05.974447227Z', u'longitude': 9.78748634859395, u'robot_id': u'1', u'offset': 72.22924357170562, u'latitude': 36.122591514325585, u'accuracy': 58.34482416326648}, {u'timestamp': 1512559866, u'time': u'2017-12-06T11:31:06.069418864Z', u'longitude': 4.71129765122568, u'robot_id': u'1', u'offset': 85.14061126202134, u'latitude': 38.60384993410977, u'accuracy': 97.58863126764656}, {u'timestamp': 1512559866, u'time': u'2017-12-06T11:31:06.112280013Z', u'longitude': 16.84763870128085, u'robot_id': u'1', u'offset': 62.62908746357613, u'latitude': 99.69113634868886, u'accuracy': 46.69531410481602}, {u'timestamp': 1512559866, u'time': u'2017-12-06T11:31:06.244263007Z', u'longitude': 22.397485466967186, u'robot_id': u'1', u'offset': 92.81835751805387, u'latitude': 39.4471433309957, u'accuracy': 30.894507931884352}, {u'timestamp': 1512559866, u'time': u'2017-12-06T11:31:06.705033396Z', u'longitude': 21.410797580850744, u'robot_id': u'1', u'offset': 17.418336080621387, u'latitude': 55.68743847485934, u'accuracy': 83.70832278943146}, {u'timestamp': 1512559866, u'time': u'2017-12-06T11:31:06.781157574Z', u'longitude': 28.554532256007466, u'robot_id': u'1', u'offset': 76.80161058565874, u'latitude': 59.43956718716594, u'accuracy': 24.40988780630776}, {u'timestamp': 1512559866, u'time': u'2017-12-06T11:31:06.920137576Z', u'longitude': 39.39969022801697, u'robot_id': u'1', u'offset': 92.39059592823361, u'latitude': 94.3831665137012, u'accuracy': 10.015038186589562}, {u'timestamp': 1512559867, u'time': u'2017-12-06T11:31:07.054953354Z', u'longitude': 25.479938733381204, u'robot_id': u'1', u'offset': 63.03872039816258, u'latitude': 67.28323319994672, u'accuracy': 1.2529809328532953}, {u'timestamp': 1512559867, u'time': u'2017-12-06T11:31:07.098927102Z', u'longitude': 31.641595501210126, u'robot_id': u'1', u'offset': 2.586199260878355, u'latitude': 33.27820434092409, u'accuracy': 44.19491209888823}, {u'timestamp': 1512559867, u'time': u'2017-12-06T11:31:07.148592326Z', u'longitude': 27.2830152978179, u'robot_id': u'1', u'offset': 47.98740409400654, u'latitude': 38.898615553215016, u'accuracy': 63.980919935673946}, {u'timestamp': 1512559867, u'time': u'2017-12-06T11:31:07.248255191Z', u'longitude': 45.29941330530178, u'robot_id': u'1', u'offset': 11.497534886348262, u'latitude': 40.28167369765227, u'accuracy': 38.35212630492761}, {u'timestamp': 1512559867, u'time': u'2017-12-06T11:31:07.557556016Z', u'longitude': 29.16937890301835, u'robot_id': u'1', u'offset': 77.42930325851647, u'latitude': 46.32845439070413, u'accuracy': 70.16121937799207}, {u'timestamp': 1512559867, u'time': u'2017-12-06T11:31:07.663299969Z', u'longitude': 30.777301316047968, u'robot_id': u'1', u'offset': 79.5900436614988, u'latitude': 35.305235755430765, u'accuracy': 75.11429846922773}, {u'timestamp': 1512559867, u'time': u'2017-12-06T11:31:07.774470922Z', u'longitude': 19.25998978863093, u'robot_id': u'1', u'offset': 8.745626893260013, u'latitude': 30.47149270640056, u'accuracy': 78.56187367725762}, {u'timestamp': 1512559867, u'time': u'2017-12-06T11:31:07.887812505Z', u'longitude': 23.698352105498856, u'robot_id': u'1', u'offset': 92.93056282196376, u'latitude': 98.68613088276263, u'accuracy': 6.017519657304619}, {u'timestamp': 1512559867, u'time': u'2017-12-06T11:31:07.954822399Z', u'longitude': 15.98911455778927, u'robot_id': u'1', u'offset': 51.691910999800506, u'latitude': 85.41097664158102, u'accuracy': 53.63089627597593}, {u'timestamp': 1512559867, u'time': u'2017-12-06T11:31:07.987671365Z', u'longitude': 30.665712611264667, u'robot_id': u'1', u'offset': 22.780421168845788, u'latitude': 90.25051236351712, u'accuracy': 49.795838807347444}, {u'timestamp': 1512559868, u'time': u'2017-12-06T11:31:08.017735747Z', u'longitude': 14.383957288450075, u'robot_id': u'1', u'offset': 28.482510016365115, u'latitude': 64.82150465606222, u'accuracy': 19.717182878931087}, {u'timestamp': 1512559868, u'time': u'2017-12-06T11:31:08.092598298Z', u'longitude': 42.71309586658189, u'robot_id': u'1', u'offset': 88.56604501765419, u'latitude': 40.92194633274752, u'accuracy': 30.377635750163723}, {u'timestamp': 1512559868, u'time': u'2017-12-06T11:31:08.124360534Z', u'longitude': 21.539823137079683, u'robot_id': u'1', u'offset': 54.57955762386459, u'latitude': 49.422968974160405, u'accuracy': 96.22321801314526}, {u'timestamp': 1512559868, u'time': u'2017-12-06T11:31:08.323573841Z', u'longitude': 49.89692699418103, u'robot_id': u'1', u'offset': 29.484531757337233, u'latitude': 78.33214433339012, u'accuracy': 92.59044062425593}, {u'timestamp': 1512559868, u'time': u'2017-12-06T11:31:08.362911292Z', u'longitude': 28.823751572832, u'robot_id': u'1', u'offset': 40.49608845919213, u'latitude': 37.21174876004249, u'accuracy': 53.885332127414316}, {u'timestamp': 1512559868, u'time': u'2017-12-06T11:31:08.662469153Z', u'longitude': 21.788638086129232, u'robot_id': u'1', u'offset': 74.50998416764932, u'latitude': 88.84502259150658, u'accuracy': 41.36318012252943}, {u'timestamp': 1512559868, u'time': u'2017-12-06T11:31:08.742830472Z', u'longitude': 43.816020040775356, u'robot_id': u'1', u'offset': 2.580865044567889, u'latitude': 83.09676965525146, u'accuracy': 83.26741391940783}, {u'timestamp': 1512559868, u'time': u'2017-12-06T11:31:08.875384827Z', u'longitude': 17.346065426818658, u'robot_id': u'1', u'offset': 54.37089921523448, u'latitude': 66.89080547599976, u'accuracy': 96.57180448694268}, {u'timestamp': 1512559868, u'time': u'2017-12-06T11:31:08.906315697Z', u'longitude': 31.95824040108285, u'robot_id': u'1', u'offset': 56.93636153574745, u'latitude': 83.18181940515696, u'accuracy': 82.87807790793639}, {u'timestamp': 1512559869, u'time': u'2017-12-06T11:31:09.076876446Z', u'longitude': 42.8967775971497, u'robot_id': u'1', u'offset': 36.52252593731473, u'latitude': 86.5921653717848, u'accuracy': 44.74204415020403}, {u'timestamp': 1512559869, u'time': u'2017-12-06T11:31:09.381460927Z', u'longitude': 7.4797713505617915, u'robot_id': u'1', u'offset': 22.775773903844573, u'latitude': 30.13406622583719, u'accuracy': 43.636965945374975}, {u'timestamp': 1512559869, u'time': u'2017-12-06T11:31:09.412925091Z', u'longitude': 21.662666930292946, u'robot_id': u'1', u'offset': 53.401884492125156, u'latitude': 95.709959030415, u'accuracy': 86.67357548705992}, {u'timestamp': 1512559869, u'time': u'2017-12-06T11:31:09.448594566Z', u'longitude': 26.884607376913287, u'robot_id': u'1', u'offset': 73.78977167031796, u'latitude': 89.18302490409029, u'accuracy': 60.87508429107378}, {u'timestamp': 1512559869, u'time': u'2017-12-06T11:31:09.513971425Z', u'longitude': 24.725776390779007, u'robot_id': u'1', u'offset': 92.46017702334181, u'latitude': 53.03220987049641, u'accuracy': 2.0008425322675225}, {u'timestamp': 1512559869, u'time': u'2017-12-06T11:31:09.551789121Z', u'longitude': 44.27808031149073, u'robot_id': u'1', u'offset': 85.91881661099042, u'latitude': 88.05647795237083, u'accuracy': 24.445890857541055}, {u'timestamp': 1512559869, u'time': u'2017-12-06T11:31:09.582997159Z', u'longitude': 21.092674528707686, u'robot_id': u'1', u'offset': 96.95263029262044, u'latitude': 58.065915226969665, u'accuracy': 83.50814102591363}]})"
      ]
     },
     "execution_count": 79,
     "metadata": {},
     "output_type": "execute_result"
    }
   ],
   "source": [
    "location_events = client.query(\"select * from location_events where latitude > \"+str(30)+\" and longitude < \"+str(50))\n",
    "location_events"
   ]
  },
  {
   "cell_type": "code",
   "execution_count": 93,
   "metadata": {},
   "outputs": [],
   "source": [
    "client.delete_series(measurement=\"speed_events\")"
   ]
  },
  {
   "cell_type": "code",
   "execution_count": 94,
   "metadata": {},
   "outputs": [
    {
     "data": {
      "text/plain": [
       "ResultSet({})"
      ]
     },
     "execution_count": 94,
     "metadata": {},
     "output_type": "execute_result"
    }
   ],
   "source": [
    "speed_events = client.query(\"select * from speed_events;\")\n",
    "speed_events"
   ]
  },
  {
   "cell_type": "code",
   "execution_count": 22,
   "metadata": {},
   "outputs": [],
   "source": [
    "client.create_database('robot')"
   ]
  },
  {
   "cell_type": "code",
   "execution_count": null,
   "metadata": {
    "collapsed": true
   },
   "outputs": [],
   "source": []
  },
  {
   "cell_type": "code",
   "execution_count": 23,
   "metadata": {},
   "outputs": [],
   "source": [
    "json_body = [\n",
    "    {\n",
    "        \"measurement\": \"cpu_load_short\",\n",
    "        \"tags\": {\n",
    "            \"host\": \"server01\",\n",
    "            \"region\": \"us-west\"\n",
    "        },\n",
    "        \"fields\": {\n",
    "            \"Float_value\": 0.64,\n",
    "            \"Int_value\": 3,\n",
    "            \"String_value\": \"Text\",\n",
    "            \"Bool_value\": True\n",
    "        }\n",
    "    }\n",
    "]"
   ]
  },
  {
   "cell_type": "code",
   "execution_count": 24,
   "metadata": {
    "collapsed": true
   },
   "outputs": [],
   "source": [
    "tp = client.create_retention_policy('awesome_policy', '3d', 3, default=True)"
   ]
  },
  {
   "cell_type": "code",
   "execution_count": 31,
   "metadata": {},
   "outputs": [
    {
     "data": {
      "text/plain": [
       "True"
      ]
     },
     "execution_count": 31,
     "metadata": {},
     "output_type": "execute_result"
    }
   ],
   "source": [
    "client.write_points(json_body)"
   ]
  },
  {
   "cell_type": "code",
   "execution_count": 57,
   "metadata": {
    "collapsed": true
   },
   "outputs": [],
   "source": [
    "result = client.query('select value from cpu_load_short;',database=\"robot\")"
   ]
  },
  {
   "cell_type": "code",
   "execution_count": 58,
   "metadata": {},
   "outputs": [
    {
     "data": {
      "text/plain": [
       "[]"
      ]
     },
     "execution_count": 58,
     "metadata": {},
     "output_type": "execute_result"
    }
   ],
   "source": [
    "list(result.get_points(measurement='cpu_load_short'))"
   ]
  },
  {
   "cell_type": "code",
   "execution_count": 72,
   "metadata": {},
   "outputs": [
    {
     "name": "stdout",
     "output_type": "stream",
     "text": [
      "Create database: example\n",
      "None\n",
      "Write points: [{'fields': {'Int_value': 3, 'Bool_value': True, 'String_value': 'Text', 'Float_value': 0.64}, 'tags': {'host': 'server01', 'region': 'us-west'}, 'time': '2017-12-06 00:17:41', 'measurement': 'cpu_load_short'}]\n",
      "Querying data: select value from cpu_load_short;\n",
      "Result: ResultSet({})\n"
     ]
    }
   ],
   "source": [
    "\n",
    "\n",
    "from influxdb import InfluxDBClient\n",
    "\n",
    "\n",
    "def main(host='localhost', port=8086):\n",
    "    \"\"\"Instantiate a connection to the InfluxDB.\"\"\"\n",
    "    user = 'root'\n",
    "    password = 'root'\n",
    "    dbname = 'example'\n",
    "    dbuser = 'smly'\n",
    "    dbuser_password = 'my_secret_password'\n",
    "    query = 'select value from cpu_load_short;'\n",
    "    json_body = [\n",
    "        {\n",
    "            \"measurement\": \"cpu_load_short\",\n",
    "            \"tags\": {\n",
    "                \"host\": \"server01\",\n",
    "                \"region\": \"us-west\"\n",
    "            },\n",
    "            \"time\": datetime.datetime.now().strftime (\"%Y-%m-%d %H:%M:%S\"),\n",
    "            \"fields\": {\n",
    "                \"Float_value\": 0.64,\n",
    "                \"Int_value\": 3,\n",
    "                \"String_value\": \"Text\",\n",
    "                \"Bool_value\": True\n",
    "            }\n",
    "        }\n",
    "    ]\n",
    "\n",
    "    client = InfluxDBClient(host, port, user, password, dbname)\n",
    "\n",
    "    print(\"Create database: \" + dbname)\n",
    "    print client.create_database(dbname)\n",
    "\n",
    "#     print(\"Create a retention policy\")\n",
    "#     client.create_retention_policy('awesome_policy', '3d', 3, default=True)\n",
    "\n",
    "#     print(\"Switch user: \" + dbuser)\n",
    "#     client.switch_user(dbuser, dbuser_password)\n",
    "\n",
    "    print(\"Write points: {0}\".format(json_body))\n",
    "    client.write_points(json_body)\n",
    "\n",
    "    print(\"Querying data: \" + query)\n",
    "    result = client.query(query,database=dbname)\n",
    "\n",
    "    print(\"Result: {0}\".format(result))\n",
    "\n",
    "\n",
    "\n",
    "if __name__ == '__main__':\n",
    "    main()"
   ]
  },
  {
   "cell_type": "code",
   "execution_count": 66,
   "metadata": {},
   "outputs": [
    {
     "data": {
      "text/plain": [
       "'2017-12-06 00:15:57'"
      ]
     },
     "execution_count": 66,
     "metadata": {},
     "output_type": "execute_result"
    }
   ],
   "source": [
    "import datetime\n",
    "datetime.datetime.now().strftime (\"%Y-%m-%d %H:%M:%S\")"
   ]
  },
  {
   "cell_type": "code",
   "execution_count": null,
   "metadata": {
    "collapsed": true
   },
   "outputs": [],
   "source": []
  }
 ],
 "metadata": {
  "kernelspec": {
   "display_name": "Python 2",
   "language": "python",
   "name": "python2"
  },
  "language_info": {
   "codemirror_mode": {
    "name": "ipython",
    "version": 2
   },
   "file_extension": ".py",
   "mimetype": "text/x-python",
   "name": "python",
   "nbconvert_exporter": "python",
   "pygments_lexer": "ipython2",
   "version": "2.7.14"
  }
 },
 "nbformat": 4,
 "nbformat_minor": 2
}
