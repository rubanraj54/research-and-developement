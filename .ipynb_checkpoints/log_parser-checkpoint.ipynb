{
 "cells": [
  {
   "cell_type": "code",
   "execution_count": 1,
   "metadata": {
    "collapsed": true
   },
   "outputs": [],
   "source": [
    "import numpy as np\n",
    "import pandas as pd\n",
    "import matplotlib.pyplot as plt\n",
    "from datetime import datetime\n",
    "%matplotlib inline\n",
    "from Tkinter import Tk\n",
    "from tkFileDialog import askopenfilename\n",
    "import math\n",
    "from IPython.display import HTML,display"
   ]
  },
  {
   "cell_type": "code",
   "execution_count": 19,
   "metadata": {
    "collapsed": true
   },
   "outputs": [],
   "source": [
    "# this function to get avgs of each event to write in to database\n",
    "def get_avg(files):\n",
    "    avgs = np.zeros((0,6))\n",
    "    for file in files:\n",
    "        with open(file) as fp:\n",
    "            lines = fp.readlines()\n",
    "\n",
    "        event_one = np.zeros((1,0))\n",
    "        event_two = np.zeros((1,0))\n",
    "        event_three = np.zeros((1,0))\n",
    "        event_four = np.zeros((1,0))\n",
    "        event_five = np.zeros((1,0))\n",
    "        event_six = np.zeros((1,0))\n",
    "\n",
    "        for line in lines:\n",
    "            if \"Robot_id\" in line:\n",
    "                splitted_line = line.split(\" \")\n",
    "                if splitted_line[7] is '0':\n",
    "                    event_one = np.hstack([event_one,[[float(splitted_line[8])]]])\n",
    "                elif splitted_line[7] is '1':\n",
    "                    event_two = np.hstack([event_two,[[float(splitted_line[8])]]])\n",
    "                elif splitted_line[7] is '2':\n",
    "                    event_three = np.hstack([event_three,[[float(splitted_line[8])]]])\n",
    "                elif splitted_line[7] is '3':\n",
    "                    event_four = np.hstack([event_four,[[float(splitted_line[8])]]])\n",
    "                elif splitted_line[7] is '4':\n",
    "                    event_five = np.hstack([event_five,[[float(splitted_line[8])]]])\n",
    "                elif splitted_line[7] is '5':\n",
    "                    event_six = np.hstack([event_six,[[float(splitted_line[8])]]]) \n",
    "        avgs = np.vstack([avgs,[np.average(event_one),np.average(event_two),np.average(event_three),\n",
    "                       np.average(event_four),np.average(event_five),np.average(event_six)]])\n",
    "    return avgs\n",
    "# use the below function only for parsing neo4j write logs\n",
    "def get_avg_neo(files):\n",
    "    avgs = np.zeros((0,6))\n",
    "    for file in files:\n",
    "        with open(file) as fp:\n",
    "            lines = fp.readlines()\n",
    "\n",
    "        event_one = np.zeros((1,0))\n",
    "        event_two = np.zeros((1,0))\n",
    "        event_three = np.zeros((1,0))\n",
    "        event_four = np.zeros((1,0))\n",
    "        event_five = np.zeros((1,0))\n",
    "        event_six = np.zeros((1,0))\n",
    "\n",
    "        for line in lines:\n",
    "            if \"Robot_id\" in line:\n",
    "                splitted_line = line.split(\" \")\n",
    "                if splitted_line[6] is '1':\n",
    "                    event_one = np.hstack([event_one,[[float(splitted_line[7])]]])\n",
    "                elif splitted_line[6] is '2':\n",
    "                    event_two = np.hstack([event_two,[[float(splitted_line[7])]]])\n",
    "                elif splitted_line[6] is '3':\n",
    "                    event_three = np.hstack([event_three,[[float(splitted_line[7])]]])\n",
    "                elif splitted_line[6] is '4':\n",
    "                    event_four = np.hstack([event_four,[[float(splitted_line[7])]]])\n",
    "                elif splitted_line[6] is '5':\n",
    "                    event_five = np.hstack([event_five,[[float(splitted_line[7])]]])\n",
    "                elif splitted_line[6] is '6':\n",
    "                    event_six = np.hstack([event_six,[[float(splitted_line[7])]]]) \n",
    "        avgs = np.vstack([avgs,[np.average(event_one),np.average(event_two),np.average(event_three),\n",
    "                       np.average(event_four),np.average(event_five),np.average(event_six)]])\n",
    "    return avgs\n",
    "\n",
    "def get_avg_read(files):\n",
    "    avgs = np.zeros((0,4))\n",
    "    for file in files:\n",
    "        with open(file) as fp:\n",
    "            lines = fp.readlines()\n",
    "            \n",
    "        query_one = np.zeros((1,0))\n",
    "        query_two = np.zeros((1,0))\n",
    "        query_three = np.zeros((1,0))\n",
    "        query_four = np.zeros((1,0))\n",
    "\n",
    "        for line in lines:\n",
    "            if \"Robot_id\" in line:\n",
    "                splitted_line = line.split(\" \")\n",
    "                if splitted_line[7] is '0':\n",
    "                    query_one = np.hstack([query_one,[[float(splitted_line[8])]]])\n",
    "                elif splitted_line[7] is '1':\n",
    "                    query_two = np.hstack([query_two,[[float(splitted_line[8])]]])\n",
    "                elif splitted_line[7] is '2':\n",
    "                    query_three = np.hstack([query_three,[[float(splitted_line[8])]]])\n",
    "                elif splitted_line[7] is '3':\n",
    "                    query_four = np.hstack([query_four,[[float(splitted_line[8])]]])\n",
    "        avgs = np.vstack([avgs,[np.average(query_one),np.average(query_two),np.average(query_three),\n",
    "                               np.average(query_four)]])\n",
    "    return avgs\n",
    "\n",
    "def get_replica_results(files):\n",
    "        result = []\n",
    "        #get the write time stamp\n",
    "        with open(files[0]) as fp:\n",
    "            lines = fp.readlines()\n",
    "        write_vals = {}\n",
    "        for line in lines:\n",
    "            if \"replica_test_write\" in line:\n",
    "                splitted_line = line.split(\" \")\n",
    "                timestamp = splitted_line[9] + \" \" + splitted_line[10].split(\"\\n\")[0]\n",
    "                write_vals[splitted_line[7]] = datetime.strptime(timestamp, '%Y-%m-%d %H:%M:%S.%f')\n",
    "        \n",
    "        #get the read time stamp\n",
    "        with open(files[1]) as fp:\n",
    "            lines = fp.readlines()\n",
    "        read_vals = {}\n",
    "        for line in lines:\n",
    "            if \"replica_test_read\" in line:\n",
    "                splitted_line = line.split(\" \")\n",
    "                timestamp = splitted_line[9] + \" \" + splitted_line[10].split(\"\\n\")[0]\n",
    "                read_vals[splitted_line[7]] = datetime.strptime(timestamp, '%Y-%m-%d %H:%M:%S.%f')  \n",
    "        \n",
    "        for key,value in read_vals.iteritems():\n",
    "            diff = value-write_vals[key]\n",
    "            result.append(float(str(diff).split(\".\")[1])/1000000)\n",
    "        return round(np.average(result),4)\n",
    "        \n",
    "def open_files(n):\n",
    "    files = []\n",
    "    for i in range(n):\n",
    "        Tk().withdraw() # we don't want a full GUI, so keep the root window from appearing\n",
    "        filename = askopenfilename() # show an \"Open\" dialog box and return the path to the selected file\n",
    "        files.append(filename)\n",
    "    return files"
   ]
  },
  {
   "cell_type": "markdown",
   "metadata": {},
   "source": [
    "# Write performance for Neo4J and OrientDB (Robot 1)"
   ]
  },
  {
   "cell_type": "code",
   "execution_count": 21,
   "metadata": {
    "collapsed": true
   },
   "outputs": [],
   "source": [
    "neo_files = open_files(3)\n",
    "orient_files = open_files(3)"
   ]
  },
  {
   "cell_type": "code",
   "execution_count": 41,
   "metadata": {},
   "outputs": [],
   "source": [
    "\n",
    "neo_avgs = get_avg_neo(neo_files)\n",
    "neo_df = pd.DataFrame(neo_avgs, columns=['Event-1', 'Event-2', 'Event-3', 'Event-4','Event-5','Event-6'],\n",
    "                   index=['30hz','60hz','120hz'])\n",
    "\n",
    "\n",
    "orient_avgs = get_avg(orient_files)\n",
    "orient_df = pd.DataFrame(orient_avgs, columns=['Event-1', 'Event-2', 'Event-3', 'Event-4','Event-5','Event-6'],\n",
    "                   index=['30hz','60hz','120hz'])\n"
   ]
  },
  {
   "cell_type": "code",
   "execution_count": 42,
   "metadata": {},
   "outputs": [
    {
     "data": {
      "text/plain": [
       "Text(0.5,1,u'Write query execution timings - OrientDb database')"
      ]
     },
     "execution_count": 42,
     "metadata": {},
     "output_type": "execute_result"
    },
    {
     "data": {
      "image/png": "[encoded data removed]",
      "text/plain": [
       "<matplotlib.figure.Figure at 0x7f3f799f2d90>"
      ]
     },
     "metadata": {},
     "output_type": "display_data"
    }
   ],
   "source": [
    "#Init subplots with height and width\n",
    "fig, axes = plt.subplots(nrows=2, ncols=1)\n",
    "fig.set_figheight(15)\n",
    "fig.set_figwidth(15)\n",
    "\n",
    "#Ploting the averate values from neo4j and orientDB\n",
    "neo_plot = neo_df.plot(ax=axes[0],kind='bar')\n",
    "orient_plot = orient_df.plot(ax=axes[1],kind='bar')\n",
    "\n",
    "#Setting title for subplots\n",
    "neo_plot.set_title(\"Write query execution timings - Neo4J database\")\n",
    "orient_plot.set_title(\"Write query execution timings - OrientDb database\")\n"
   ]
  },
  {
   "cell_type": "code",
   "execution_count": 51,
   "metadata": {},
   "outputs": [
    {
     "name": "stdout",
     "output_type": "stream",
     "text": [
      "hello\n"
     ]
    },
    {
     "data": {
      "text/html": [
       "<table border=\"1\" class=\"dataframe table table-striped table-bordered\">\n",
       "  <thead>\n",
       "    <tr style=\"text-align: right;\">\n",
       "      <th></th>\n",
       "      <th>Event-1</th>\n",
       "      <th>Event-2</th>\n",
       "      <th>Event-3</th>\n",
       "      <th>Event-4</th>\n",
       "      <th>Event-5</th>\n",
       "      <th>Event-6</th>\n",
       "    </tr>\n",
       "  </thead>\n",
       "  <tbody>\n",
       "    <tr>\n",
       "      <th>30hz</th>\n",
       "      <td>0.099008</td>\n",
       "      <td>0.098303</td>\n",
       "      <td>0.099902</td>\n",
       "      <td>0.099658</td>\n",
       "      <td>0.098235</td>\n",
       "      <td>0.522704</td>\n",
       "    </tr>\n",
       "    <tr>\n",
       "      <th>60hz</th>\n",
       "      <td>0.078495</td>\n",
       "      <td>0.077696</td>\n",
       "      <td>0.078581</td>\n",
       "      <td>0.078416</td>\n",
       "      <td>0.078352</td>\n",
       "      <td>0.490067</td>\n",
       "    </tr>\n",
       "    <tr>\n",
       "      <th>120hz</th>\n",
       "      <td>0.063169</td>\n",
       "      <td>0.062207</td>\n",
       "      <td>0.063203</td>\n",
       "      <td>0.063236</td>\n",
       "      <td>0.062470</td>\n",
       "      <td>0.392051</td>\n",
       "    </tr>\n",
       "  </tbody>\n",
       "</table>"
      ],
      "text/plain": [
       "<IPython.core.display.HTML object>"
      ]
     },
     "execution_count": 51,
     "metadata": {},
     "output_type": "execute_result"
    }
   ],
   "source": [
    "print \"hello\"\n",
    "HTML(neo_df.to_html(classes=\"table table-striped table-bordered\"))"
   ]
  },
  {
   "cell_type": "code",
   "execution_count": 45,
   "metadata": {},
   "outputs": [
    {
     "data": {
      "text/html": [
       "<table border=\"1\" class=\"dataframe table table-striped table-bordered\">\n",
       "  <thead>\n",
       "    <tr style=\"text-align: right;\">\n",
       "      <th></th>\n",
       "      <th>Event-1</th>\n",
       "      <th>Event-2</th>\n",
       "      <th>Event-3</th>\n",
       "      <th>Event-4</th>\n",
       "      <th>Event-5</th>\n",
       "      <th>Event-6</th>\n",
       "    </tr>\n",
       "  </thead>\n",
       "  <tbody>\n",
       "    <tr>\n",
       "      <th>30hz</th>\n",
       "      <td>0.021443</td>\n",
       "      <td>0.019567</td>\n",
       "      <td>0.022520</td>\n",
       "      <td>0.021469</td>\n",
       "      <td>0.028925</td>\n",
       "      <td>0.277428</td>\n",
       "    </tr>\n",
       "    <tr>\n",
       "      <th>60hz</th>\n",
       "      <td>0.015330</td>\n",
       "      <td>0.014337</td>\n",
       "      <td>0.015025</td>\n",
       "      <td>0.016958</td>\n",
       "      <td>0.014800</td>\n",
       "      <td>0.362468</td>\n",
       "    </tr>\n",
       "    <tr>\n",
       "      <th>120hz</th>\n",
       "      <td>0.010405</td>\n",
       "      <td>0.009881</td>\n",
       "      <td>0.010414</td>\n",
       "      <td>0.012124</td>\n",
       "      <td>0.009918</td>\n",
       "      <td>0.215152</td>\n",
       "    </tr>\n",
       "  </tbody>\n",
       "</table>"
      ],
      "text/plain": [
       "<IPython.core.display.HTML object>"
      ]
     },
     "execution_count": 45,
     "metadata": {},
     "output_type": "execute_result"
    }
   ],
   "source": [
    "HTML(orient_df.to_html(classes=\"table table-striped table-bordered\"))"
   ]
  },
  {
   "cell_type": "markdown",
   "metadata": {},
   "source": [
    "# Write performance for Neo4J and OrientDB (Robot 2)"
   ]
  },
  {
   "cell_type": "code",
   "execution_count": 46,
   "metadata": {
    "collapsed": true
   },
   "outputs": [],
   "source": [
    "neo_files = open_files(3)\n",
    "orient_files = open_files(3)"
   ]
  },
  {
   "cell_type": "code",
   "execution_count": 47,
   "metadata": {
    "collapsed": true
   },
   "outputs": [],
   "source": [
    "\n",
    "neo_avgs = get_avg_neo(neo_files)\n",
    "neo_df = pd.DataFrame(neo_avgs, columns=['Event-1', 'Event-2', 'Event-3', 'Event-4','Event-5','Event-6'],\n",
    "                   index=['30hz','60hz','120hz'])\n",
    "\n",
    "\n",
    "orient_avgs = get_avg(orient_files)\n",
    "orient_df = pd.DataFrame(orient_avgs, columns=['Event-1', 'Event-2', 'Event-3', 'Event-4','Event-5','Event-6'],\n",
    "                   index=['30hz','60hz','120hz'])\n"
   ]
  },
  {
   "cell_type": "code",
   "execution_count": 48,
   "metadata": {},
   "outputs": [
    {
     "data": {
      "text/plain": [
       "Text(0.5,1,u'Write query execution timings - OrientDb database')"
      ]
     },
     "execution_count": 48,
     "metadata": {},
     "output_type": "execute_result"
    },
    {
     "data": {
      "image/png": "[encoded data removed]",
      "text/plain": [
       "<matplotlib.figure.Figure at 0x7f3f79d10a10>"
      ]
     },
     "metadata": {},
     "output_type": "display_data"
    }
   ],
   "source": [
    "#Init subplots with height and width\n",
    "fig, axes = plt.subplots(nrows=2, ncols=1)\n",
    "fig.set_figheight(15)\n",
    "fig.set_figwidth(15)\n",
    "\n",
    "#Ploting the averate values from neo4j and orientDB\n",
    "neo_plot = neo_df.plot(ax=axes[0],kind='bar')\n",
    "orient_plot = orient_df.plot(ax=axes[1],kind='bar')\n",
    "\n",
    "#Setting title for subplots\n",
    "neo_plot.set_title(\"Write query execution timings - Neo4J database\")\n",
    "orient_plot.set_title(\"Write query execution timings - OrientDb database\")\n"
   ]
  },
  {
   "cell_type": "code",
   "execution_count": 49,
   "metadata": {},
   "outputs": [
    {
     "data": {
      "text/html": [
       "<table border=\"1\" class=\"dataframe table table-striped table-bordered\">\n",
       "  <thead>\n",
       "    <tr style=\"text-align: right;\">\n",
       "      <th></th>\n",
       "      <th>Event-1</th>\n",
       "      <th>Event-2</th>\n",
       "      <th>Event-3</th>\n",
       "      <th>Event-4</th>\n",
       "      <th>Event-5</th>\n",
       "      <th>Event-6</th>\n",
       "    </tr>\n",
       "  </thead>\n",
       "  <tbody>\n",
       "    <tr>\n",
       "      <th>30hz</th>\n",
       "      <td>0.099008</td>\n",
       "      <td>0.098303</td>\n",
       "      <td>0.099902</td>\n",
       "      <td>0.099658</td>\n",
       "      <td>0.098235</td>\n",
       "      <td>0.522704</td>\n",
       "    </tr>\n",
       "    <tr>\n",
       "      <th>60hz</th>\n",
       "      <td>0.078495</td>\n",
       "      <td>0.077696</td>\n",
       "      <td>0.078581</td>\n",
       "      <td>0.078416</td>\n",
       "      <td>0.078352</td>\n",
       "      <td>0.490067</td>\n",
       "    </tr>\n",
       "    <tr>\n",
       "      <th>120hz</th>\n",
       "      <td>0.063169</td>\n",
       "      <td>0.062207</td>\n",
       "      <td>0.063203</td>\n",
       "      <td>0.063236</td>\n",
       "      <td>0.062470</td>\n",
       "      <td>0.392051</td>\n",
       "    </tr>\n",
       "  </tbody>\n",
       "</table>"
      ],
      "text/plain": [
       "<IPython.core.display.HTML object>"
      ]
     },
     "execution_count": 49,
     "metadata": {},
     "output_type": "execute_result"
    }
   ],
   "source": [
    "HTML(neo_df.to_html(classes=\"table table-striped table-bordered\"))"
   ]
  },
  {
   "cell_type": "code",
   "execution_count": 50,
   "metadata": {},
   "outputs": [
    {
     "data": {
      "text/html": [
       "<table border=\"1\" class=\"dataframe table table-striped table-bordered\">\n",
       "  <thead>\n",
       "    <tr style=\"text-align: right;\">\n",
       "      <th></th>\n",
       "      <th>Event-1</th>\n",
       "      <th>Event-2</th>\n",
       "      <th>Event-3</th>\n",
       "      <th>Event-4</th>\n",
       "      <th>Event-5</th>\n",
       "      <th>Event-6</th>\n",
       "    </tr>\n",
       "  </thead>\n",
       "  <tbody>\n",
       "    <tr>\n",
       "      <th>30hz</th>\n",
       "      <td>0.015659</td>\n",
       "      <td>0.018587</td>\n",
       "      <td>0.015761</td>\n",
       "      <td>0.012546</td>\n",
       "      <td>0.026548</td>\n",
       "      <td>0.232383</td>\n",
       "    </tr>\n",
       "    <tr>\n",
       "      <th>60hz</th>\n",
       "      <td>0.010724</td>\n",
       "      <td>0.009726</td>\n",
       "      <td>0.009659</td>\n",
       "      <td>0.009442</td>\n",
       "      <td>0.011393</td>\n",
       "      <td>0.206819</td>\n",
       "    </tr>\n",
       "    <tr>\n",
       "      <th>120hz</th>\n",
       "      <td>0.008829</td>\n",
       "      <td>0.008050</td>\n",
       "      <td>0.008037</td>\n",
       "      <td>0.009013</td>\n",
       "      <td>0.010385</td>\n",
       "      <td>0.207246</td>\n",
       "    </tr>\n",
       "  </tbody>\n",
       "</table>"
      ],
      "text/plain": [
       "<IPython.core.display.HTML object>"
      ]
     },
     "execution_count": 50,
     "metadata": {},
     "output_type": "execute_result"
    }
   ],
   "source": [
    "HTML(orient_df.to_html(classes=\"table table-striped table-bordered\"))"
   ]
  },
  {
   "cell_type": "code",
   "execution_count": null,
   "metadata": {
    "collapsed": true
   },
   "outputs": [],
   "source": []
  },
  {
   "cell_type": "code",
   "execution_count": null,
   "metadata": {
    "collapsed": true
   },
   "outputs": [],
   "source": [
    "# Robot 1 - Write only scenario (orientdb)\n",
    "avgs = get_avg(files)\n",
    "df2 = pd.DataFrame(avgs, columns=['Event-1', 'Event-2', 'Event-3', 'Event-4','Event-5','Event-6'],\n",
    "                   index=['30hz','60hz','120hz'])\n",
    "\n",
    "ax = df2.plot(kind='bar')\n",
    "# HTML(df2.to_html(classes=\"table table-striped table-bordered\"))"
   ]
  },
  {
   "cell_type": "code",
   "execution_count": 4,
   "metadata": {
    "collapsed": true
   },
   "outputs": [],
   "source": [
    "files = open_files(2)"
   ]
  },
  {
   "cell_type": "code",
   "execution_count": 18,
   "metadata": {},
   "outputs": [
    {
     "data": {
      "text/html": [
       "<table border=\"1\" class=\"dataframe table table-striped table-bordered\">\n",
       "  <thead>\n",
       "    <tr style=\"text-align: right;\">\n",
       "      <th></th>\n",
       "      <th>Query-1</th>\n",
       "      <th>Query-2</th>\n",
       "      <th>Query-3</th>\n",
       "      <th>Query-4</th>\n",
       "    </tr>\n",
       "  </thead>\n",
       "  <tbody>\n",
       "    <tr>\n",
       "      <th>30hz</th>\n",
       "      <td>0.004626</td>\n",
       "      <td>0.004688</td>\n",
       "      <td>0.004615</td>\n",
       "      <td>0.004328</td>\n",
       "    </tr>\n",
       "    <tr>\n",
       "      <th>60hz</th>\n",
       "      <td>0.004258</td>\n",
       "      <td>0.004252</td>\n",
       "      <td>0.004187</td>\n",
       "      <td>0.003984</td>\n",
       "    </tr>\n",
       "  </tbody>\n",
       "</table>"
      ],
      "text/plain": [
       "<IPython.core.display.HTML object>"
      ]
     },
     "execution_count": 18,
     "metadata": {},
     "output_type": "execute_result"
    },
    {
     "data": {
      "image/png": "[encoded data removed]",
      "text/plain": [
       "<matplotlib.figure.Figure at 0x7f3f84818f10>"
      ]
     },
     "metadata": {},
     "output_type": "display_data"
    }
   ],
   "source": [
    "avgs = get_avg_read(files)\n",
    "df2 = pd.DataFrame(avgs, columns=['Query-1', 'Query-2', 'Query-3','Query-4'],\n",
    "                   index=['30hz','60hz'])\n",
    "fig, axes = plt.subplots(nrows=2, ncols=1)\n",
    "fig.set_figheight(15)\n",
    "fig.set_figwidth(15)\n",
    "ax = df2.plot(ax=axes[0],kind='bar')\n",
    "HTML(df2.to_html(classes=\"table table-striped table-bordered\"))"
   ]
  },
  {
   "cell_type": "code",
   "execution_count": 10,
   "metadata": {},
   "outputs": [
    {
     "data": {
      "image/png": "[encoded data removed]",
      "text/plain": [
       "<matplotlib.figure.Figure at 0x7f3f816ffc50>"
      ]
     },
     "metadata": {},
     "output_type": "display_data"
    }
   ],
   "source": [
    "fig, axes = plt.subplots(nrows=2, ncols=2)"
   ]
  },
  {
   "cell_type": "code",
   "execution_count": 42,
   "metadata": {
    "collapsed": true
   },
   "outputs": [],
   "source": [
    "files = open_files(2)"
   ]
  },
  {
   "cell_type": "code",
   "execution_count": 54,
   "metadata": {},
   "outputs": [
    {
     "name": "stdout",
     "output_type": "stream",
     "text": [
      "Average replication time for events in neo4j, 0.1918\n"
     ]
    }
   ],
   "source": [
    "print \"Average replication time for events in neo4j,\", get_replica_results(files)"
   ]
  },
  {
   "cell_type": "code",
   "execution_count": 11,
   "metadata": {},
   "outputs": [
    {
     "ename": "TypeError",
     "evalue": "coercing to Unicode: need string or buffer, tuple found",
     "output_type": "error",
     "traceback": [
      "\u001b[0;31m---------------------------------------------------------------------------\u001b[0m",
      "\u001b[0;31mTypeError\u001b[0m                                 Traceback (most recent call last)",
      "\u001b[0;32m<ipython-input-11-33a9f8c9bc92>\u001b[0m in \u001b[0;36m<module>\u001b[0;34m()\u001b[0m\n\u001b[1;32m      1\u001b[0m \u001b[0;31m# Robot 1 - Read only scenario\u001b[0m\u001b[0;34m\u001b[0m\u001b[0;34m\u001b[0m\u001b[0m\n\u001b[0;32m----> 2\u001b[0;31m \u001b[0mavgs\u001b[0m \u001b[0;34m=\u001b[0m \u001b[0mget_avg_read\u001b[0m\u001b[0;34m(\u001b[0m\u001b[0mopen_files\u001b[0m\u001b[0;34m(\u001b[0m\u001b[0;36m3\u001b[0m\u001b[0;34m)\u001b[0m\u001b[0;34m)\u001b[0m\u001b[0;34m\u001b[0m\u001b[0m\n\u001b[0m\u001b[1;32m      3\u001b[0m df2 = pd.DataFrame(avgs, columns=['Query-1', 'Query-2', 'Query-3','Query-4'],\n\u001b[1;32m      4\u001b[0m                    index=['30hz','60hz','120hz'])\n\u001b[1;32m      5\u001b[0m \u001b[0;34m\u001b[0m\u001b[0m\n",
      "\u001b[0;32m<ipython-input-7-02da6089af15>\u001b[0m in \u001b[0;36mget_avg_read\u001b[0;34m(files)\u001b[0m\n\u001b[1;32m     67\u001b[0m     \u001b[0mavgs\u001b[0m \u001b[0;34m=\u001b[0m \u001b[0mnp\u001b[0m\u001b[0;34m.\u001b[0m\u001b[0mzeros\u001b[0m\u001b[0;34m(\u001b[0m\u001b[0;34m(\u001b[0m\u001b[0;36m0\u001b[0m\u001b[0;34m,\u001b[0m\u001b[0;36m4\u001b[0m\u001b[0;34m)\u001b[0m\u001b[0;34m)\u001b[0m\u001b[0;34m\u001b[0m\u001b[0m\n\u001b[1;32m     68\u001b[0m     \u001b[0;32mfor\u001b[0m \u001b[0mfile\u001b[0m \u001b[0;32min\u001b[0m \u001b[0mfiles\u001b[0m\u001b[0;34m:\u001b[0m\u001b[0;34m\u001b[0m\u001b[0m\n\u001b[0;32m---> 69\u001b[0;31m         \u001b[0;32mwith\u001b[0m \u001b[0mopen\u001b[0m\u001b[0;34m(\u001b[0m\u001b[0mfile\u001b[0m\u001b[0;34m)\u001b[0m \u001b[0;32mas\u001b[0m \u001b[0mfp\u001b[0m\u001b[0;34m:\u001b[0m\u001b[0;34m\u001b[0m\u001b[0m\n\u001b[0m\u001b[1;32m     70\u001b[0m             \u001b[0mlines\u001b[0m \u001b[0;34m=\u001b[0m \u001b[0mfp\u001b[0m\u001b[0;34m.\u001b[0m\u001b[0mreadlines\u001b[0m\u001b[0;34m(\u001b[0m\u001b[0;34m)\u001b[0m\u001b[0;34m\u001b[0m\u001b[0m\n\u001b[1;32m     71\u001b[0m \u001b[0;34m\u001b[0m\u001b[0m\n",
      "\u001b[0;31mTypeError\u001b[0m: coercing to Unicode: need string or buffer, tuple found"
     ]
    }
   ],
   "source": [
    "# Robot 1 - Read only scenario\n",
    "avgs = get_avg_read(open_files(3))\n",
    "df2 = pd.DataFrame(avgs, columns=['Query-1', 'Query-2', 'Query-3','Query-4'],\n",
    "                   index=['30hz','60hz','120hz'])\n",
    "\n",
    "ax = df2.plot(ax=axes[0,0],kind='bar',figsize=(15,10))\n",
    "HTML(df2.to_html(classes=\"table table-striped table-bordered\"))\n"
   ]
  },
  {
   "cell_type": "code",
   "execution_count": 10,
   "metadata": {},
   "outputs": [
    {
     "data": {
      "text/html": [
       "<table border=\"1\" class=\"dataframe table table-striped table-bordered\">\n",
       "  <thead>\n",
       "    <tr style=\"text-align: right;\">\n",
       "      <th></th>\n",
       "      <th>Query-1</th>\n",
       "      <th>Query-2</th>\n",
       "      <th>Query-3</th>\n",
       "      <th>Query-4</th>\n",
       "    </tr>\n",
       "  </thead>\n",
       "  <tbody>\n",
       "    <tr>\n",
       "      <th>30hz</th>\n",
       "      <td>0.003082</td>\n",
       "      <td>0.003068</td>\n",
       "      <td>0.021210</td>\n",
       "      <td>0.002242</td>\n",
       "    </tr>\n",
       "    <tr>\n",
       "      <th>60hz</th>\n",
       "      <td>0.002596</td>\n",
       "      <td>0.002592</td>\n",
       "      <td>0.018059</td>\n",
       "      <td>0.001855</td>\n",
       "    </tr>\n",
       "    <tr>\n",
       "      <th>120hz</th>\n",
       "      <td>0.001488</td>\n",
       "      <td>0.001492</td>\n",
       "      <td>0.010893</td>\n",
       "      <td>0.001065</td>\n",
       "    </tr>\n",
       "  </tbody>\n",
       "</table>"
      ],
      "text/plain": [
       "<IPython.core.display.HTML object>"
      ]
     },
     "execution_count": 10,
     "metadata": {},
     "output_type": "execute_result"
    },
    {
     "data": {
      "image/png": "[encoded data removed]",
      "text/plain": [
       "<matplotlib.figure.Figure at 0x7f0a3e7439d0>"
      ]
     },
     "metadata": {},
     "output_type": "display_data"
    }
   ],
   "source": [
    "# Robot 2 - Read only scenario\n",
    "avgs = get_avg_read(open_files(3))\n",
    "df2 = pd.DataFrame(avgs, columns=['Query-1', 'Query-2', 'Query-3','Query-4'],\n",
    "                   index=['30hz','60hz','120hz'])\n",
    "\n",
    "ax = df2.plot(kind='bar',figsize=(15,10))\n",
    "HTML(df2.to_html(classes=\"table table-striped table-bordered\"))"
   ]
  },
  {
   "cell_type": "code",
   "execution_count": 11,
   "metadata": {},
   "outputs": [
    {
     "data": {
      "text/html": [
       "<table border=\"1\" class=\"dataframe table table-striped table-bordered\">\n",
       "  <thead>\n",
       "    <tr style=\"text-align: right;\">\n",
       "      <th></th>\n",
       "      <th>Query-1</th>\n",
       "      <th>Query-2</th>\n",
       "      <th>Query-3</th>\n",
       "      <th>Query-4</th>\n",
       "    </tr>\n",
       "  </thead>\n",
       "  <tbody>\n",
       "    <tr>\n",
       "      <th>30hz</th>\n",
       "      <td>0.003045</td>\n",
       "      <td>0.003074</td>\n",
       "      <td>0.021156</td>\n",
       "      <td>0.002214</td>\n",
       "    </tr>\n",
       "    <tr>\n",
       "      <th>60hz</th>\n",
       "      <td>0.002569</td>\n",
       "      <td>0.002577</td>\n",
       "      <td>0.017665</td>\n",
       "      <td>0.001842</td>\n",
       "    </tr>\n",
       "    <tr>\n",
       "      <th>120hz</th>\n",
       "      <td>0.001488</td>\n",
       "      <td>0.001487</td>\n",
       "      <td>0.010909</td>\n",
       "      <td>0.001070</td>\n",
       "    </tr>\n",
       "  </tbody>\n",
       "</table>"
      ],
      "text/plain": [
       "<IPython.core.display.HTML object>"
      ]
     },
     "execution_count": 11,
     "metadata": {},
     "output_type": "execute_result"
    },
    {
     "data": {
      "image/png": "[encoded data removed]",
      "text/plain": [
       "<matplotlib.figure.Figure at 0x7f0a3e112050>"
      ]
     },
     "metadata": {},
     "output_type": "display_data"
    }
   ],
   "source": [
    "# Robot 3 - Read only scenario\n",
    "avgs = get_avg_read(open_files(3))\n",
    "df2 = pd.DataFrame(avgs, columns=['Query-1', 'Query-2', 'Query-3','Query-4'],\n",
    "                   index=['30hz','60hz','120hz'])\n",
    "\n",
    "ax = df2.plot(kind='bar',figsize=(15,10))\n",
    "HTML(df2.to_html(classes=\"table table-striped table-bordered\"))"
   ]
  },
  {
   "cell_type": "code",
   "execution_count": 41,
   "metadata": {
    "collapsed": true,
    "scrolled": true
   },
   "outputs": [],
   "source": [
    "\n",
    "# the below code helps to show values over the bars\n",
    "# for p in ax.patches:\n",
    "#     ax.annotate(str(truncate(p.get_height(),2)), xy=(truncate(p.get_x(),2), truncate(p.get_height(),2)))"
   ]
  },
  {
   "cell_type": "code",
   "execution_count": 36,
   "metadata": {
    "scrolled": true
   },
   "outputs": [
    {
     "data": {
      "text/html": [
       "<table border=\"1\" class=\"dataframe table table-striped table-bordered\">\n",
       "  <thead>\n",
       "    <tr style=\"text-align: right;\">\n",
       "      <th></th>\n",
       "      <th>Event-1</th>\n",
       "      <th>Event-2</th>\n",
       "      <th>Event-3</th>\n",
       "      <th>Event-4</th>\n",
       "      <th>Event-5</th>\n",
       "      <th>Event-6</th>\n",
       "    </tr>\n",
       "  </thead>\n",
       "  <tbody>\n",
       "    <tr>\n",
       "      <th>30hz</th>\n",
       "      <td>0.108357</td>\n",
       "      <td>0.107107</td>\n",
       "      <td>0.108078</td>\n",
       "      <td>0.109604</td>\n",
       "      <td>0.105533</td>\n",
       "      <td>0.626815</td>\n",
       "    </tr>\n",
       "    <tr>\n",
       "      <th>60hz</th>\n",
       "      <td>0.093357</td>\n",
       "      <td>0.091464</td>\n",
       "      <td>0.091945</td>\n",
       "      <td>0.093043</td>\n",
       "      <td>0.092700</td>\n",
       "      <td>0.640276</td>\n",
       "    </tr>\n",
       "    <tr>\n",
       "      <th>120hz</th>\n",
       "      <td>0.083857</td>\n",
       "      <td>0.081955</td>\n",
       "      <td>0.081966</td>\n",
       "      <td>0.081659</td>\n",
       "      <td>0.083261</td>\n",
       "      <td>0.684756</td>\n",
       "    </tr>\n",
       "  </tbody>\n",
       "</table>"
      ],
      "text/plain": [
       "<IPython.core.display.HTML object>"
      ]
     },
     "execution_count": 36,
     "metadata": {},
     "output_type": "execute_result"
    },
    {
     "data": {
      "image/png": "[encoded data removed]",
      "text/plain": [
       "<matplotlib.figure.Figure at 0x7f3b77d7b990>"
      ]
     },
     "metadata": {},
     "output_type": "display_data"
    }
   ],
   "source": [
    "# Robot 1 - Write only scenario\n",
    "avgs = get_avg(open_files(3))\n",
    "df2 = pd.DataFrame(avgs, columns=['Event-1', 'Event-2', 'Event-3', 'Event-4','Event-5','Event-6'],\n",
    "                   index=['30hz','60hz','120hz'])\n",
    "\n",
    "ax = df2.plot(kind='bar',figsize=(15,10))\n",
    "HTML(df2.to_html(classes=\"table table-striped table-bordered\"))"
   ]
  },
  {
   "cell_type": "code",
   "execution_count": 4,
   "metadata": {
    "collapsed": true
   },
   "outputs": [],
   "source": [
    "files = open_files(3)"
   ]
  },
  {
   "cell_type": "code",
   "execution_count": 9,
   "metadata": {},
   "outputs": [
    {
     "data": {
      "text/html": [
       "<table border=\"1\" class=\"dataframe table table-striped table-bordered\">\n",
       "  <thead>\n",
       "    <tr style=\"text-align: right;\">\n",
       "      <th></th>\n",
       "      <th>Event-1</th>\n",
       "      <th>Event-2</th>\n",
       "      <th>Event-3</th>\n",
       "      <th>Event-4</th>\n",
       "      <th>Event-5</th>\n",
       "      <th>Event-6</th>\n",
       "    </tr>\n",
       "  </thead>\n",
       "  <tbody>\n",
       "    <tr>\n",
       "      <th>30hz</th>\n",
       "      <td>0.021443</td>\n",
       "      <td>0.019567</td>\n",
       "      <td>0.022520</td>\n",
       "      <td>0.021469</td>\n",
       "      <td>0.028925</td>\n",
       "      <td>0.277428</td>\n",
       "    </tr>\n",
       "    <tr>\n",
       "      <th>60hz</th>\n",
       "      <td>0.015330</td>\n",
       "      <td>0.014337</td>\n",
       "      <td>0.015025</td>\n",
       "      <td>0.016958</td>\n",
       "      <td>0.014800</td>\n",
       "      <td>0.362468</td>\n",
       "    </tr>\n",
       "    <tr>\n",
       "      <th>120hz</th>\n",
       "      <td>0.010405</td>\n",
       "      <td>0.009881</td>\n",
       "      <td>0.010414</td>\n",
       "      <td>0.012124</td>\n",
       "      <td>0.009918</td>\n",
       "      <td>0.215152</td>\n",
       "    </tr>\n",
       "  </tbody>\n",
       "</table>"
      ],
      "text/plain": [
       "<IPython.core.display.HTML object>"
      ]
     },
     "execution_count": 9,
     "metadata": {},
     "output_type": "execute_result"
    },
    {
     "data": {
      "image/png": "[encoded data removed]",
      "text/plain": [
       "<matplotlib.figure.Figure at 0x7fdc835488d0>"
      ]
     },
     "metadata": {},
     "output_type": "display_data"
    }
   ],
   "source": [
    "# Robot 1 - Write only scenario (orientdb)\n",
    "avgs = get_avg(files)\n",
    "df2 = pd.DataFrame(avgs, columns=['Event-1', 'Event-2', 'Event-3', 'Event-4','Event-5','Event-6'],\n",
    "                   index=['30hz','60hz','120hz'])\n",
    "\n",
    "ax = df2.plot(kind='bar',figsize=(15,10))\n",
    "HTML(df2.to_html(classes=\"table table-striped table-bordered\"))"
   ]
  },
  {
   "cell_type": "code",
   "execution_count": 39,
   "metadata": {},
   "outputs": [
    {
     "data": {
      "text/html": [
       "<table border=\"1\" class=\"dataframe table table-striped table-bordered\">\n",
       "  <thead>\n",
       "    <tr style=\"text-align: right;\">\n",
       "      <th></th>\n",
       "      <th>Event-1</th>\n",
       "      <th>Event-2</th>\n",
       "      <th>Event-3</th>\n",
       "      <th>Event-4</th>\n",
       "      <th>Event-5</th>\n",
       "      <th>Event-6</th>\n",
       "    </tr>\n",
       "  </thead>\n",
       "  <tbody>\n",
       "    <tr>\n",
       "      <th>30hz</th>\n",
       "      <td>0.099008</td>\n",
       "      <td>0.098303</td>\n",
       "      <td>0.099902</td>\n",
       "      <td>0.099658</td>\n",
       "      <td>0.098235</td>\n",
       "      <td>0.522704</td>\n",
       "    </tr>\n",
       "    <tr>\n",
       "      <th>60hz</th>\n",
       "      <td>0.078495</td>\n",
       "      <td>0.077696</td>\n",
       "      <td>0.078581</td>\n",
       "      <td>0.078416</td>\n",
       "      <td>0.078352</td>\n",
       "      <td>0.490067</td>\n",
       "    </tr>\n",
       "    <tr>\n",
       "      <th>120hz</th>\n",
       "      <td>0.063169</td>\n",
       "      <td>0.062207</td>\n",
       "      <td>0.063203</td>\n",
       "      <td>0.063236</td>\n",
       "      <td>0.062470</td>\n",
       "      <td>0.392051</td>\n",
       "    </tr>\n",
       "  </tbody>\n",
       "</table>"
      ],
      "text/plain": [
       "<IPython.core.display.HTML object>"
      ]
     },
     "execution_count": 39,
     "metadata": {},
     "output_type": "execute_result"
    },
    {
     "data": {
      "image/png": "[encoded data removed]",
      "text/plain": [
       "<matplotlib.figure.Figure at 0x7f3b77c88cd0>"
      ]
     },
     "metadata": {},
     "output_type": "display_data"
    }
   ],
   "source": [
    "# Robot 2 - Write only scenario\n",
    "avgs = get_avg(open_files(3))\n",
    "df2 = pd.DataFrame(avgs, columns=['Event-1', 'Event-2', 'Event-3', 'Event-4','Event-5','Event-6'],\n",
    "                   index=['30hz','60hz','120hz'])\n",
    "\n",
    "ax = df2.plot(kind='bar',figsize=(15,10))\n",
    "HTML(df2.to_html(classes=\"table table-striped table-bordered\"))"
   ]
  },
  {
   "cell_type": "code",
   "execution_count": 40,
   "metadata": {},
   "outputs": [
    {
     "data": {
      "text/html": [
       "<table border=\"1\" class=\"dataframe table table-striped table-bordered\">\n",
       "  <thead>\n",
       "    <tr style=\"text-align: right;\">\n",
       "      <th></th>\n",
       "      <th>Event-1</th>\n",
       "      <th>Event-2</th>\n",
       "      <th>Event-3</th>\n",
       "      <th>Event-4</th>\n",
       "      <th>Event-5</th>\n",
       "      <th>Event-6</th>\n",
       "    </tr>\n",
       "  </thead>\n",
       "  <tbody>\n",
       "    <tr>\n",
       "      <th>30hz</th>\n",
       "      <td>0.112315</td>\n",
       "      <td>0.110434</td>\n",
       "      <td>0.111139</td>\n",
       "      <td>0.110892</td>\n",
       "      <td>0.110778</td>\n",
       "      <td>0.620318</td>\n",
       "    </tr>\n",
       "    <tr>\n",
       "      <th>60hz</th>\n",
       "      <td>0.077442</td>\n",
       "      <td>0.076039</td>\n",
       "      <td>0.077621</td>\n",
       "      <td>0.077380</td>\n",
       "      <td>0.076529</td>\n",
       "      <td>0.443877</td>\n",
       "    </tr>\n",
       "    <tr>\n",
       "      <th>120hz</th>\n",
       "      <td>0.062978</td>\n",
       "      <td>0.061585</td>\n",
       "      <td>0.062658</td>\n",
       "      <td>0.063184</td>\n",
       "      <td>0.062412</td>\n",
       "      <td>0.347923</td>\n",
       "    </tr>\n",
       "  </tbody>\n",
       "</table>"
      ],
      "text/plain": [
       "<IPython.core.display.HTML object>"
      ]
     },
     "execution_count": 40,
     "metadata": {},
     "output_type": "execute_result"
    },
    {
     "data": {
      "image/png": "[encoded data removed]",
      "text/plain": [
       "<matplotlib.figure.Figure at 0x7f3b77d486d0>"
      ]
     },
     "metadata": {},
     "output_type": "display_data"
    }
   ],
   "source": [
    "# Robot 3 - Write only scenario\n",
    "avgs = get_avg(open_files(3))\n",
    "df2 = pd.DataFrame(avgs, columns=['Event-1', 'Event-2', 'Event-3', 'Event-4','Event-5','Event-6'],\n",
    "                   index=['30hz','60hz','120hz'])\n",
    "\n",
    "ax = df2.plot(kind='bar',figsize=(15,10))\n",
    "HTML(df2.to_html(classes=\"table table-striped table-bordered\"))"
   ]
  },
  {
   "cell_type": "code",
   "execution_count": 7,
   "metadata": {},
   "outputs": [
    {
     "data": {
      "text/html": [
       "<table border=\"1\" class=\"dataframe table table-striped table-bordered\">\n",
       "  <thead>\n",
       "    <tr style=\"text-align: right;\">\n",
       "      <th></th>\n",
       "      <th>Event-1</th>\n",
       "      <th>Event-2</th>\n",
       "      <th>Event-3</th>\n",
       "      <th>Event-4</th>\n",
       "      <th>Event-5</th>\n",
       "      <th>Event-6</th>\n",
       "    </tr>\n",
       "  </thead>\n",
       "  <tbody>\n",
       "    <tr>\n",
       "      <th>30hz</th>\n",
       "      <td>0.099707</td>\n",
       "      <td>0.098378</td>\n",
       "      <td>0.101618</td>\n",
       "      <td>0.100307</td>\n",
       "      <td>0.098450</td>\n",
       "      <td>0.533962</td>\n",
       "    </tr>\n",
       "    <tr>\n",
       "      <th>60hz</th>\n",
       "      <td>0.100643</td>\n",
       "      <td>0.099033</td>\n",
       "      <td>0.099171</td>\n",
       "      <td>0.099605</td>\n",
       "      <td>0.099805</td>\n",
       "      <td>0.712155</td>\n",
       "    </tr>\n",
       "    <tr>\n",
       "      <th>120hz</th>\n",
       "      <td>0.069795</td>\n",
       "      <td>0.069252</td>\n",
       "      <td>0.070408</td>\n",
       "      <td>0.069979</td>\n",
       "      <td>0.069794</td>\n",
       "      <td>0.575710</td>\n",
       "    </tr>\n",
       "  </tbody>\n",
       "</table>"
      ],
      "text/plain": [
       "<IPython.core.display.HTML object>"
      ]
     },
     "execution_count": 7,
     "metadata": {},
     "output_type": "execute_result"
    },
    {
     "data": {
      "image/png": "[encoded data removed]",
      "text/plain": [
       "<matplotlib.figure.Figure at 0x7fceb8576bd0>"
      ]
     },
     "metadata": {},
     "output_type": "display_data"
    }
   ],
   "source": [
    "# Robot 3 - Write along with read scenario\n",
    "avgs = get_avg(open_files(3))\n",
    "df2 = pd.DataFrame(avgs, columns=['Event-1', 'Event-2', 'Event-3', 'Event-4','Event-5','Event-6'],\n",
    "                   index=['30hz','60hz','120hz'])\n",
    "\n",
    "ax = df2.plot(kind='bar',figsize=(15,10))\n",
    "HTML(df2.to_html(classes=\"table table-striped table-bordered\"))"
   ]
  },
  {
   "cell_type": "code",
   "execution_count": null,
   "metadata": {
    "collapsed": true
   },
   "outputs": [],
   "source": []
  }
 ],
 "metadata": {
  "kernelspec": {
   "display_name": "Python 2",
   "language": "python",
   "name": "python2"
  },
  "language_info": {
   "codemirror_mode": {
    "name": "ipython",
    "version": 2
   },
   "file_extension": ".py",
   "mimetype": "text/x-python",
   "name": "python",
   "nbconvert_exporter": "python",
   "pygments_lexer": "ipython2",
   "version": "2.7.14"
  }
 },
 "nbformat": 4,
 "nbformat_minor": 2
}
