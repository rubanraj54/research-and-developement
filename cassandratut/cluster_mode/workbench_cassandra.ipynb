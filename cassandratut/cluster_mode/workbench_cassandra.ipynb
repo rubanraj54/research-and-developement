{
 "cells": [
  {
   "cell_type": "code",
   "execution_count": 1,
   "metadata": {
    "collapsed": true
   },
   "outputs": [],
   "source": [
    "import uuid\n",
    "from cassandra.cqlengine import columns\n",
    "from cassandra.cqlengine import connection\n",
    "from datetime import datetime\n",
    "from cassandra.cqlengine.management import sync_table\n",
    "from cassandra.cqlengine.models import Model\n",
    "import random\n",
    "import datetime"
   ]
  },
  {
   "cell_type": "code",
   "execution_count": 2,
   "metadata": {
    "collapsed": true
   },
   "outputs": [],
   "source": [
    "connection.setup(['127.0.0.1'], \"mydb\", protocol_version=3,port=19042)"
   ]
  },
  {
   "cell_type": "code",
   "execution_count": 41,
   "metadata": {
    "collapsed": true
   },
   "outputs": [],
   "source": [
    "#first, define a model\n",
    "class ExampleModel(Model):\n",
    "    example_id      = columns.UUID(primary_key=True, default=uuid.uuid4)\n",
    "    example_type    = columns.Integer(index=True)\n",
    "    created_at      = columns.DateTime()\n",
    "    description     = columns.Text(required=False)"
   ]
  },
  {
   "cell_type": "code",
   "execution_count": 42,
   "metadata": {
    "collapsed": true
   },
   "outputs": [],
   "source": [
    "sync_table(ExampleModel)"
   ]
  },
  {
   "cell_type": "code",
   "execution_count": 3,
   "metadata": {},
   "outputs": [
    {
     "name": "stderr",
     "output_type": "stream",
     "text": [
      "/home/ruby/anaconda2/lib/python2.7/site-packages/cassandra/cqlengine/management.py:545: UserWarning: CQLENG_ALLOW_SCHEMA_MANAGEMENT environment variable is not set. Future versions of this package will require this variable to enable management functions.\n",
      "  warnings.warn(msg)\n"
     ]
    }
   ],
   "source": [
    "from cassandra.cqlengine.columns import UUID,Text,Float,DateTime,Integer,Boolean\n",
    "\n",
    "class LocationEvent(Model):\n",
    "    id = UUID(primary_key=True, default=uuid.uuid4)\n",
    "    name = Text()\n",
    "    robot_id = Integer()\n",
    "    latitude = Float()\n",
    "    longitude = Float()\n",
    "    offset = Float()\n",
    "    accuracy = Float()\n",
    "    event_timestamp = DateTime()\n",
    "sync_table(LocationEvent)"
   ]
  },
  {
   "cell_type": "code",
   "execution_count": 89,
   "metadata": {
    "collapsed": true
   },
   "outputs": [],
   "source": [
    "vals ={'latitude' : random.uniform(1.0, 100.0),'longitude' : random.uniform(1.0, 100.0),\n",
    "                      'offset' : random.uniform(1.0, 100.0),'accuracy' : random.uniform(1.0, 100.0) ,\n",
    "                      'event_timestamp' : datetime.datetime.now(),'name':'ruban','robot_id':1}"
   ]
  },
  {
   "cell_type": "code",
   "execution_count": 97,
   "metadata": {},
   "outputs": [
    {
     "name": "stdout",
     "output_type": "stream",
     "text": [
      "2017-11-30 12:40:55.675968\n"
     ]
    },
    {
     "data": {
      "text/plain": [
       "LocationEvent(id=UUID('905a828a-681e-45cf-8962-9533481b3bfc'), name='ruban', robot_id=1, latitude=58.99049139384182, longitude=65.18455640016447, offset=80.83024446280837, accuracy=43.64987121520386, event_timestamp=datetime.datetime(2017, 11, 30, 12, 40, 55, 675968))"
      ]
     },
     "execution_count": 97,
     "metadata": {},
     "output_type": "execute_result"
    }
   ],
   "source": [
    "create_event(vals)"
   ]
  },
  {
   "cell_type": "code",
   "execution_count": 91,
   "metadata": {
    "collapsed": true
   },
   "outputs": [],
   "source": [
    "def create_event(event):\n",
    "    print event['event_timestamp']\n",
    "    return LocationEvent.create(latitude=event['latitude'],\n",
    "                          robot_id=event['robot_id'],\n",
    "                          longitude=event['longitude'],\n",
    "                          offset=event['offset'],\n",
    "                          accuracy=event['accuracy'],\n",
    "                          name=event['name'],\n",
    "                          event_timestamp=event['event_timestamp'])"
   ]
  },
  {
   "cell_type": "code",
   "execution_count": 14,
   "metadata": {},
   "outputs": [
    {
     "name": "stdout",
     "output_type": "stream",
     "text": [
      "1927\n"
     ]
    }
   ],
   "source": [
    "print LocationEvent().objects().count()\n"
   ]
  },
  {
   "cell_type": "code",
   "execution_count": 13,
   "metadata": {},
   "outputs": [
    {
     "data": {
      "text/plain": [
       "<cassandra.cqlengine.query.ModelQuerySet at 0x7f22d454d2d0>"
      ]
     },
     "execution_count": 13,
     "metadata": {},
     "output_type": "execute_result"
    }
   ],
   "source": [
    "LocationEvent().objects(id=\"a93037a3-0adb-44c4-bec9-38e11ae9c63d\")"
   ]
  },
  {
   "cell_type": "code",
   "execution_count": 11,
   "metadata": {
    "collapsed": true
   },
   "outputs": [],
   "source": [
    "LocationEvent().objects(id=\"a93037a3-0adb-44c4-bec9-38e11ae9c63d\").delete()"
   ]
  },
  {
   "cell_type": "code",
   "execution_count": 98,
   "metadata": {},
   "outputs": [
    {
     "data": {
      "text/plain": [
       "1"
      ]
     },
     "execution_count": 98,
     "metadata": {},
     "output_type": "execute_result"
    }
   ],
   "source": [
    "LocationEvent.objects().allow_filtering().filter(latitude__gt=30).filter(longitude__lt=70).count()"
   ]
  },
  {
   "cell_type": "code",
   "execution_count": 51,
   "metadata": {
    "collapsed": true
   },
   "outputs": [],
   "source": [
    "em1 = ExampleModel.create(example_type=0, description=\"example1\", created_at=datetime.now())"
   ]
  },
  {
   "cell_type": "code",
   "execution_count": 46,
   "metadata": {
    "collapsed": true
   },
   "outputs": [],
   "source": [
    "em1.create?"
   ]
  },
  {
   "cell_type": "code",
   "execution_count": 52,
   "metadata": {},
   "outputs": [
    {
     "name": "stdout",
     "output_type": "stream",
     "text": [
      "None\n",
      "2017-11-30 10:21:52.459000\n",
      "2017-11-30 10:52:57.708000\n",
      "None\n",
      "None\n",
      "2017-11-30 11:33:42.205000\n"
     ]
    }
   ],
   "source": [
    "for res in ExampleModel.objects:\n",
    "    print res.created_at"
   ]
  },
  {
   "cell_type": "code",
   "execution_count": 25,
   "metadata": {},
   "outputs": [
    {
     "data": {
      "text/plain": [
       "2"
      ]
     },
     "execution_count": 25,
     "metadata": {},
     "output_type": "execute_result"
    }
   ],
   "source": [
    "ExampleModel.objects(example_type=0).count()"
   ]
  },
  {
   "cell_type": "code",
   "execution_count": 9,
   "metadata": {
    "collapsed": true
   },
   "outputs": [],
   "source": [
    "cluster = Cluster(['127.0.0.1'],port=19042)"
   ]
  },
  {
   "cell_type": "code",
   "execution_count": null,
   "metadata": {
    "collapsed": true
   },
   "outputs": [],
   "source": []
  },
  {
   "cell_type": "code",
   "execution_count": 10,
   "metadata": {
    "collapsed": true
   },
   "outputs": [],
   "source": [
    "session = cluster.connect()"
   ]
  },
  {
   "cell_type": "code",
   "execution_count": 15,
   "metadata": {},
   "outputs": [
    {
     "data": {
      "text/plain": [
       "<cassandra.cluster.ResultSet at 0x7ffa8c96f310>"
      ]
     },
     "execution_count": 15,
     "metadata": {},
     "output_type": "execute_result"
    }
   ],
   "source": [
    "session.execute(\"USE mydb;\")"
   ]
  },
  {
   "cell_type": "code",
   "execution_count": 17,
   "metadata": {},
   "outputs": [
    {
     "name": "stdout",
     "output_type": "stream",
     "text": [
      "Row(id=UUID('5132b130-ae79-11e4-ab27-0800200c9a66'), name=u'rubanrajchangetwo')\n"
     ]
    }
   ],
   "source": [
    "result = session.execute(\"select * from person;\")\n",
    "for res in result:\n",
    "    print res"
   ]
  }
 ],
 "metadata": {
  "kernelspec": {
   "display_name": "Python 2",
   "language": "python",
   "name": "python2"
  },
  "language_info": {
   "codemirror_mode": {
    "name": "ipython",
    "version": 2
   },
   "file_extension": ".py",
   "mimetype": "text/x-python",
   "name": "python",
   "nbconvert_exporter": "python",
   "pygments_lexer": "ipython2",
   "version": "2.7.14"
  }
 },
 "nbformat": 4,
 "nbformat_minor": 2
}
